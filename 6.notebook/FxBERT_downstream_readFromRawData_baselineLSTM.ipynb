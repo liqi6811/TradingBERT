{
  "cells": [
    {
      "cell_type": "markdown",
      "metadata": {
        "id": "dq_oqA_b1pVi"
      },
      "source": [
        "## 0.Import libraries"
      ]
    },
    {
      "cell_type": "code",
      "execution_count": 38,
      "metadata": {
        "id": "VQszBadJhSdG"
      },
      "outputs": [],
      "source": [
        "import pandas as pd\n",
        "import os, sys\n",
        "import numpy as np\n",
        "from dataclasses import dataclass\n",
        "import random, math, operator\n",
        "from pprint import pprint\n",
        "import pickle, gc, itertools\n",
        "from pathlib import Path\n",
        "import time, datetime\n",
        "from collections import *\n",
        "import matplotlib.pyplot as plt\n",
        "import subprocess\n",
        "from collections import deque\n",
        "\n",
        "from sklearn.metrics import confusion_matrix, accuracy_score, f1_score, precision_score, recall_score, balanced_accuracy_score\n",
        "from sklearn.metrics import precision_recall_fscore_support as score\n",
        "from sklearn.metrics import classification_report\n",
        "from sklearn.preprocessing import MinMaxScaler\n",
        "\n",
        "import tensorflow as tf\n",
        "from tensorflow import keras\n",
        "from tensorflow.keras import layers\n",
        "from tensorflow.keras.models import *\n",
        "from tensorflow.keras.layers import *\n",
        "from tensorflow.keras.optimizers import *\n",
        "from tensorflow.keras.utils import *\n",
        "from keras.layers import LSTM\n",
        "\n",
        "import warnings"
      ]
    },
    {
      "cell_type": "markdown",
      "metadata": {
        "id": "4YlsmjaOELqx"
      },
      "source": [
        "## 1.Setup configuration"
      ]
    },
    {
      "cell_type": "code",
      "execution_count": 39,
      "metadata": {
        "colab": {
          "base_uri": "https://localhost:8080/",
          "height": 35
        },
        "id": "Xw10JOFiBH6c",
        "outputId": "671657da-a748-400f-b5d3-8bc846a8dba0"
      },
      "outputs": [
        {
          "output_type": "execute_result",
          "data": {
            "text/plain": [
              "'FxBERT_downstream_readFromRawData_baselineLSTM.csv'"
            ],
            "application/vnd.google.colaboratory.intrinsic+json": {
              "type": "string"
            }
          },
          "metadata": {},
          "execution_count": 39
        }
      ],
      "source": [
        "from requests import get\n",
        "#colab_filename = get('http://172.28.0.2:9000/api/sessions').json()[0]['name']\n",
        "colab_filename = 'FxBERT_downstream_readFromRawData_baselineLSTM.ipynb'\n",
        "result_filename = colab_filename.replace('.ipynb', '.csv')\n",
        "result_filename"
      ]
    },
    {
      "cell_type": "code",
      "execution_count": 40,
      "metadata": {
        "id": "tsT2zVaJcfut"
      },
      "outputs": [],
      "source": [
        "@dataclass\n",
        "class Config:\n",
        "    BATCH_SIZE = 1024\n",
        "    EMBED_DIM = 128\n",
        "    NUM_HEAD = 8  # used in bert model\n",
        "    FF_DIM = 1024  # used in bert model\n",
        "    NUM_LAYERS = 12\n",
        "    EPOCH = 3 # 10000\n",
        "    SEQLENGTH = 100\n",
        "    CURRENCY ='USD_JPY_M15'\n",
        "    MASK_PERCT = 0.15\n",
        "    maxlen = 100\n",
        "    patience = 30\n",
        "    seqlen = 10\n",
        "    isTrain = True\n",
        "\n",
        "config = Config()"
      ]
    },
    {
      "cell_type": "code",
      "execution_count": 41,
      "metadata": {
        "colab": {
          "base_uri": "https://localhost:8080/"
        },
        "id": "MQhMMnNnFjsc",
        "outputId": "b9c2520c-249c-48f0-abbc-254661d4ba1a"
      },
      "outputs": [
        {
          "output_type": "stream",
          "name": "stdout",
          "text": [
            "Drive already mounted at /content/drive; to attempt to forcibly remount, call drive.mount(\"/content/drive\", force_remount=True).\n"
          ]
        }
      ],
      "source": [
        "from google.colab import drive\n",
        "drive.mount('/content/drive')\n",
        "base_folder = '/content/drive/MyDriveTradingBERT/'\n",
        "\n",
        "\n",
        "gd_rawdata_folder = base_folder + '1.rawData/'\n",
        "gd_ref_folder = base_folder + '2.refData/'\n",
        "gd_processedData_folder = base_folder + '3.processedData/'\n",
        "gd_mdl_folder = base_folder + '4.model/downstream/'+config.CURRENCY+'/'\n",
        "gd_mdl_upstream_folder = base_folder + '4.model/upstream/'\n",
        "gd_result_folder = base_folder + '5.result/'"
      ]
    },
    {
      "cell_type": "code",
      "source": [
        "Path(gd_processedData_folder).mkdir(parents=True, exist_ok=True)\n",
        "Path(gd_ref_folder).mkdir(parents=True, exist_ok=True)\n",
        "Path(gd_mdl_folder).mkdir(parents=True, exist_ok=True)\n",
        "Path(gd_result_folder).mkdir(parents=True, exist_ok=True)\n",
        "# Path(gd_rawdata_folder).mkdir(parents=True, exist_ok=True)"
      ],
      "metadata": {
        "id": "cj8rd3QVh1Z1"
      },
      "execution_count": 42,
      "outputs": []
    },
    {
      "cell_type": "markdown",
      "metadata": {
        "id": "wpxLtLn4UAY9"
      },
      "source": [
        "## 2.Preparation"
      ]
    },
    {
      "cell_type": "markdown",
      "metadata": {
        "id": "8KjYOMm6PhXN"
      },
      "source": [
        "### 2.1 Data preprocessing"
      ]
    },
    {
      "cell_type": "code",
      "source": [
        "def unpickleData(file):\n",
        "    print(\"start processing data ...\")\n",
        "    data_dict = {}\n",
        "\n",
        "    if not os.path.isfile(file):\n",
        "        print(file, \"does not exist.\")\n",
        "    else:\n",
        "        print(file, \"... unpacking ...\")\n",
        "        with open(file, \"rb\") as fp:\n",
        "            unpickler = pickle.Unpickler(fp)\n",
        "            try:\n",
        "                data_dict.update(unpickler.load())\n",
        "            except:\n",
        "                pass\n",
        "            fp.close()\n",
        "\n",
        "    print(\"len(data_dict)\", len(data_dict))\n",
        "    return data_dict\n",
        "\n",
        "refData = unpickleData(os.path.join(gd_ref_folder, config.CURRENCY+'_dictionary_github.txt'))"
      ],
      "metadata": {
        "colab": {
          "base_uri": "https://localhost:8080/"
        },
        "id": "g395lcFEq8vL",
        "outputId": "0eb06c31-2628-4da1-85b0-c09a22b257da"
      },
      "execution_count": 43,
      "outputs": [
        {
          "output_type": "stream",
          "name": "stdout",
          "text": [
            "start processing data ...\n",
            "/content/drive/MyDrive/MyResearch_FT/14.BERT/11.github/TradingBERT/2.refData/USD_JPY_M15_dictionary_github.txt ... unpacking ...\n",
            "len(data_dict) 8\n"
          ]
        }
      ]
    },
    {
      "cell_type": "code",
      "source": [
        "candlestick_vocab_size=len(refData['candlestick_encode_dict'])  # 39083\n",
        "pos_vocab_size=len(refData['pos_decode_dict'])  # 6109\n",
        "direction_vocab_size=len(refData['direction_encode_dict'])   # 7\n",
        "candlepiece_vocab_size=len(refData['candlepiece_encode_dict'])   # 138\n",
        "segment_size=3"
      ],
      "metadata": {
        "id": "rHpPtGxFt1OK"
      },
      "execution_count": 44,
      "outputs": []
    },
    {
      "cell_type": "code",
      "source": [
        "df_raw = pd.read_csv(os.path.join(gd_rawdata_folder, config.CURRENCY+'_200501_202206.csv'))\n",
        "df_raw['datetime'] = pd.to_datetime(df_raw['datetime'], format='%Y-%m-%dT%H:%M:%S.000000000Z')\n",
        "\n",
        "if config.CURRENCY == 'USD_JPY_M15':\n",
        "    pip = 0.01\n",
        "elif config.CURRENCY == 'AUD_USD_M15':\n",
        "    pip = 0.0001\n",
        "elif config.CURRENCY == 'EUR_GBP_M15':\n",
        "    pip = 0.0001\n",
        "else:\n",
        "    print('please check')\n",
        "\n",
        "df_raw['pip'] = pip\n",
        "df_raw['avg'] = df_raw[['open', 'high', 'low', 'close']].mean(axis=1)"
      ],
      "metadata": {
        "id": "gZxdlvDM_kzk"
      },
      "execution_count": 45,
      "outputs": []
    },
    {
      "cell_type": "code",
      "execution_count": 46,
      "metadata": {
        "id": "vODQlTcfBtHc"
      },
      "outputs": [],
      "source": [
        "def getHandL_next_N_window(df, windowSize, pips):\n",
        "    def idx_max(x):\n",
        "        return x.index.values[np.argmax(x.values)]\n",
        "    def idx_min(x):\n",
        "        return x.index.values[np.argmin(x.values)]\n",
        "    df_max_next = df['high'].rolling(windowSize).agg(['max', idx_max]).shift(-1*windowSize)\n",
        "    df_min_next = df['low'].rolling(windowSize).agg(['min', idx_min]).shift(-1*windowSize)\n",
        "    df_merged = pd.concat([df, df_max_next, df_min_next], axis=1)\n",
        "    df_merged = df_merged.rename(columns={'max': 'hh_next_'+str(windowSize), \\\n",
        "                                          'idx_max': 'hh_next_idx_'+str(windowSize), \\\n",
        "                                          'min': 'll_next_'+str(windowSize), \\\n",
        "                                          'idx_min': 'll_next_idx_'+str(windowSize)})\n",
        "\n",
        "    df_merged['hh_diff_'+str(windowSize)]=df_merged.apply(lambda row: (row['hh_next_'+str(windowSize)]-row['close'])/pips, axis=1)\n",
        "    df_merged['ll_diff_'+str(windowSize)]=df_merged.apply(lambda row: (row['close']-row['ll_next_'+str(windowSize)])/pips, axis=1)\n",
        "\n",
        "    return df_merged"
      ]
    },
    {
      "cell_type": "code",
      "execution_count": 47,
      "metadata": {
        "id": "_ILlZYD-BtHk"
      },
      "outputs": [],
      "source": [
        "def get_labels_buy_hold_sell(df, windowSize, pips, pt, sl):\n",
        "    if ('hh_diff_'+str(windowSize) not in list(df.columns)) or ('ll_diff_'+str(windowSize) not in list(df.columns)):\n",
        "        df = getHandL_next_N_window(df, windowSize, pips)\n",
        "\n",
        "    conditions = [\n",
        "        (df['hh_diff_'+str(windowSize)]>pt) & (df['ll_diff_'+str(windowSize)]<sl),\n",
        "        (df['hh_diff_'+str(windowSize)]>pt) & (df['ll_diff_'+str(windowSize)]>sl)\n",
        "                & (df['hh_next_idx_'+str(windowSize)]<df['ll_next_idx_'+str(windowSize)]),\n",
        "        (df['ll_diff_'+str(windowSize)]>pt) & (df['hh_diff_'+str(windowSize)]<sl),\n",
        "        (df['ll_diff_'+str(windowSize)]>pt) & (df['hh_diff_'+str(windowSize)]>sl)\n",
        "                & (df['ll_next_idx_'+str(windowSize)]<df['hh_next_idx_'+str(windowSize)]),\n",
        "    ]\n",
        "    label_dict = {0:'buy', 1:'sell', 2:'hold'}\n",
        "\n",
        "    #labels = ['buy','buy','sell','sell']\n",
        "    labels = [0, 0, 1, 1]\n",
        "    df['label_bhs_ws'+str(windowSize)+'_pt'+str(pt)+'_sl'+str(sl)] = np.select(conditions, labels, default=2) # hold\n",
        "    df.drop(columns=['hh_next_idx_'+str(windowSize), 'll_next_idx_'+str(windowSize), 'hh_diff_'+str(windowSize), 'll_diff_'+str(windowSize)], inplace=True)\n",
        "\n",
        "    return df"
      ]
    },
    {
      "cell_type": "code",
      "execution_count": 48,
      "metadata": {
        "id": "7_9ZJEWWBtHl"
      },
      "outputs": [],
      "source": [
        "%%capture\n",
        "!wget https://launchpad.net/~mario-mariomedina/+archive/ubuntu/talib/+files/libta-lib0_0.4.0-oneiric1_amd64.deb -qO libta.deb\n",
        "!wget https://launchpad.net/~mario-mariomedina/+archive/ubuntu/talib/+files/ta-lib0-dev_0.4.0-oneiric1_amd64.deb -qO ta.deb\n",
        "!dpkg -i libta.deb ta.deb\n",
        "!pip install ta-lib\n",
        "\n",
        "import talib"
      ]
    },
    {
      "cell_type": "code",
      "execution_count": 49,
      "metadata": {
        "id": "ooPrtJhWBtHl"
      },
      "outputs": [],
      "source": [
        "def getTalibIndicators(df):\n",
        "    high = df.high\n",
        "    low = df.low\n",
        "    open = df.open\n",
        "    close = df.close\n",
        "\n",
        "    df['macd'], df['macd_signal'], df['macd_hist'] = talib.MACD(df['close'], 12, 26, 9)\n",
        "\n",
        "    for i in range(10, 50, 10):\n",
        "        df['RSI_'+str(i)] = talib.RSI(close, timeperiod=i)\n",
        "        df['WILLR_'+str(i)] = talib.WILLR(high, low, close, timeperiod=i)\n",
        "        df['EMA_'+str(i)] = talib.EMA(close, timeperiod=i)\n",
        "\n",
        "    return df"
      ]
    },
    {
      "cell_type": "code",
      "execution_count": 50,
      "metadata": {
        "id": "dQ6vO3DDBtHm"
      },
      "outputs": [],
      "source": [
        "def getCandleElements(df_tmp, direction_encode_dict, candlepiece_encode_dict, pos_encode_dict, candlestick_encode_dict):\n",
        "\n",
        "    df_tmp['direction'] = 0\n",
        "    df_tmp.loc[df_tmp['close'] > df_tmp['open'], 'direction'] = 1\n",
        "    df_tmp.loc[df_tmp['close'] < df_tmp['open'], 'direction'] = -1\n",
        "\n",
        "    df_tmp['candle_len'] = abs(df_tmp['close']-df_tmp['open'])/df_tmp['pip']\n",
        "    df_tmp['candle_len'] = df_tmp['candle_len'].apply(lambda r: round(r, 0)).astype(int)\n",
        "\n",
        "    df_tmp['upper_len'] = 0\n",
        "    df_tmp.loc[df_tmp['close'] > df_tmp['open'], 'upper_len'] = abs(df_tmp['high']-df_tmp['close'])/df_tmp['pip']\n",
        "    df_tmp.loc[df_tmp['close'] < df_tmp['open'], 'upper_len'] = abs(df_tmp['high']-df_tmp['open'])/df_tmp['pip']\n",
        "    df_tmp['upper_len'] = df_tmp['upper_len'].apply(lambda r: round(r, 0)).astype(int)\n",
        "\n",
        "    df_tmp['lower_len'] = 0\n",
        "    df_tmp.loc[df_tmp['close'] > df_tmp['open'], 'lower_len'] = abs(df_tmp['low']-df_tmp['open'])/df_tmp['pip']\n",
        "    df_tmp.loc[df_tmp['close'] < df_tmp['open'], 'lower_len'] = abs(df_tmp['low']-df_tmp['close'])/df_tmp['pip']\n",
        "    df_tmp['lower_len'] = df_tmp['lower_len'].apply(lambda r: round(r, 0)).astype(int)\n",
        "\n",
        "    df_tmp['pos_low'] = df_tmp['low']/df_tmp['pip']\n",
        "    df_tmp['pos_low'] = df_tmp['pos_low'].apply(lambda r: round(r, 0)).astype(int)\n",
        "\n",
        "    df_tmp['direction_encoded'] = df_tmp['direction'].apply(lambda row: direction_encode_dict[int(row)])\n",
        "    df_tmp['candle_len_encoded'] = df_tmp['candle_len'].apply(lambda row: candlepiece_encode_dict[int(row)])\n",
        "    df_tmp['upper_len_encoded'] = df_tmp['upper_len'].apply(lambda row: candlepiece_encode_dict[int(row)])\n",
        "    df_tmp['lower_len_encoded'] = df_tmp['lower_len'].apply(lambda row: candlepiece_encode_dict[int(row)])\n",
        "    df_tmp['pos_low_encoded'] = df_tmp['pos_low'].apply(lambda row: pos_encode_dict[int(row)])\n",
        "\n",
        "    def getCandlestickEncoded(row):\n",
        "        key = str([int(i) for i in row[['candle_len', 'upper_len', 'lower_len', 'direction']].values.tolist()])\n",
        "        if key in candlestick_encode_dict.keys():\n",
        "            return candlestick_encode_dict[key]\n",
        "        else:\n",
        "            return 0\n",
        "\n",
        "    df_tmp['candlestick_encoded'] = df_tmp.apply(lambda row: getCandlestickEncoded(row), axis=1)\n",
        "\n",
        "    return df_tmp"
      ]
    },
    {
      "cell_type": "code",
      "execution_count": 51,
      "metadata": {
        "id": "zkS-7zk0BtHm"
      },
      "outputs": [],
      "source": [
        "def data_preprocessing(df,direction_encode_dict, candlepiece_encode_dict, pos_encode_dict, candlestick_encode_dict):\n",
        "    df = getCandleElements(df, direction_encode_dict, candlepiece_encode_dict, pos_encode_dict, candlestick_encode_dict)\n",
        "    df = getTalibIndicators(df)\n",
        "    df = get_labels_buy_hold_sell(df, windowSize=10, pips=pip, pt=10, sl=8)  # 'label_bhs_ws10_pt10_sl8'\n",
        "    return df\n",
        "\n",
        "pos_encode_dict = refData['pos_encode_dict']\n",
        "candlepiece_encode_dict = refData['candlepiece_encode_dict']\n",
        "direction_encode_dict = refData['direction_encode_dict']\n",
        "candlestick_encode_dict = refData['candlestick_encode_dict']\n",
        "\n",
        "df_downstream = data_preprocessing(df_raw, direction_encode_dict, candlepiece_encode_dict, pos_encode_dict, candlestick_encode_dict)\n",
        "df_downstream = df_downstream.tail(len(df_downstream)-50)\n",
        "df_downstream = df_downstream.head(len(df_downstream)-10)\n",
        "df_downstream.reset_index(drop=True, inplace=True)\n",
        "assert df_downstream.isnull().sum().sum() == 0"
      ]
    },
    {
      "cell_type": "code",
      "source": [
        "df_downstream_train = df_downstream[(df_downstream['datetime']>='2020-01-01') & (df_downstream['datetime']<'2022-01-01')]\n",
        "df_downstream_train.reset_index(drop=True, inplace=True)\n",
        "df_downstream_valid = df_downstream[(df_downstream['datetime']>='2022-01-01') & (df_downstream['datetime']<'2022-04-01')]\n",
        "df_downstream_valid.reset_index(drop=True, inplace=True)\n",
        "df_downstream_test = df_downstream[(df_downstream['datetime']>='2022-04-01') & (df_downstream['datetime']<'2022-07-01')]\n",
        "df_downstream_test.reset_index(drop=True, inplace=True)\n",
        "\n",
        "print(len(df_downstream_train), len(df_downstream_valid), len(df_downstream_test))"
      ],
      "metadata": {
        "colab": {
          "base_uri": "https://localhost:8080/"
        },
        "id": "ZmA93w_TDAt_",
        "outputId": "156f11b9-b42a-4f65-aa35-d20e6d4b02cd"
      },
      "execution_count": 52,
      "outputs": [
        {
          "output_type": "stream",
          "name": "stdout",
          "text": [
            "49894 6156 6212\n"
          ]
        }
      ]
    },
    {
      "cell_type": "code",
      "source": [
        "ta_columns = ['macd','macd_signal','macd_hist','RSI_10','WILLR_10','EMA_10','RSI_20','WILLR_20',\n",
        "                'EMA_20','RSI_30','WILLR_30','EMA_30','RSI_40','WILLR_40','EMA_40']\n",
        "pad_token_id = 0\n",
        "masked_token_id = 1\n",
        "startSent_token_id = 2\n",
        "sepSent_token_id = 3\n",
        "\n",
        "def generateSeq4Downstream(df_ds, ds_type, input_type, seqlen, maxlen=config.maxlen):\n",
        "    batch = []\n",
        "    for i in range(len(df_ds)-seqlen):\n",
        "        df_tmp = df_ds.loc[i:i+seqlen-1]\n",
        "        assert len(df_tmp)==seqlen\n",
        "\n",
        "        scaler = MinMaxScaler()\n",
        "\n",
        "        candlestick_encoded = df_tmp[['candlestick_encoded', 'pos_low_encoded', 'direction_encoded',\n",
        "                                    'candle_len_encoded', 'upper_len_encoded', 'lower_len_encoded']].values.tolist()\n",
        "        input_ids = [[startSent_token_id]*6] + candlestick_encoded + [[sepSent_token_id]*6]\n",
        "        segment_ids_3num = [1] * len(input_ids)\n",
        "\n",
        "        n_pad = maxlen - len(input_ids)\n",
        "        input_ids.extend([[pad_token_id]*6] * n_pad)\n",
        "        segment_ids_3num.extend([pad_token_id] * n_pad)\n",
        "\n",
        "        prices5_min = min(df_tmp[['open', 'high', 'low', 'close', 'avg']].min())\n",
        "        prices5_max = max(df_tmp[['open', 'high', 'low', 'close', 'avg']].max())\n",
        "        dt_tmp = [\n",
        "                input_ids,\n",
        "                segment_ids_3num,\n",
        "\n",
        "                df_tmp[['open', 'high', 'low', 'close', 'avg']].values.tolist(),\n",
        "                scaler.fit_transform(df_tmp[['open', 'high', 'low', 'close', 'avg']]),\n",
        "\n",
        "                df_tmp[ta_columns].values.tolist(),\n",
        "                scaler.fit_transform(df_tmp[ta_columns]),\n",
        "\n",
        "                prices5_min,\n",
        "                prices5_max,\n",
        "\n",
        "                df_tmp.tail(1)[['hh_next_10']].values[0][0],\n",
        "                (df_tmp.tail(1)[['hh_next_10']].values[0][0]-prices5_min)/(prices5_max-prices5_min),\n",
        "                df_tmp.tail(1)[['ll_next_10']].values[0][0],\n",
        "                (df_tmp.tail(1)[['ll_next_10']].values[0][0]-prices5_min)/(prices5_max-prices5_min),\n",
        "\n",
        "                df_tmp.tail(1)[['label_bhs_ws10_pt10_sl8']].values[0][0]\n",
        "            ]\n",
        "        batch.append(dt_tmp)\n",
        "\n",
        "    # return batch\n",
        "    batch_transpose = [list(x) for x in list(zip(*batch))]\n",
        "    input_ids = np.array(batch_transpose[0]).astype('int64')\n",
        "    segment_ids_3num = np.array(batch_transpose[1]).astype('int64')\n",
        "    prices5_ori = np.array(batch_transpose[2]).astype('float32')\n",
        "    prices5_scaled = np.array(batch_transpose[3]).astype('float32')\n",
        "    ta_ori = np.array(batch_transpose[4]).astype('float32')\n",
        "    ta_scaled = np.array(batch_transpose[5]).astype('float32')\n",
        "    prices5_min = np.array(batch_transpose[6]).astype('float32')\n",
        "    prices5_max = np.array(batch_transpose[7]).astype('float32')\n",
        "    hh_10_ori = np.array(batch_transpose[8]).astype('float32')\n",
        "    hh_10_scaled = np.array(batch_transpose[9]).astype('float32')\n",
        "    ll_10_ori = np.array(batch_transpose[10]).astype('float32')\n",
        "    ll_10_scaled = np.array(batch_transpose[11]).astype('float32')\n",
        "    label_bhs_ws10_pt10_sl8 = np.array(batch_transpose[12]).astype('int64')\n",
        "\n",
        "    x_input_ids_candle, x_input_ids_pos, x_input_ids_die, x_input_ids_cle, x_input_ids_ule, x_input_ids_lle = \\\n",
        "                        split_arrays = [input_ids[:, :, i] for i in range(input_ids.shape[2])]\n",
        "    x_input_ids_candle, x_input_ids_pos, x_input_ids_die, x_input_ids_cle, x_input_ids_ule, x_input_ids_lle = \\\n",
        "                        split_arrays[0], split_arrays[1], split_arrays[2], split_arrays[3], split_arrays[4], split_arrays[5]\n",
        "\n",
        "    inputs = {}\n",
        "    inputs['input_ids_candle'] = x_input_ids_candle\n",
        "    inputs['input_ids_pos'] = x_input_ids_pos\n",
        "    inputs['input_ids_die'] = x_input_ids_die\n",
        "    inputs['input_ids_cle'] = x_input_ids_cle\n",
        "    inputs['input_ids_ule'] = x_input_ids_ule\n",
        "    inputs['input_ids_lle'] = x_input_ids_lle\n",
        "    inputs['segment_ids'] = segment_ids_3num\n",
        "\n",
        "    if input_type == 'incl_price5':\n",
        "        inputs['prices5_scaled'] = prices5_scaled\n",
        "    elif input_type == 'incl_ta':\n",
        "        inputs['ta_scaled'] = ta_scaled\n",
        "    elif input_type == 'incl_price5_ta':\n",
        "        inputs['prices5_scaled'] = prices5_scaled\n",
        "        inputs['ta_scaled'] = ta_scaled\n",
        "    elif input_type == 'price5_ta':\n",
        "        inputs = {}\n",
        "        inputs['prices5_scaled'] = prices5_scaled\n",
        "        inputs['ta_scaled'] = ta_scaled\n",
        "    elif input_type == 'price5only':\n",
        "        inputs = {}\n",
        "        inputs['prices5_scaled'] = prices5_scaled\n",
        "    elif input_type == 'taonly':\n",
        "        inputs = {}\n",
        "        inputs['ta_scaled'] = ta_scaled\n",
        "    else:\n",
        "        pass\n",
        "\n",
        "    y_hh = hh_10_scaled\n",
        "    y_ll = ll_10_scaled\n",
        "    y_bhs = label_bhs_ws10_pt10_sl8\n",
        "\n",
        "    targets = {}\n",
        "    targets['max_price'] = y_hh\n",
        "    targets['min_price'] = y_ll\n",
        "    targets['label_bhs'] = y_bhs\n",
        "\n",
        "    ref_data = {}\n",
        "    ref_data['max_scale'] = prices5_max\n",
        "    ref_data['min_scale'] = prices5_min\n",
        "    ref_data['max_ori'] = hh_10_ori\n",
        "    ref_data['min_ori'] = ll_10_ori\n",
        "\n",
        "    if ds_type == 'test':\n",
        "        return inputs, targets, ref_data\n",
        "    else:\n",
        "        return inputs, targets"
      ],
      "metadata": {
        "id": "JnusAqY8oz15"
      },
      "execution_count": 53,
      "outputs": []
    },
    {
      "cell_type": "markdown",
      "metadata": {
        "id": "pc8qUoc-z0lJ"
      },
      "source": [
        "### 2.2 Get position encoding"
      ]
    },
    {
      "cell_type": "code",
      "execution_count": 54,
      "metadata": {
        "id": "3xuMme0Jzz61"
      },
      "outputs": [],
      "source": [
        "def get_pos_encoding_matrix(max_len, d_emb):\n",
        "    pos_enc = np.array(\n",
        "        [\n",
        "            [pos / np.power(10000, 2 * (j // 2) / d_emb) for j in range(d_emb)]\n",
        "            if pos != 0\n",
        "            else np.zeros(d_emb)\n",
        "            for pos in range(max_len)\n",
        "        ]\n",
        "    )\n",
        "    pos_enc[1:, 0::2] = np.sin(pos_enc[1:, 0::2])  # dim 2i\n",
        "    pos_enc[1:, 1::2] = np.cos(pos_enc[1:, 1::2])  # dim 2i+1\n",
        "    return pos_enc"
      ]
    },
    {
      "cell_type": "markdown",
      "metadata": {
        "id": "YAn_clT4hUQB"
      },
      "source": [
        "## 3.Evaluation functions"
      ]
    },
    {
      "cell_type": "markdown",
      "metadata": {
        "id": "KiVPXhz_iYNj"
      },
      "source": [
        "### 3.1 Prediction"
      ]
    },
    {
      "cell_type": "code",
      "execution_count": 55,
      "metadata": {
        "id": "6QFs57TWiYNw"
      },
      "outputs": [],
      "source": [
        "def get_predictions_all(mdl, test_dataset):\n",
        "    y_pred_maxprice, y_pred_minprice, y_pred_labelbhs = [], [], []\n",
        "    y_true_maxprice, y_true_minprice, y_true_labelbhs = [], [], []\n",
        "    ref_max_scale, ref_min_scale, maxprice_ori, minprice_ori = [], [], [], []\n",
        "\n",
        "    df_prediction = pd.DataFrame(columns=['y_true_labelbhs', 'y_pred_labelbhs', 'y_true_maxprice', 'y_pred_maxprice', 'maxprice_ori', \\\n",
        "                                          'y_true_minprice', 'y_pred_minprice', 'minprice_ori', 'ref_max_scale', 'ref_min_scale'])\n",
        "\n",
        "    test_inputs = test_dataset[0]\n",
        "    test_targets = test_dataset[1]\n",
        "    ref_data = test_dataset[2]\n",
        "\n",
        "    prediction_maxprice = [item for sublist in mdl.predict(test_inputs)[0].tolist() for item in sublist]\n",
        "    prediction_minprice = [item for sublist in mdl.predict(test_inputs)[1].tolist() for item in sublist]\n",
        "    prediction_labelbhs = mdl.predict(test_inputs)[2].argmax(axis=-1).tolist()\n",
        "\n",
        "    y_pred_maxprice.extend(prediction_maxprice)\n",
        "    y_true_maxprice.extend(test_targets['max_price'])\n",
        "\n",
        "    y_pred_minprice.extend(prediction_minprice)\n",
        "    y_true_minprice.extend(test_targets['min_price'])\n",
        "\n",
        "    y_pred_labelbhs.extend(prediction_labelbhs)\n",
        "    y_true_labelbhs.extend(test_targets['label_bhs'])\n",
        "\n",
        "    ref_max_scale.extend(ref_data['max_scale'])\n",
        "    ref_min_scale.extend(ref_data['min_scale'])\n",
        "    maxprice_ori.extend(ref_data['max_ori'])\n",
        "    minprice_ori.extend(ref_data['min_ori'])\n",
        "\n",
        "    df_prediction['y_true_labelbhs'],  df_prediction['y_pred_labelbhs'] = y_true_labelbhs, y_pred_labelbhs\n",
        "    df_prediction['y_true_maxprice'], df_prediction['y_pred_maxprice'], df_prediction['maxprice_ori'] = y_true_maxprice, y_pred_maxprice, maxprice_ori\n",
        "    df_prediction['y_true_minprice'], df_prediction['y_pred_minprice'], df_prediction['minprice_ori'] = y_true_minprice, y_pred_minprice, minprice_ori\n",
        "    df_prediction['ref_max_scale'], df_prediction['ref_min_scale'] = ref_max_scale, ref_min_scale\n",
        "\n",
        "    df_prediction['maxprice_prediction'] = df_prediction.apply(lambda r: (r['ref_max_scale']-r['ref_min_scale'])*r['y_pred_maxprice']+r['ref_min_scale'], axis=1)\n",
        "    df_prediction['minprice_prediction'] = df_prediction.apply(lambda r: (r['ref_max_scale']-r['ref_min_scale'])*r['y_pred_minprice']+r['ref_min_scale'], axis=1)\n",
        "\n",
        "    return df_prediction"
      ]
    },
    {
      "cell_type": "markdown",
      "metadata": {
        "id": "DNXSfsWQiYNx"
      },
      "source": [
        "### 3.2 Evaluation function for regression model"
      ]
    },
    {
      "cell_type": "code",
      "execution_count": 56,
      "metadata": {
        "id": "y3FWEXSKiYNx"
      },
      "outputs": [],
      "source": [
        "def evaluate_regression_prediction(y_pred, y_true, model_name, printFlag=True):\n",
        "\n",
        "    errors = np.array(y_pred) - np.array(y_true)\n",
        "    mse = np.square(errors).mean()\n",
        "    rmse = np.sqrt(mse)\n",
        "    mae = np.abs(errors).mean()\n",
        "    mape = np.abs(100*errors/y_true).mean()\n",
        "\n",
        "    if printFlag:\n",
        "        print(model_name + ':')\n",
        "        print('Mean Absolute Error: {:.8f}'.format(mae))\n",
        "        print('Mean Absolute Percentage Error: {:.8f}'.format(mape))\n",
        "        print('Mean Square Error: {:.8f}'.format(mse))\n",
        "        print('Root Mean Square Error: {:.8f}'.format(rmse))\n",
        "        print('')\n",
        "\n",
        "    return mae, mape, mse, rmse"
      ]
    },
    {
      "cell_type": "markdown",
      "metadata": {
        "id": "LVsuGiDKiYNy"
      },
      "source": [
        "### 3.3 Evaluation function for classification model"
      ]
    },
    {
      "cell_type": "code",
      "execution_count": 57,
      "metadata": {
        "id": "IgRRPCZ7iYNy"
      },
      "outputs": [],
      "source": [
        "def plot_confusion_matrix(cm, classes, title, normalize=False, cmap=plt.cm.Blues):\n",
        "    if normalize:\n",
        "        cm = cm.astype('float') / cm.sum(axis=1)[:, np.newaxis]\n",
        "        #print(\"Normalized confusion matrix\")\n",
        "    else:\n",
        "        pass\n",
        "        #print('Confusion matrix, without normalization')\n",
        "\n",
        "    plt.rcParams[\"figure.figsize\"] = (10, 10)\n",
        "\n",
        "    plt.imshow(cm, interpolation='nearest', cmap=cmap)\n",
        "    plt.title(title)\n",
        "    plt.colorbar()\n",
        "    tick_marks = np.arange(len(classes))\n",
        "    plt.xticks(tick_marks, classes, rotation=45)\n",
        "    plt.yticks(tick_marks, classes)\n",
        "\n",
        "    fmt = '.2f' if normalize else 'd'\n",
        "    thresh = cm.max() / 2.\n",
        "    for i, j in itertools.product(range(cm.shape[0]), range(cm.shape[1])):\n",
        "        plt.text(j, i, format(cm[i, j], fmt), horizontalalignment=\"center\", color=\"white\" if cm[i, j] > thresh else \"black\")\n",
        "\n",
        "    plt.tight_layout()\n",
        "    plt.ylabel('True label')\n",
        "    plt.xlabel('Predicted label')\n",
        "    # plt.savefig(gd_result_folder+'confusionMatrix/'+title+'.png', bbox_inches = \"tight\")\n",
        "    plt.show()"
      ]
    },
    {
      "cell_type": "code",
      "execution_count": 58,
      "metadata": {
        "id": "nhlsYYFcuGQ-"
      },
      "outputs": [],
      "source": [
        "#dict_classes = {'buy': 0, 'sell': 1, 'hold': 2}\n",
        "#tuple(list(dict_classes.keys()))"
      ]
    },
    {
      "cell_type": "code",
      "execution_count": 59,
      "metadata": {
        "id": "p0DStWuviYNz"
      },
      "outputs": [],
      "source": [
        "def evaluate_classification_prediction(y_pred, y_true, dict_classes, title):\n",
        "\n",
        "    precision, recall, fscore, support = score(y_true, y_pred)\n",
        "    accuracy = accuracy_score(y_true, y_pred)\n",
        "    weighted_accuracy = balanced_accuracy_score(y_true, y_pred)\n",
        "\n",
        "    pred_label = [list(dict_classes.keys())[list(dict_classes.values()).index(l)] for l in y_pred]\n",
        "    actual_label = [list(dict_classes.keys())[list(dict_classes.values()).index(l)] for l in y_true]\n",
        "    print(classification_report(actual_label, pred_label, digits=4))\n",
        "    #print(confusion_matrix(actual_label, pred_label))\n",
        "    plot_confusion_matrix(confusion_matrix(y_true, y_pred), tuple(list(dict_classes.keys())), title)  # tuple(list(set(pred_label)|set(actual_label)))\n",
        "\n",
        "    return accuracy, precision, recall, fscore, support, weighted_accuracy"
      ]
    },
    {
      "cell_type": "markdown",
      "metadata": {
        "id": "kQ7Zg47biYNz"
      },
      "source": [
        "### 3.4 Model evaluation"
      ]
    },
    {
      "cell_type": "code",
      "execution_count": 60,
      "metadata": {
        "id": "YKeeX0XniYNz"
      },
      "outputs": [],
      "source": [
        "if Path(gd_result_folder+result_filename).is_file():\n",
        "    df_result = pd.read_csv(gd_result_folder+result_filename)\n",
        "else:\n",
        "    result_columns = ['datetime', 'currency', 'seq_length', 'masked_percentage', \\\n",
        "                    'model_type', 'model_name', 'monitor_type', 'targetName', 'accuracy', 'weighted average accuracy', 'MAE', 'MAPE', 'MSE', 'RMSE']\n",
        "    df_result = pd.DataFrame(columns=result_columns)"
      ]
    },
    {
      "cell_type": "code",
      "execution_count": 61,
      "metadata": {
        "id": "dHZmckzjiYN0"
      },
      "outputs": [],
      "source": [
        "def model_evaluation(model, modelpath, result_df, downstream_test_ds, seqlen, modelname):\n",
        "    starttime = time.time()\n",
        "    df_pred = get_predictions_all(model, downstream_test_ds)\n",
        "\n",
        "    print(\"get result for seqlen %d label_bhs\" % seqlen)\n",
        "    label_bhs_dict = {'buy': 0, 'sell': 1, 'hold': 2}\n",
        "    accuracy, precision, recall, fscore, support, weighted_accuracy = \\\n",
        "        evaluate_classification_prediction(df_pred['y_pred_labelbhs'].tolist(), df_pred['y_true_labelbhs'].tolist(), label_bhs_dict, modelname)\n",
        "\n",
        "    result_list = [datetime.datetime.now(), config.CURRENCY, config.seqlen, config.MASK_PERCT, \\\n",
        "                modelname, modelpath.replace(gd_mdl_folder, ''), 'val_loss', 'label_bhs', accuracy, weighted_accuracy, np.NaN, np.NaN, np.NaN, np.NaN]\n",
        "    result_df.loc[len(result_df)] = result_list\n",
        "\n",
        "    print(\"get result for seqlen %d maxprice\" % seqlen)\n",
        "    mae, mape, mse, rmse = evaluate_regression_prediction(df_pred['maxprice_prediction'].tolist(), df_pred['maxprice_ori'].tolist(), modelname)\n",
        "    result_list = [datetime.datetime.now(), config.CURRENCY, config.seqlen, config.MASK_PERCT, \\\n",
        "                modelname, modelpath.replace(gd_mdl_folder, ''), 'val_loss', 'max price', np.NaN, np.NaN, mae, mape, mse, rmse]\n",
        "    result_df.loc[len(result_df)] = result_list\n",
        "\n",
        "    print(\"get result for seqlen %d minprice\" % seqlen)\n",
        "    mae, mape, mse, rmse = evaluate_regression_prediction(df_pred['minprice_prediction'].tolist(), df_pred['minprice_ori'].tolist(), modelname)\n",
        "    result_list = [datetime.datetime.now(), config.CURRENCY, config.seqlen, config.MASK_PERCT, \\\n",
        "                    modelname, modelpath.replace(gd_mdl_folder, ''), 'val_loss', 'min price', np.NaN, np.NaN, mae, mape, mse, rmse]\n",
        "    result_df.loc[len(result_df)] = result_list\n",
        "\n",
        "    print(\"total time spent\", time.time()-starttime)\n",
        "    return result_df, df_pred"
      ]
    },
    {
      "cell_type": "markdown",
      "metadata": {
        "id": "GZZz6j3thUQB"
      },
      "source": [
        "### 3.1 Prediction"
      ]
    },
    {
      "cell_type": "markdown",
      "metadata": {
        "id": "n6o_7TFbxpFZ"
      },
      "source": [
        "## 4.Baseline - LSTM"
      ]
    },
    {
      "cell_type": "markdown",
      "metadata": {
        "id": "dkxbPELpZfZz"
      },
      "source": [
        "### 4.1 parameter values"
      ]
    },
    {
      "cell_type": "code",
      "execution_count": 62,
      "metadata": {
        "id": "rhpx9hL_dJmi"
      },
      "outputs": [],
      "source": [
        "seqlen = config.seqlen"
      ]
    },
    {
      "cell_type": "markdown",
      "metadata": {
        "id": "Luf4lp7kZlrK"
      },
      "source": [
        "### 4.2 features - price5(OHLC+avg) + candlestick"
      ]
    },
    {
      "cell_type": "code",
      "source": [
        "downstream_train_incl_price5 = generateSeq4Downstream(df_downstream_train, ds_type=\"train\", input_type=\"incl_price5\", seqlen=config.seqlen)\n",
        "downstream_valid_incl_price5 = generateSeq4Downstream(df_downstream_valid, ds_type=\"valid\", input_type=\"incl_price5\", seqlen=config.seqlen)\n",
        "downstream_test_incl_price5 = generateSeq4Downstream(df_downstream_test, ds_type=\"test\", input_type=\"incl_price5\", seqlen=config.seqlen)"
      ],
      "metadata": {
        "id": "OOkR5mLli1_c"
      },
      "execution_count": 63,
      "outputs": []
    },
    {
      "cell_type": "markdown",
      "metadata": {
        "id": "BPcFSyPaoUj0"
      },
      "source": [
        "#### 4.2.1 build model"
      ]
    },
    {
      "cell_type": "code",
      "execution_count": 64,
      "metadata": {
        "id": "V4apNvYMcSo1"
      },
      "outputs": [],
      "source": [
        "def create_ds_LSTM_price5_candlestick(maxlen, seqlen):\n",
        "    input_wtoken_candle = layers.Input((maxlen,), dtype=tf.int64, name='input_ids_candle')\n",
        "    input_wtoken_pos = layers.Input((maxlen,), dtype=tf.int64, name='input_ids_pos')\n",
        "    input_wtoken_die = layers.Input((maxlen,), dtype=tf.int64, name='input_ids_die')\n",
        "    input_wtoken_cle = layers.Input((maxlen,), dtype=tf.int64, name='input_ids_cle')\n",
        "    input_wtoken_ule = layers.Input((maxlen,), dtype=tf.int64, name='input_ids_ule')\n",
        "    input_wtoken_lle = layers.Input((maxlen,), dtype=tf.int64, name='input_ids_lle')\n",
        "    input_segment = layers.Input((maxlen,), dtype=tf.int64, name='segment_ids')\n",
        "    input_price5 = layers.Input((seqlen,5), dtype=tf.float32, name='prices5_scaled')\n",
        "\n",
        "    wtoken_candle_embeddings = layers.Embedding(candlestick_vocab_size, config.EMBED_DIM, name='wtoken_candle_embedding')(input_wtoken_candle)\n",
        "    wtoken_pos_embeddings = layers.Embedding(pos_vocab_size, config.EMBED_DIM, name='wtoken_pos_embedding')(input_wtoken_pos)\n",
        "    wtoken_die_embeddings = layers.Embedding(direction_vocab_size, config.EMBED_DIM, name='direction_embedding')(input_wtoken_die)\n",
        "    wtoken_cle_embeddings = layers.Embedding(candlepiece_vocab_size, config.EMBED_DIM, name='candlelen_embedding')(input_wtoken_cle)\n",
        "    wtoken_ule_embeddings = layers.Embedding(candlepiece_vocab_size, config.EMBED_DIM, name='upperlen_embedding')(input_wtoken_ule)\n",
        "    wtoken_lle_embeddings = layers.Embedding(candlepiece_vocab_size, config.EMBED_DIM, name='lowerlen_embedding')(input_wtoken_lle)\n",
        "    segment_embeddings = layers.Embedding(segment_size, config.EMBED_DIM, name='segment_embedding')(input_segment)\n",
        "\n",
        "    position_embeddings = layers.Embedding(\n",
        "        input_dim=maxlen,\n",
        "        output_dim=config.EMBED_DIM,\n",
        "        weights=[get_pos_encoding_matrix(maxlen, config.EMBED_DIM)],\n",
        "        name=\"position_embedding\")(tf.range(start=0, limit=maxlen, delta=1))\n",
        "\n",
        "    embeddings = wtoken_candle_embeddings + wtoken_pos_embeddings + position_embeddings + segment_embeddings + \\\n",
        "                    wtoken_die_embeddings + wtoken_cle_embeddings + wtoken_ule_embeddings + wtoken_lle_embeddings\n",
        "\n",
        "    embeddings_output = layers.LSTM(config.EMBED_DIM, activation=\"relu\", return_sequences=False, name='embedding_LSTM')(embeddings)\n",
        "\n",
        "    price5_output = layers.LSTM(config.EMBED_DIM, activation=\"relu\", return_sequences=False, name='price5_scaled_LSTM')(input_price5)\n",
        "\n",
        "    combined_output = layers.Concatenate()([embeddings_output, price5_output])\n",
        "\n",
        "    normalized_output = layers.LayerNormalization(epsilon=1e-6)(combined_output)\n",
        "    regularization_layer = layers.LeakyReLU(alpha=0.1)(normalized_output)\n",
        "    dropout_layer = layers.Dropout(0.1)(regularization_layer)\n",
        "\n",
        "    x1 = layers.Dense(1024, activation=\"relu\")(dropout_layer)\n",
        "    x1 = layers.Dense(1024, activation=\"relu\")(x1)\n",
        "    x1 = layers.Dense(512, activation=\"relu\")(x1)\n",
        "    output_max_price = layers.Dense(1, activation=\"linear\", name='max_price')(x1)\n",
        "\n",
        "    x2 = layers.Dense(1024, activation=\"relu\")(dropout_layer)\n",
        "    x2 = layers.Dense(1024, activation=\"relu\")(x2)\n",
        "    x2 = layers.Dense(512, activation=\"relu\")(x2)\n",
        "    output_min_price = layers.Dense(1, activation=\"linear\", name='min_price')(x2)\n",
        "\n",
        "    x3 = layers.Dense(1024, activation=\"relu\")(dropout_layer)\n",
        "    x3 = layers.Dense(1024, activation=\"relu\")(x3)\n",
        "    x3 = layers.Dense(512, activation=\"relu\")(x3)\n",
        "    output_label_bhs = layers.Dense(3, activation=\"softmax\", name='label_bhs')(x3)\n",
        "\n",
        "    model = keras.Model(\n",
        "            inputs=[input_wtoken_candle, input_wtoken_pos, input_wtoken_die, input_wtoken_cle, input_wtoken_ule, input_wtoken_lle, input_segment, input_price5],\n",
        "            outputs=[output_max_price, output_min_price, output_label_bhs])\n",
        "\n",
        "    return model"
      ]
    },
    {
      "cell_type": "markdown",
      "metadata": {
        "id": "VqYll8zPxvWY"
      },
      "source": [
        "#### 4.2.2 Train model"
      ]
    },
    {
      "cell_type": "code",
      "execution_count": 66,
      "metadata": {
        "colab": {
          "base_uri": "https://localhost:8080/"
        },
        "id": "mUXltvftxuuU",
        "outputId": "6b938e29-f29c-48ab-9f9a-52d4cc9c4aa4"
      },
      "outputs": [
        {
          "output_type": "stream",
          "name": "stderr",
          "text": [
            "WARNING:tensorflow:Layer embedding_LSTM will not use cuDNN kernels since it doesn't meet the criteria. It will use a generic GPU kernel as fallback when running on GPU.\n",
            "WARNING:tensorflow:Layer price5_scaled_LSTM will not use cuDNN kernels since it doesn't meet the criteria. It will use a generic GPU kernel as fallback when running on GPU.\n"
          ]
        },
        {
          "output_type": "stream",
          "name": "stdout",
          "text": [
            "Epoch 1/3\n",
            "49/49 [==============================] - 31s 366ms/step - loss: 2.6586 - max_price_loss: 0.9906 - min_price_loss: 0.5840 - label_bhs_loss: 1.0840 - max_price_root_mean_squared_error: 0.9953 - min_price_root_mean_squared_error: 0.7642 - label_bhs_accuracy: 0.4244 - val_loss: 2.2947 - val_max_price_loss: 0.5959 - val_min_price_loss: 0.5657 - val_label_bhs_loss: 1.1332 - val_max_price_root_mean_squared_error: 0.7719 - val_min_price_root_mean_squared_error: 0.7521 - val_label_bhs_accuracy: 0.3038\n",
            "Epoch 2/3\n",
            "49/49 [==============================] - 13s 269ms/step - loss: 2.1858 - max_price_loss: 0.5454 - min_price_loss: 0.5602 - label_bhs_loss: 1.0802 - max_price_root_mean_squared_error: 0.7385 - min_price_root_mean_squared_error: 0.7485 - label_bhs_accuracy: 0.4287 - val_loss: 2.2649 - val_max_price_loss: 0.5949 - val_min_price_loss: 0.5455 - val_label_bhs_loss: 1.1245 - val_max_price_root_mean_squared_error: 0.7713 - val_min_price_root_mean_squared_error: 0.7386 - val_label_bhs_accuracy: 0.3038\n",
            "Epoch 3/3\n",
            "49/49 [==============================] - 11s 220ms/step - loss: 2.1617 - max_price_loss: 0.5358 - min_price_loss: 0.5458 - label_bhs_loss: 1.0801 - max_price_root_mean_squared_error: 0.7320 - min_price_root_mean_squared_error: 0.7388 - label_bhs_accuracy: 0.4287 - val_loss: 2.2482 - val_max_price_loss: 0.5929 - val_min_price_loss: 0.5329 - val_label_bhs_loss: 1.1224 - val_max_price_root_mean_squared_error: 0.7700 - val_min_price_root_mean_squared_error: 0.7300 - val_label_bhs_accuracy: 0.3038\n"
          ]
        },
        {
          "output_type": "stream",
          "name": "stderr",
          "text": [
            "/usr/local/lib/python3.10/dist-packages/keras/src/engine/training.py:3079: UserWarning: You are saving your model as an HDF5 file via `model.save()`. This file format is considered legacy. We recommend using instead the native Keras format, e.g. `model.save('my_model.keras')`.\n",
            "  saving_api.save_model(\n"
          ]
        }
      ],
      "source": [
        "savepath_model = \\\n",
        "    gd_mdl_folder+'ds_price5_candlestick_seqlen'+str(seqlen)+'_'+colab_filename.replace('.ipynb', '.h5')\n",
        "savepath_model_weights = savepath_model.replace('.h5', '_weights.h5')\n",
        "savepath_model_checkpoint = savepath_model_weights.replace('.h5', '_cp.h5')\n",
        "\n",
        "checkpoint_cb = tf.keras.callbacks.ModelCheckpoint(savepath_model_checkpoint, monitor=\"val_loss\", verbose=0, mode=\"min\",\n",
        "                                                        save_best_only=True, save_weights_only=True, save_freq=\"epoch\" )\n",
        "early_stop = tf.keras.callbacks.EarlyStopping(monitor=\"val_loss\", patience=config.patience, verbose=1, mode=\"min\", restore_best_weights=True)\n",
        "\n",
        "model = create_ds_LSTM_price5_candlestick(config.maxlen, seqlen)\n",
        "\n",
        "model.compile(\n",
        "    optimizer=keras.optimizers.Adam(learning_rate=0.00001),\n",
        "    loss={\n",
        "            \"max_price\": keras.losses.MeanSquaredError(),\n",
        "            \"min_price\": keras.losses.MeanSquaredError(),\n",
        "            \"label_bhs\": keras.losses.SparseCategoricalCrossentropy(),\n",
        "        },\n",
        "    metrics={\n",
        "            \"max_price\": tf.keras.metrics.RootMeanSquaredError(),\n",
        "            \"min_price\": tf.keras.metrics.RootMeanSquaredError(),\n",
        "            \"label_bhs\": 'accuracy',\n",
        "        }\n",
        "    )\n",
        "\n",
        "model.fit(\n",
        "            x=downstream_train_incl_price5[0], y=downstream_train_incl_price5[1],\n",
        "            epochs=config.EPOCH,\n",
        "            validation_data=downstream_valid_incl_price5,\n",
        "            batch_size=config.BATCH_SIZE,\n",
        "            callbacks=[checkpoint_cb, early_stop]\n",
        "        )\n",
        "\n",
        "model.save(savepath_model)\n",
        "model.save_weights(savepath_model_weights)"
      ]
    },
    {
      "cell_type": "markdown",
      "metadata": {
        "id": "S9xwBQqJUUV6"
      },
      "source": [
        "#### 4.2.3 Test result"
      ]
    },
    {
      "cell_type": "code",
      "source": [
        "df_result, _ = model_evaluation(model, savepath_model, df_result, downstream_test_incl_price5, config.seqlen, modelname='price5_candlestick_seqlen'+str(seqlen))\n",
        "\n",
        "df_result.to_csv(gd_result_folder+result_filename, index=False)"
      ],
      "metadata": {
        "colab": {
          "base_uri": "https://localhost:8080/",
          "height": 1000
        },
        "id": "JDR_QOL0jnDD",
        "outputId": "5fc6a7a4-18e9-4fcf-8393-e0d7ee570281"
      },
      "execution_count": 67,
      "outputs": [
        {
          "output_type": "stream",
          "name": "stdout",
          "text": [
            "194/194 [==============================] - 4s 18ms/step\n",
            "194/194 [==============================] - 4s 18ms/step\n",
            "194/194 [==============================] - 4s 18ms/step\n",
            "get result for seqlen 10 label_bhs\n",
            "              precision    recall  f1-score   support\n",
            "\n",
            "         buy     0.0000    0.0000    0.0000      2703\n",
            "        hold     0.1662    1.0000    0.2851      1031\n",
            "        sell     0.0000    0.0000    0.0000      2468\n",
            "\n",
            "    accuracy                         0.1662      6202\n",
            "   macro avg     0.0554    0.3333    0.0950      6202\n",
            "weighted avg     0.0276    0.1662    0.0474      6202\n",
            "\n"
          ]
        },
        {
          "output_type": "stream",
          "name": "stderr",
          "text": [
            "/usr/local/lib/python3.10/dist-packages/sklearn/metrics/_classification.py:1344: UndefinedMetricWarning: Precision and F-score are ill-defined and being set to 0.0 in labels with no predicted samples. Use `zero_division` parameter to control this behavior.\n",
            "  _warn_prf(average, modifier, msg_start, len(result))\n",
            "/usr/local/lib/python3.10/dist-packages/sklearn/metrics/_classification.py:1344: UndefinedMetricWarning: Precision and F-score are ill-defined and being set to 0.0 in labels with no predicted samples. Use `zero_division` parameter to control this behavior.\n",
            "  _warn_prf(average, modifier, msg_start, len(result))\n",
            "/usr/local/lib/python3.10/dist-packages/sklearn/metrics/_classification.py:1344: UndefinedMetricWarning: Precision and F-score are ill-defined and being set to 0.0 in labels with no predicted samples. Use `zero_division` parameter to control this behavior.\n",
            "  _warn_prf(average, modifier, msg_start, len(result))\n",
            "/usr/local/lib/python3.10/dist-packages/sklearn/metrics/_classification.py:1344: UndefinedMetricWarning: Precision and F-score are ill-defined and being set to 0.0 in labels with no predicted samples. Use `zero_division` parameter to control this behavior.\n",
            "  _warn_prf(average, modifier, msg_start, len(result))\n"
          ]
        },
        {
          "output_type": "display_data",
          "data": {
            "text/plain": [
              "<Figure size 1000x1000 with 2 Axes>"
            ],
            "image/png": "[encoded data removed]"
          },
          "metadata": {}
        },
        {
          "output_type": "stream",
          "name": "stdout",
          "text": [
            "get result for seqlen 10 maxprice\n",
            "price5_candlestick_seqlen10:\n",
            "Mean Absolute Error: 0.16954509\n",
            "Mean Absolute Percentage Error: 0.13019952\n",
            "Mean Square Error: 0.05688828\n",
            "Root Mean Square Error: 0.23851265\n",
            "\n",
            "get result for seqlen 10 minprice\n",
            "price5_candlestick_seqlen10:\n",
            "Mean Absolute Error: 0.17870855\n",
            "Mean Absolute Percentage Error: 0.13767115\n",
            "Mean Square Error: 0.06257172\n",
            "Root Mean Square Error: 0.25014339\n",
            "\n",
            "total time spent 12.597973346710205\n"
          ]
        }
      ]
    },
    {
      "cell_type": "code",
      "source": [
        "del downstream_train_incl_price5, downstream_valid_incl_price5, downstream_test_incl_price5\n",
        "gc.collect()"
      ],
      "metadata": {
        "colab": {
          "base_uri": "https://localhost:8080/"
        },
        "id": "-MXdHZwLkAuS",
        "outputId": "0cb4e3fd-48c1-4b7c-df99-5e1633bd346d"
      },
      "execution_count": 68,
      "outputs": [
        {
          "output_type": "execute_result",
          "data": {
            "text/plain": [
              "1735867"
            ]
          },
          "metadata": {},
          "execution_count": 68
        }
      ]
    },
    {
      "cell_type": "markdown",
      "metadata": {
        "id": "BGLb3frfysod"
      },
      "source": [
        "### 4.3 features - price5(OHLC+avg) + TA + candlestick"
      ]
    },
    {
      "cell_type": "code",
      "source": [
        "downstream_train_incl_price5_ta = generateSeq4Downstream(df_downstream_train, ds_type=\"train\", input_type=\"incl_price5_ta\", seqlen=config.seqlen)\n",
        "downstream_valid_incl_price5_ta = generateSeq4Downstream(df_downstream_valid, ds_type=\"valid\", input_type=\"incl_price5_ta\", seqlen=config.seqlen)\n",
        "downstream_test_incl_price5_ta = generateSeq4Downstream(df_downstream_test, ds_type=\"test\", input_type=\"incl_price5_ta\", seqlen=config.seqlen)"
      ],
      "metadata": {
        "id": "0UTK7eYUj9f-"
      },
      "execution_count": 69,
      "outputs": []
    },
    {
      "cell_type": "markdown",
      "metadata": {
        "id": "v4vqb_loyzuH"
      },
      "source": [
        "#### 4.3.1 Build model"
      ]
    },
    {
      "cell_type": "code",
      "execution_count": 70,
      "metadata": {
        "id": "xsAR0jeXfZrd"
      },
      "outputs": [],
      "source": [
        "def create_ds_LSTM_price5_TA_candlestick(maxlen, seqlen):\n",
        "    input_wtoken_candle = layers.Input((maxlen,), dtype=tf.int64, name='input_ids_candle')\n",
        "    input_wtoken_pos = layers.Input((maxlen,), dtype=tf.int64, name='input_ids_pos')\n",
        "    input_wtoken_die = layers.Input((maxlen,), dtype=tf.int64, name='input_ids_die')\n",
        "    input_wtoken_cle = layers.Input((maxlen,), dtype=tf.int64, name='input_ids_cle')\n",
        "    input_wtoken_ule = layers.Input((maxlen,), dtype=tf.int64, name='input_ids_ule')\n",
        "    input_wtoken_lle = layers.Input((maxlen,), dtype=tf.int64, name='input_ids_lle')\n",
        "    input_segment = layers.Input((maxlen,), dtype=tf.int64, name='segment_ids')\n",
        "    input_price5 = layers.Input((seqlen,5), dtype=tf.float32, name='prices5_scaled')\n",
        "    input_TA = layers.Input((seqlen, 15), dtype=tf.float32, name='ta_scaled')\n",
        "\n",
        "    wtoken_candle_embeddings = layers.Embedding(candlestick_vocab_size, config.EMBED_DIM, name='wtoken_candle_embedding')(input_wtoken_candle)\n",
        "    wtoken_pos_embeddings = layers.Embedding(pos_vocab_size, config.EMBED_DIM, name='wtoken_pos_embedding')(input_wtoken_pos)\n",
        "    wtoken_die_embeddings = layers.Embedding(direction_vocab_size, config.EMBED_DIM, name='direction_embedding')(input_wtoken_die)\n",
        "    wtoken_cle_embeddings = layers.Embedding(candlepiece_vocab_size, config.EMBED_DIM, name='candlelen_embedding')(input_wtoken_cle)\n",
        "    wtoken_ule_embeddings = layers.Embedding(candlepiece_vocab_size, config.EMBED_DIM, name='upperlen_embedding')(input_wtoken_ule)\n",
        "    wtoken_lle_embeddings = layers.Embedding(candlepiece_vocab_size, config.EMBED_DIM, name='lowerlen_embedding')(input_wtoken_lle)\n",
        "    segment_embeddings = layers.Embedding(segment_size, config.EMBED_DIM, name='segment_embedding')(input_segment)\n",
        "\n",
        "    position_embeddings = layers.Embedding(\n",
        "        input_dim=maxlen,\n",
        "        output_dim=config.EMBED_DIM,\n",
        "        weights=[get_pos_encoding_matrix(maxlen, config.EMBED_DIM)],\n",
        "        name=\"position_embedding\")(tf.range(start=0, limit=maxlen, delta=1))\n",
        "\n",
        "    embeddings = wtoken_candle_embeddings + wtoken_pos_embeddings + position_embeddings + segment_embeddings + \\\n",
        "                    wtoken_die_embeddings + wtoken_cle_embeddings + wtoken_ule_embeddings + wtoken_lle_embeddings\n",
        "\n",
        "    embeddings_output = layers.LSTM(config.EMBED_DIM, activation=\"relu\", return_sequences=False, name='embedding_LSTM')(embeddings)\n",
        "\n",
        "    price5_output = layers.LSTM(config.EMBED_DIM, activation=\"relu\", return_sequences=False, name='price5_scaled_LSTM')(input_price5)\n",
        "\n",
        "    TA_output = layers.LSTM(config.EMBED_DIM, activation=\"relu\", return_sequences=False, name='ta_scaled_LSTM')(input_TA)\n",
        "\n",
        "    combined_output = layers.Concatenate()([embeddings_output, price5_output, TA_output])\n",
        "\n",
        "    normalized_output = layers.LayerNormalization(epsilon=1e-6)(combined_output)\n",
        "    regularization_layer = layers.LeakyReLU(alpha=0.1)(normalized_output)\n",
        "    dropout_layer = layers.Dropout(0.1)(regularization_layer)\n",
        "\n",
        "    x1 = layers.Dense(1024, activation=\"relu\")(dropout_layer)\n",
        "    x1 = layers.Dense(1024, activation=\"relu\")(x1)\n",
        "    x1 = layers.Dense(512, activation=\"relu\")(x1)\n",
        "    output_max_price = layers.Dense(1, activation=\"linear\", name='max_price')(x1)\n",
        "\n",
        "    x2 = layers.Dense(1024, activation=\"relu\")(dropout_layer)\n",
        "    x2 = layers.Dense(1024, activation=\"relu\")(x2)\n",
        "    x2 = layers.Dense(512, activation=\"relu\")(x2)\n",
        "    output_min_price = layers.Dense(1, activation=\"linear\", name='min_price')(x2)\n",
        "\n",
        "    x3 = layers.Dense(1024, activation=\"relu\")(dropout_layer)\n",
        "    x3 = layers.Dense(1024, activation=\"relu\")(x3)\n",
        "    x3 = layers.Dense(512, activation=\"relu\")(x3)\n",
        "    output_label_bhs = layers.Dense(3, activation=\"softmax\", name='label_bhs')(x3)\n",
        "\n",
        "    model = keras.Model(\n",
        "            inputs=[input_wtoken_candle, input_wtoken_pos, input_wtoken_die, input_wtoken_cle, input_wtoken_ule, input_wtoken_lle, input_segment, input_price5, input_TA],\n",
        "            outputs=[output_max_price, output_min_price, output_label_bhs])\n",
        "\n",
        "    return model"
      ]
    },
    {
      "cell_type": "markdown",
      "metadata": {
        "id": "W17o75tqy5Iv"
      },
      "source": [
        "#### 4.3.2 Train model"
      ]
    },
    {
      "cell_type": "code",
      "execution_count": 71,
      "metadata": {
        "colab": {
          "base_uri": "https://localhost:8080/"
        },
        "id": "mgpPSoZzyzAs",
        "outputId": "337ad898-3bd9-4138-ae16-e8cd2403ed9a"
      },
      "outputs": [
        {
          "output_type": "stream",
          "name": "stderr",
          "text": [
            "WARNING:tensorflow:Layer embedding_LSTM will not use cuDNN kernels since it doesn't meet the criteria. It will use a generic GPU kernel as fallback when running on GPU.\n",
            "WARNING:tensorflow:Layer price5_scaled_LSTM will not use cuDNN kernels since it doesn't meet the criteria. It will use a generic GPU kernel as fallback when running on GPU.\n",
            "WARNING:tensorflow:Layer ta_scaled_LSTM will not use cuDNN kernels since it doesn't meet the criteria. It will use a generic GPU kernel as fallback when running on GPU.\n"
          ]
        },
        {
          "output_type": "stream",
          "name": "stdout",
          "text": [
            "Epoch 1/3\n",
            "49/49 [==============================] - 26s 386ms/step - loss: 2.8538 - max_price_loss: 1.1722 - min_price_loss: 0.5722 - label_bhs_loss: 1.1094 - max_price_root_mean_squared_error: 1.0827 - min_price_root_mean_squared_error: 0.7564 - label_bhs_accuracy: 0.4005 - val_loss: 2.2555 - val_max_price_loss: 0.5881 - val_min_price_loss: 0.5340 - val_label_bhs_loss: 1.1334 - val_max_price_root_mean_squared_error: 0.7668 - val_min_price_root_mean_squared_error: 0.7308 - val_label_bhs_accuracy: 0.3038\n",
            "Epoch 2/3\n",
            "49/49 [==============================] - 15s 304ms/step - loss: 2.1523 - max_price_loss: 0.5327 - min_price_loss: 0.5394 - label_bhs_loss: 1.0802 - max_price_root_mean_squared_error: 0.7299 - min_price_root_mean_squared_error: 0.7344 - label_bhs_accuracy: 0.4286 - val_loss: 2.2314 - val_max_price_loss: 0.5881 - val_min_price_loss: 0.5218 - val_label_bhs_loss: 1.1215 - val_max_price_root_mean_squared_error: 0.7669 - val_min_price_root_mean_squared_error: 0.7223 - val_label_bhs_accuracy: 0.3038\n",
            "Epoch 3/3\n",
            "49/49 [==============================] - 12s 254ms/step - loss: 2.1277 - max_price_loss: 0.5178 - min_price_loss: 0.5306 - label_bhs_loss: 1.0793 - max_price_root_mean_squared_error: 0.7196 - min_price_root_mean_squared_error: 0.7284 - label_bhs_accuracy: 0.4286 - val_loss: 2.2275 - val_max_price_loss: 0.5848 - val_min_price_loss: 0.5192 - val_label_bhs_loss: 1.1236 - val_max_price_root_mean_squared_error: 0.7647 - val_min_price_root_mean_squared_error: 0.7205 - val_label_bhs_accuracy: 0.3038\n"
          ]
        },
        {
          "output_type": "stream",
          "name": "stderr",
          "text": [
            "/usr/local/lib/python3.10/dist-packages/keras/src/engine/training.py:3079: UserWarning: You are saving your model as an HDF5 file via `model.save()`. This file format is considered legacy. We recommend using instead the native Keras format, e.g. `model.save('my_model.keras')`.\n",
            "  saving_api.save_model(\n"
          ]
        }
      ],
      "source": [
        "savepath_model = \\\n",
        "    gd_mdl_folder+'ds_price5_TA_candlestick_seqlen'+str(seqlen)+'_'+colab_filename.replace('.ipynb', '.h5')\n",
        "savepath_model_weights = savepath_model.replace('.h5', '_weights.h5')\n",
        "savepath_model_checkpoint = savepath_model_weights.replace('.h5', '_cp.h5')\n",
        "\n",
        "checkpoint_cb = tf.keras.callbacks.ModelCheckpoint(savepath_model_checkpoint, monitor=\"val_loss\", verbose=0, mode=\"min\",\n",
        "                                                        save_best_only=True, save_weights_only=True, save_freq=\"epoch\" )\n",
        "early_stop = tf.keras.callbacks.EarlyStopping(monitor=\"val_loss\", patience=config.patience, verbose=1, mode=\"min\", restore_best_weights=True)\n",
        "\n",
        "model = create_ds_LSTM_price5_TA_candlestick(config.maxlen, seqlen)\n",
        "#model.summary()\n",
        "\n",
        "model.compile(\n",
        "    optimizer=keras.optimizers.Adam(learning_rate=0.00001),\n",
        "    loss={\n",
        "            \"max_price\": keras.losses.MeanSquaredError(),\n",
        "            \"min_price\": keras.losses.MeanSquaredError(),\n",
        "            \"label_bhs\": keras.losses.SparseCategoricalCrossentropy(),\n",
        "        },\n",
        "    metrics={\n",
        "            \"max_price\": tf.keras.metrics.RootMeanSquaredError(),\n",
        "            \"min_price\": tf.keras.metrics.RootMeanSquaredError(),\n",
        "            \"label_bhs\": 'accuracy',\n",
        "        }\n",
        "    )\n",
        "model.fit(\n",
        "            x=downstream_train_incl_price5_ta[0], y=downstream_train_incl_price5_ta[1],\n",
        "            epochs=config.EPOCH,\n",
        "            validation_data=downstream_valid_incl_price5_ta,\n",
        "            batch_size=config.BATCH_SIZE,\n",
        "            callbacks=[checkpoint_cb, early_stop]\n",
        "        )\n",
        "\n",
        "model.save(savepath_model)\n",
        "model.save_weights(savepath_model_weights)"
      ]
    },
    {
      "cell_type": "markdown",
      "metadata": {
        "id": "lHA5N8_IUhhg"
      },
      "source": [
        "#### 4.3.3 Test result"
      ]
    },
    {
      "cell_type": "code",
      "source": [
        "df_result, _ = model_evaluation(model, savepath_model, df_result, downstream_test_incl_price5_ta, config.seqlen, modelname='price5_TA_candlestick_seqlen'+str(seqlen))\n",
        "\n",
        "df_result.to_csv(gd_result_folder+result_filename, index=False)"
      ],
      "metadata": {
        "colab": {
          "base_uri": "https://localhost:8080/",
          "height": 1000
        },
        "id": "Qgsepu8qkQvr",
        "outputId": "617e31fa-a70d-4f4e-ef3f-542b3039d684"
      },
      "execution_count": 72,
      "outputs": [
        {
          "output_type": "stream",
          "name": "stdout",
          "text": [
            "194/194 [==============================] - 4s 19ms/step\n",
            "194/194 [==============================] - 4s 19ms/step\n",
            "194/194 [==============================] - 4s 20ms/step\n",
            "get result for seqlen 10 label_bhs\n",
            "              precision    recall  f1-score   support\n",
            "\n",
            "         buy     0.0000    0.0000    0.0000      2703\n",
            "        hold     0.1662    1.0000    0.2851      1031\n",
            "        sell     0.0000    0.0000    0.0000      2468\n",
            "\n",
            "    accuracy                         0.1662      6202\n",
            "   macro avg     0.0554    0.3333    0.0950      6202\n",
            "weighted avg     0.0276    0.1662    0.0474      6202\n",
            "\n"
          ]
        },
        {
          "output_type": "stream",
          "name": "stderr",
          "text": [
            "/usr/local/lib/python3.10/dist-packages/sklearn/metrics/_classification.py:1344: UndefinedMetricWarning: Precision and F-score are ill-defined and being set to 0.0 in labels with no predicted samples. Use `zero_division` parameter to control this behavior.\n",
            "  _warn_prf(average, modifier, msg_start, len(result))\n",
            "/usr/local/lib/python3.10/dist-packages/sklearn/metrics/_classification.py:1344: UndefinedMetricWarning: Precision and F-score are ill-defined and being set to 0.0 in labels with no predicted samples. Use `zero_division` parameter to control this behavior.\n",
            "  _warn_prf(average, modifier, msg_start, len(result))\n",
            "/usr/local/lib/python3.10/dist-packages/sklearn/metrics/_classification.py:1344: UndefinedMetricWarning: Precision and F-score are ill-defined and being set to 0.0 in labels with no predicted samples. Use `zero_division` parameter to control this behavior.\n",
            "  _warn_prf(average, modifier, msg_start, len(result))\n",
            "/usr/local/lib/python3.10/dist-packages/sklearn/metrics/_classification.py:1344: UndefinedMetricWarning: Precision and F-score are ill-defined and being set to 0.0 in labels with no predicted samples. Use `zero_division` parameter to control this behavior.\n",
            "  _warn_prf(average, modifier, msg_start, len(result))\n"
          ]
        },
        {
          "output_type": "display_data",
          "data": {
            "text/plain": [
              "<Figure size 1000x1000 with 2 Axes>"
            ],
            "image/png": "[encoded data removed]"
          },
          "metadata": {}
        },
        {
          "output_type": "stream",
          "name": "stdout",
          "text": [
            "get result for seqlen 10 maxprice\n",
            "price5_TA_candlestick_seqlen10:\n",
            "Mean Absolute Error: 0.15879668\n",
            "Mean Absolute Percentage Error: 0.12197704\n",
            "Mean Square Error: 0.04918600\n",
            "Root Mean Square Error: 0.22177918\n",
            "\n",
            "get result for seqlen 10 minprice\n",
            "price5_TA_candlestick_seqlen10:\n",
            "Mean Absolute Error: 0.16438216\n",
            "Mean Absolute Percentage Error: 0.12663227\n",
            "Mean Square Error: 0.05665464\n",
            "Root Mean Square Error: 0.23802235\n",
            "\n",
            "total time spent 13.364916563034058\n"
          ]
        }
      ]
    },
    {
      "cell_type": "code",
      "source": [
        "del downstream_train_incl_price5_ta, downstream_valid_incl_price5_ta, downstream_test_incl_price5_ta\n",
        "gc.collect()"
      ],
      "metadata": {
        "colab": {
          "base_uri": "https://localhost:8080/"
        },
        "id": "jxH3iwNMkYNr",
        "outputId": "47abd635-27bc-480b-c7c7-296abb6b3e3a"
      },
      "execution_count": 73,
      "outputs": [
        {
          "output_type": "execute_result",
          "data": {
            "text/plain": [
              "59201"
            ]
          },
          "metadata": {},
          "execution_count": 73
        }
      ]
    },
    {
      "cell_type": "markdown",
      "metadata": {
        "id": "fcNrojEV_qYP"
      },
      "source": [
        "### 4.4 features - price5(OHLC+avg) + TA"
      ]
    },
    {
      "cell_type": "code",
      "source": [
        "downstream_train_price5_ta = generateSeq4Downstream(df_downstream_train, ds_type=\"train\", input_type=\"price5_ta\", seqlen=config.seqlen)\n",
        "downstream_valid_price5_ta = generateSeq4Downstream(df_downstream_valid, ds_type=\"valid\", input_type=\"price5_ta\", seqlen=config.seqlen)\n",
        "downstream_test_price5_ta = generateSeq4Downstream(df_downstream_test, ds_type=\"test\", input_type=\"price5_ta\", seqlen=config.seqlen)"
      ],
      "metadata": {
        "id": "79s-XwxElkPi"
      },
      "execution_count": 74,
      "outputs": []
    },
    {
      "cell_type": "markdown",
      "metadata": {
        "id": "ol0-KkeY_qYR"
      },
      "source": [
        "#### 4.4.1 Build model"
      ]
    },
    {
      "cell_type": "code",
      "execution_count": 75,
      "metadata": {
        "id": "_h90hlpH_qYR"
      },
      "outputs": [],
      "source": [
        "def create_ds_LSTM_price5_TA(maxlen, seqlen):\n",
        "    input_price5 = layers.Input((seqlen,5), dtype=tf.float32, name='prices5_scaled')\n",
        "    input_TA = layers.Input((seqlen, 15), dtype=tf.float32, name='ta_scaled')\n",
        "\n",
        "    price5_output = layers.LSTM(config.EMBED_DIM, activation=\"relu\", return_sequences=False, name='price5_scaled_LSTM')(input_price5)\n",
        "\n",
        "    TA_output = layers.LSTM(config.EMBED_DIM, activation=\"relu\", return_sequences=False, name='ta_scaled_LSTM')(input_TA)\n",
        "\n",
        "    combined_output = layers.Concatenate()([price5_output, TA_output])\n",
        "\n",
        "    normalized_output = layers.LayerNormalization(epsilon=1e-6)(combined_output)\n",
        "    regularization_layer = layers.LeakyReLU(alpha=0.1)(normalized_output)\n",
        "    dropout_layer = layers.Dropout(0.1)(regularization_layer)\n",
        "\n",
        "    x1 = layers.Dense(1024, activation=\"relu\")(dropout_layer)\n",
        "    x1 = layers.Dense(1024, activation=\"relu\")(x1)\n",
        "    x1 = layers.Dense(512, activation=\"relu\")(x1)\n",
        "    output_max_price = layers.Dense(1, activation=\"linear\", name='max_price')(x1)\n",
        "\n",
        "    x2 = layers.Dense(1024, activation=\"relu\")(dropout_layer)\n",
        "    x2 = layers.Dense(1024, activation=\"relu\")(x2)\n",
        "    x2 = layers.Dense(512, activation=\"relu\")(x2)\n",
        "    output_min_price = layers.Dense(1, activation=\"linear\", name='min_price')(x2)\n",
        "\n",
        "    x3 = layers.Dense(1024, activation=\"relu\")(dropout_layer)\n",
        "    x3 = layers.Dense(1024, activation=\"relu\")(x3)\n",
        "    x3 = layers.Dense(512, activation=\"relu\")(x3)\n",
        "    output_label_bhs = layers.Dense(3, activation=\"softmax\", name='label_bhs')(x3)\n",
        "\n",
        "    model = keras.Model(\n",
        "            inputs=[input_price5, input_TA],\n",
        "            outputs=[output_max_price, output_min_price, output_label_bhs])\n",
        "\n",
        "    return model"
      ]
    },
    {
      "cell_type": "markdown",
      "metadata": {
        "id": "UoOkPeQj_qYR"
      },
      "source": [
        "#### 4.4.2 Train model"
      ]
    },
    {
      "cell_type": "code",
      "execution_count": 76,
      "metadata": {
        "colab": {
          "base_uri": "https://localhost:8080/"
        },
        "id": "AaAMCBGv_qYR",
        "outputId": "6f9182c7-0d3f-4c87-a1ad-b41e253ffc17"
      },
      "outputs": [
        {
          "output_type": "stream",
          "name": "stderr",
          "text": [
            "WARNING:tensorflow:Layer price5_scaled_LSTM will not use cuDNN kernels since it doesn't meet the criteria. It will use a generic GPU kernel as fallback when running on GPU.\n",
            "WARNING:tensorflow:Layer ta_scaled_LSTM will not use cuDNN kernels since it doesn't meet the criteria. It will use a generic GPU kernel as fallback when running on GPU.\n"
          ]
        },
        {
          "output_type": "stream",
          "name": "stdout",
          "text": [
            "Epoch 1/3\n",
            "49/49 [==============================] - 8s 46ms/step - loss: 2.2126 - max_price_loss: 0.5802 - min_price_loss: 0.5475 - label_bhs_loss: 1.0849 - max_price_root_mean_squared_error: 0.7617 - min_price_root_mean_squared_error: 0.7399 - label_bhs_accuracy: 0.4242 - val_loss: 2.2016 - val_max_price_loss: 0.5703 - val_min_price_loss: 0.5099 - val_label_bhs_loss: 1.1213 - val_max_price_root_mean_squared_error: 0.7552 - val_min_price_root_mean_squared_error: 0.7141 - val_label_bhs_accuracy: 0.3038\n",
            "Epoch 2/3\n",
            "49/49 [==============================] - 2s 34ms/step - loss: 2.0798 - max_price_loss: 0.4838 - min_price_loss: 0.5171 - label_bhs_loss: 1.0789 - max_price_root_mean_squared_error: 0.6955 - min_price_root_mean_squared_error: 0.7191 - label_bhs_accuracy: 0.4288 - val_loss: 2.1654 - val_max_price_loss: 0.5410 - val_min_price_loss: 0.5016 - val_label_bhs_loss: 1.1228 - val_max_price_root_mean_squared_error: 0.7355 - val_min_price_root_mean_squared_error: 0.7083 - val_label_bhs_accuracy: 0.3039\n",
            "Epoch 3/3\n",
            "49/49 [==============================] - 2s 33ms/step - loss: 2.0576 - max_price_loss: 0.4696 - min_price_loss: 0.5104 - label_bhs_loss: 1.0776 - max_price_root_mean_squared_error: 0.6853 - min_price_root_mean_squared_error: 0.7144 - label_bhs_accuracy: 0.4287 - val_loss: 2.1530 - val_max_price_loss: 0.5380 - val_min_price_loss: 0.4955 - val_label_bhs_loss: 1.1195 - val_max_price_root_mean_squared_error: 0.7335 - val_min_price_root_mean_squared_error: 0.7039 - val_label_bhs_accuracy: 0.3023\n"
          ]
        },
        {
          "output_type": "stream",
          "name": "stderr",
          "text": [
            "/usr/local/lib/python3.10/dist-packages/keras/src/engine/training.py:3079: UserWarning: You are saving your model as an HDF5 file via `model.save()`. This file format is considered legacy. We recommend using instead the native Keras format, e.g. `model.save('my_model.keras')`.\n",
            "  saving_api.save_model(\n"
          ]
        }
      ],
      "source": [
        "savepath_model = \\\n",
        "    gd_mdl_folder+'ds_price5_TA_seqlen'+str(seqlen)+'_'+colab_filename.replace('.ipynb', '.h5')\n",
        "savepath_model_weights = savepath_model.replace('.h5', '_weights.h5')\n",
        "savepath_model_checkpoint = savepath_model_weights.replace('.h5', '_cp.h5')\n",
        "\n",
        "checkpoint_cb = tf.keras.callbacks.ModelCheckpoint(savepath_model_checkpoint, monitor=\"val_loss\", verbose=0, mode=\"min\",\n",
        "                                                        save_best_only=True, save_weights_only=True, save_freq=\"epoch\" )\n",
        "early_stop = tf.keras.callbacks.EarlyStopping(monitor=\"val_loss\", patience=config.patience, verbose=1, mode=\"min\", restore_best_weights=True)\n",
        "\n",
        "model = create_ds_LSTM_price5_TA(config.maxlen, seqlen)\n",
        "#model.summary()\n",
        "\n",
        "model.compile(\n",
        "    optimizer=keras.optimizers.Adam(learning_rate=0.00001),\n",
        "    loss={\n",
        "            \"max_price\": keras.losses.MeanSquaredError(),\n",
        "            \"min_price\": keras.losses.MeanSquaredError(),\n",
        "            \"label_bhs\": keras.losses.SparseCategoricalCrossentropy(),\n",
        "        },\n",
        "    metrics={\n",
        "            \"max_price\": tf.keras.metrics.RootMeanSquaredError(),\n",
        "            \"min_price\": tf.keras.metrics.RootMeanSquaredError(),\n",
        "            \"label_bhs\": 'accuracy',\n",
        "        }\n",
        "    )\n",
        "model.fit(\n",
        "            x=downstream_train_price5_ta[0], y=downstream_train_price5_ta[1],\n",
        "            epochs=config.EPOCH,\n",
        "            validation_data=downstream_valid_price5_ta,\n",
        "            batch_size=config.BATCH_SIZE,\n",
        "            callbacks=[checkpoint_cb, early_stop]\n",
        "        )\n",
        "\n",
        "model.save(savepath_model)\n",
        "model.save_weights(savepath_model_weights)"
      ]
    },
    {
      "cell_type": "markdown",
      "metadata": {
        "id": "rroCYFG5_qYS"
      },
      "source": [
        "#### 4.4.3 Test result"
      ]
    },
    {
      "cell_type": "code",
      "source": [
        "df_result, _ = model_evaluation(model, savepath_model, df_result, downstream_test_price5_ta, config.seqlen, modelname='price5_TA_seqlen'+str(seqlen))\n",
        "\n",
        "df_result.to_csv(gd_result_folder+result_filename, index=False)"
      ],
      "metadata": {
        "colab": {
          "base_uri": "https://localhost:8080/",
          "height": 1000
        },
        "id": "NUAH6VWzl8Hp",
        "outputId": "426d9979-ce74-4bef-9e60-9c19f3e1cba9"
      },
      "execution_count": 77,
      "outputs": [
        {
          "output_type": "stream",
          "name": "stdout",
          "text": [
            "194/194 [==============================] - 1s 5ms/step\n",
            "194/194 [==============================] - 1s 5ms/step\n",
            "194/194 [==============================] - 1s 5ms/step\n",
            "get result for seqlen 10 label_bhs\n",
            "              precision    recall  f1-score   support\n",
            "\n",
            "         buy     0.0000    0.0000    0.0000      2703\n",
            "        hold     0.1670    0.9913    0.2858      1031\n",
            "        sell     0.4125    0.0134    0.0259      2468\n",
            "\n",
            "    accuracy                         0.1701      6202\n",
            "   macro avg     0.1932    0.3349    0.1039      6202\n",
            "weighted avg     0.1919    0.1701    0.0578      6202\n",
            "\n"
          ]
        },
        {
          "output_type": "display_data",
          "data": {
            "text/plain": [
              "<Figure size 1000x1000 with 2 Axes>"
            ],
            "image/png": "[encoded data removed]"
          },
          "metadata": {}
        },
        {
          "output_type": "stream",
          "name": "stdout",
          "text": [
            "get result for seqlen 10 maxprice\n",
            "price5_TA_seqlen10:\n",
            "Mean Absolute Error: 0.14198258\n",
            "Mean Absolute Percentage Error: 0.10909953\n",
            "Mean Square Error: 0.03918838\n",
            "Root Mean Square Error: 0.19796055\n",
            "\n",
            "get result for seqlen 10 minprice\n",
            "price5_TA_seqlen10:\n",
            "Mean Absolute Error: 0.17001228\n",
            "Mean Absolute Percentage Error: 0.13095996\n",
            "Mean Square Error: 0.05634345\n",
            "Root Mean Square Error: 0.23736776\n",
            "\n",
            "total time spent 4.670258522033691\n"
          ]
        }
      ]
    },
    {
      "cell_type": "code",
      "execution_count": 78,
      "metadata": {
        "colab": {
          "base_uri": "https://localhost:8080/"
        },
        "id": "tuU2IQcv_qYS",
        "outputId": "72ee6da0-caa7-4f38-a1d2-fa43166cd98d"
      },
      "outputs": [
        {
          "output_type": "execute_result",
          "data": {
            "text/plain": [
              "23588"
            ]
          },
          "metadata": {},
          "execution_count": 78
        }
      ],
      "source": [
        "del downstream_train_price5_ta, downstream_valid_price5_ta, downstream_test_price5_ta\n",
        "gc.collect()"
      ]
    },
    {
      "cell_type": "markdown",
      "metadata": {
        "id": "HS7fFAV0ZRzI"
      },
      "source": [
        "### 4.5 features - price5(OHLC+avg)"
      ]
    },
    {
      "cell_type": "code",
      "source": [
        "downstream_train_price5only = generateSeq4Downstream(df_downstream_train, ds_type=\"train\", input_type=\"price5only\", seqlen=config.seqlen)\n",
        "downstream_valid_price5only = generateSeq4Downstream(df_downstream_valid, ds_type=\"valid\", input_type=\"price5only\", seqlen=config.seqlen)\n",
        "downstream_test_price5only = generateSeq4Downstream(df_downstream_test, ds_type=\"test\", input_type=\"price5only\", seqlen=config.seqlen)"
      ],
      "metadata": {
        "id": "VLNK0WiUmRU2"
      },
      "execution_count": 79,
      "outputs": []
    },
    {
      "cell_type": "markdown",
      "metadata": {
        "id": "-z3U6a9oZRzI"
      },
      "source": [
        "#### 4.5.1 Build model"
      ]
    },
    {
      "cell_type": "code",
      "execution_count": 80,
      "metadata": {
        "id": "5DO2ccXYZRzI"
      },
      "outputs": [],
      "source": [
        "def create_ds_LSTM_price5(maxlen, seqlen):\n",
        "    input_price5 = layers.Input((seqlen,5), dtype=tf.float32, name='prices5_scaled')\n",
        "\n",
        "    price5_output = layers.LSTM(config.EMBED_DIM, activation=\"relu\", return_sequences=False, name='price5_scaled_LSTM')(input_price5)\n",
        "\n",
        "    combined_output = price5_output\n",
        "\n",
        "    normalized_output = layers.LayerNormalization(epsilon=1e-6)(combined_output)\n",
        "    regularization_layer = layers.LeakyReLU(alpha=0.1)(normalized_output)\n",
        "    dropout_layer = layers.Dropout(0.1)(regularization_layer)\n",
        "\n",
        "    x1 = layers.Dense(1024, activation=\"relu\")(dropout_layer)\n",
        "    x1 = layers.Dense(1024, activation=\"relu\")(x1)\n",
        "    x1 = layers.Dense(512, activation=\"relu\")(x1)\n",
        "    output_max_price = layers.Dense(1, activation=\"linear\", name='max_price')(x1)\n",
        "\n",
        "    x2 = layers.Dense(1024, activation=\"relu\")(dropout_layer)\n",
        "    x2 = layers.Dense(1024, activation=\"relu\")(x2)\n",
        "    x2 = layers.Dense(512, activation=\"relu\")(x2)\n",
        "    output_min_price = layers.Dense(1, activation=\"linear\", name='min_price')(x2)\n",
        "\n",
        "    x3 = layers.Dense(1024, activation=\"relu\")(dropout_layer)\n",
        "    x3 = layers.Dense(1024, activation=\"relu\")(x3)\n",
        "    x3 = layers.Dense(512, activation=\"relu\")(x3)\n",
        "    output_label_bhs = layers.Dense(3, activation=\"softmax\", name='label_bhs')(x3)\n",
        "\n",
        "    model = keras.Model(\n",
        "            inputs=[input_price5],\n",
        "            outputs=[output_max_price, output_min_price, output_label_bhs])\n",
        "\n",
        "    return model"
      ]
    },
    {
      "cell_type": "markdown",
      "metadata": {
        "id": "z5URPn3MZRzJ"
      },
      "source": [
        "#### 4.5.2 Train model"
      ]
    },
    {
      "cell_type": "code",
      "execution_count": 81,
      "metadata": {
        "colab": {
          "base_uri": "https://localhost:8080/"
        },
        "id": "vLKy5QFrZRzJ",
        "outputId": "8d7dceea-3ccf-4229-cffa-fe3e88d6aacf"
      },
      "outputs": [
        {
          "output_type": "stream",
          "name": "stderr",
          "text": [
            "WARNING:tensorflow:Layer price5_scaled_LSTM will not use cuDNN kernels since it doesn't meet the criteria. It will use a generic GPU kernel as fallback when running on GPU.\n"
          ]
        },
        {
          "output_type": "stream",
          "name": "stdout",
          "text": [
            "Epoch 1/3\n",
            "49/49 [==============================] - 6s 30ms/step - loss: 2.4316 - max_price_loss: 0.8065 - min_price_loss: 0.5438 - label_bhs_loss: 1.0812 - max_price_root_mean_squared_error: 0.8981 - min_price_root_mean_squared_error: 0.7375 - label_bhs_accuracy: 0.4256 - val_loss: 2.2366 - val_max_price_loss: 0.5882 - val_min_price_loss: 0.5219 - val_label_bhs_loss: 1.1264 - val_max_price_root_mean_squared_error: 0.7670 - val_min_price_root_mean_squared_error: 0.7225 - val_label_bhs_accuracy: 0.3038\n",
            "Epoch 2/3\n",
            "49/49 [==============================] - 1s 20ms/step - loss: 2.1181 - max_price_loss: 0.5117 - min_price_loss: 0.5278 - label_bhs_loss: 1.0786 - max_price_root_mean_squared_error: 0.7153 - min_price_root_mean_squared_error: 0.7265 - label_bhs_accuracy: 0.4287 - val_loss: 2.1878 - val_max_price_loss: 0.5496 - val_min_price_loss: 0.5131 - val_label_bhs_loss: 1.1251 - val_max_price_root_mean_squared_error: 0.7413 - val_min_price_root_mean_squared_error: 0.7163 - val_label_bhs_accuracy: 0.3038\n",
            "Epoch 3/3\n",
            "49/49 [==============================] - 1s 20ms/step - loss: 2.0852 - max_price_loss: 0.4851 - min_price_loss: 0.5224 - label_bhs_loss: 1.0777 - max_price_root_mean_squared_error: 0.6965 - min_price_root_mean_squared_error: 0.7228 - label_bhs_accuracy: 0.4287 - val_loss: 2.1830 - val_max_price_loss: 0.5439 - val_min_price_loss: 0.5084 - val_label_bhs_loss: 1.1307 - val_max_price_root_mean_squared_error: 0.7375 - val_min_price_root_mean_squared_error: 0.7130 - val_label_bhs_accuracy: 0.3038\n"
          ]
        },
        {
          "output_type": "stream",
          "name": "stderr",
          "text": [
            "/usr/local/lib/python3.10/dist-packages/keras/src/engine/training.py:3079: UserWarning: You are saving your model as an HDF5 file via `model.save()`. This file format is considered legacy. We recommend using instead the native Keras format, e.g. `model.save('my_model.keras')`.\n",
            "  saving_api.save_model(\n"
          ]
        }
      ],
      "source": [
        "savepath_model = \\\n",
        "    gd_mdl_folder+'ds_price5_seqlen'+str(seqlen)+'_'+colab_filename.replace('.ipynb', '.h5')\n",
        "savepath_model_weights = savepath_model.replace('.h5', '_weights.h5')\n",
        "savepath_model_checkpoint = savepath_model_weights.replace('.h5', '_cp.h5')\n",
        "\n",
        "checkpoint_cb = tf.keras.callbacks.ModelCheckpoint(savepath_model_checkpoint, monitor=\"val_loss\", verbose=0, mode=\"min\",\n",
        "                                                        save_best_only=True, save_weights_only=True, save_freq=\"epoch\" )\n",
        "early_stop = tf.keras.callbacks.EarlyStopping(monitor=\"val_loss\", patience=config.patience, verbose=1, mode=\"min\", restore_best_weights=True)\n",
        "\n",
        "model = create_ds_LSTM_price5(config.maxlen, seqlen)\n",
        "#model.summary()\n",
        "\n",
        "model.compile(\n",
        "    optimizer=keras.optimizers.Adam(learning_rate=0.00001),\n",
        "    loss={\n",
        "            \"max_price\": keras.losses.MeanSquaredError(),\n",
        "            \"min_price\": keras.losses.MeanSquaredError(),\n",
        "            \"label_bhs\": keras.losses.SparseCategoricalCrossentropy(),\n",
        "        },\n",
        "    metrics={\n",
        "            \"max_price\": tf.keras.metrics.RootMeanSquaredError(),\n",
        "            \"min_price\": tf.keras.metrics.RootMeanSquaredError(),\n",
        "            \"label_bhs\": 'accuracy',\n",
        "        }\n",
        "    )\n",
        "model.fit(\n",
        "            x=downstream_train_price5only[0], y=downstream_train_price5only[1],\n",
        "            epochs=config.EPOCH,\n",
        "            validation_data=downstream_valid_price5only,\n",
        "            batch_size=config.BATCH_SIZE,\n",
        "            callbacks=[checkpoint_cb, early_stop]\n",
        "        )\n",
        "\n",
        "model.save(savepath_model)\n",
        "model.save_weights(savepath_model_weights)"
      ]
    },
    {
      "cell_type": "markdown",
      "metadata": {
        "id": "iagl7c0hZRzJ"
      },
      "source": [
        "#### 4.5.3 Test result"
      ]
    },
    {
      "cell_type": "code",
      "source": [
        "df_result, _ = model_evaluation(model, savepath_model, df_result, downstream_test_price5only, config.seqlen, modelname='price5_seqlen'+str(seqlen))\n",
        "\n",
        "df_result.to_csv(gd_result_folder+result_filename, index=False)"
      ],
      "metadata": {
        "colab": {
          "base_uri": "https://localhost:8080/",
          "height": 1000
        },
        "id": "KaUadVXOmuNu",
        "outputId": "c34d62dd-5964-4953-ed7f-189bd60eb227"
      },
      "execution_count": 82,
      "outputs": [
        {
          "output_type": "stream",
          "name": "stdout",
          "text": [
            "194/194 [==============================] - 1s 4ms/step\n",
            "194/194 [==============================] - 1s 4ms/step\n",
            "194/194 [==============================] - 1s 3ms/step\n",
            "get result for seqlen 10 label_bhs\n",
            "              precision    recall  f1-score   support\n",
            "\n",
            "         buy     0.0000    0.0000    0.0000      2703\n",
            "        hold     0.1662    1.0000    0.2851      1031\n",
            "        sell     0.0000    0.0000    0.0000      2468\n",
            "\n",
            "    accuracy                         0.1662      6202\n",
            "   macro avg     0.0554    0.3333    0.0950      6202\n",
            "weighted avg     0.0276    0.1662    0.0474      6202\n",
            "\n"
          ]
        },
        {
          "output_type": "stream",
          "name": "stderr",
          "text": [
            "/usr/local/lib/python3.10/dist-packages/sklearn/metrics/_classification.py:1344: UndefinedMetricWarning: Precision and F-score are ill-defined and being set to 0.0 in labels with no predicted samples. Use `zero_division` parameter to control this behavior.\n",
            "  _warn_prf(average, modifier, msg_start, len(result))\n",
            "/usr/local/lib/python3.10/dist-packages/sklearn/metrics/_classification.py:1344: UndefinedMetricWarning: Precision and F-score are ill-defined and being set to 0.0 in labels with no predicted samples. Use `zero_division` parameter to control this behavior.\n",
            "  _warn_prf(average, modifier, msg_start, len(result))\n",
            "/usr/local/lib/python3.10/dist-packages/sklearn/metrics/_classification.py:1344: UndefinedMetricWarning: Precision and F-score are ill-defined and being set to 0.0 in labels with no predicted samples. Use `zero_division` parameter to control this behavior.\n",
            "  _warn_prf(average, modifier, msg_start, len(result))\n",
            "/usr/local/lib/python3.10/dist-packages/sklearn/metrics/_classification.py:1344: UndefinedMetricWarning: Precision and F-score are ill-defined and being set to 0.0 in labels with no predicted samples. Use `zero_division` parameter to control this behavior.\n",
            "  _warn_prf(average, modifier, msg_start, len(result))\n"
          ]
        },
        {
          "output_type": "display_data",
          "data": {
            "text/plain": [
              "<Figure size 1000x1000 with 2 Axes>"
            ],
            "image/png": "[encoded data removed]"
          },
          "metadata": {}
        },
        {
          "output_type": "stream",
          "name": "stdout",
          "text": [
            "get result for seqlen 10 maxprice\n",
            "price5_seqlen10:\n",
            "Mean Absolute Error: 0.15022528\n",
            "Mean Absolute Percentage Error: 0.11542414\n",
            "Mean Square Error: 0.04294727\n",
            "Root Mean Square Error: 0.20723724\n",
            "\n",
            "get result for seqlen 10 minprice\n",
            "price5_seqlen10:\n",
            "Mean Absolute Error: 0.17187613\n",
            "Mean Absolute Percentage Error: 0.13241602\n",
            "Mean Square Error: 0.05840459\n",
            "Root Mean Square Error: 0.24167041\n",
            "\n",
            "total time spent 3.6724863052368164\n"
          ]
        }
      ]
    },
    {
      "cell_type": "code",
      "execution_count": 83,
      "metadata": {
        "colab": {
          "base_uri": "https://localhost:8080/"
        },
        "id": "Ib0XbyJ1ZRzJ",
        "outputId": "291ce770-805e-4526-96ef-125be5c73042"
      },
      "outputs": [
        {
          "output_type": "execute_result",
          "data": {
            "text/plain": [
              "18717"
            ]
          },
          "metadata": {},
          "execution_count": 83
        }
      ],
      "source": [
        "del downstream_train_price5only, downstream_valid_price5only, downstream_test_price5only\n",
        "gc.collect()"
      ]
    },
    {
      "cell_type": "markdown",
      "metadata": {
        "id": "K-UgHzjuoPi0"
      },
      "source": [
        "### 4.6 features - TA"
      ]
    },
    {
      "cell_type": "code",
      "source": [
        "downstream_train_taonly = generateSeq4Downstream(df_downstream_train, ds_type=\"train\", input_type=\"taonly\", seqlen=config.seqlen)\n",
        "downstream_valid_taonly = generateSeq4Downstream(df_downstream_valid, ds_type=\"valid\", input_type=\"taonly\", seqlen=config.seqlen)\n",
        "downstream_test_taonly = generateSeq4Downstream(df_downstream_test, ds_type=\"test\", input_type=\"taonly\", seqlen=config.seqlen)"
      ],
      "metadata": {
        "id": "k6256fMZnFzh"
      },
      "execution_count": 84,
      "outputs": []
    },
    {
      "cell_type": "markdown",
      "metadata": {
        "id": "_iW92JFGoPi0"
      },
      "source": [
        "#### 4.6.1 Build model"
      ]
    },
    {
      "cell_type": "code",
      "execution_count": 85,
      "metadata": {
        "id": "K8it4jAJoPi0"
      },
      "outputs": [],
      "source": [
        "def create_ds_LSTM_TA(maxlen, seqlen):\n",
        "    input_TA = layers.Input((seqlen, 15), dtype=tf.float32, name='ta_scaled')\n",
        "\n",
        "    TA_output = layers.LSTM(config.EMBED_DIM, activation=\"relu\", return_sequences=False, name='ta_scaled_LSTM')(input_TA)\n",
        "\n",
        "    combined_output = TA_output\n",
        "\n",
        "    normalized_output = layers.LayerNormalization(epsilon=1e-6)(combined_output)\n",
        "    regularization_layer = layers.LeakyReLU(alpha=0.1)(normalized_output)\n",
        "    dropout_layer = layers.Dropout(0.1)(regularization_layer)\n",
        "\n",
        "    x1 = layers.Dense(1024, activation=\"relu\")(dropout_layer)\n",
        "    x1 = layers.Dense(1024, activation=\"relu\")(x1)\n",
        "    x1 = layers.Dense(512, activation=\"relu\")(x1)\n",
        "    output_max_price = layers.Dense(1, activation=\"linear\", name='max_price')(x1)\n",
        "\n",
        "    x2 = layers.Dense(1024, activation=\"relu\")(dropout_layer)\n",
        "    x2 = layers.Dense(1024, activation=\"relu\")(x2)\n",
        "    x2 = layers.Dense(512, activation=\"relu\")(x2)\n",
        "    output_min_price = layers.Dense(1, activation=\"linear\", name='min_price')(x2)\n",
        "\n",
        "    x3 = layers.Dense(1024, activation=\"relu\")(dropout_layer)\n",
        "    x3 = layers.Dense(1024, activation=\"relu\")(x3)\n",
        "    x3 = layers.Dense(512, activation=\"relu\")(x3)\n",
        "    output_label_bhs = layers.Dense(3, activation=\"softmax\", name='label_bhs')(x3)\n",
        "\n",
        "    model = keras.Model(\n",
        "            inputs=[input_TA],\n",
        "            outputs=[output_max_price, output_min_price, output_label_bhs])\n",
        "\n",
        "    return model"
      ]
    },
    {
      "cell_type": "markdown",
      "metadata": {
        "id": "6O8AgTXVoPi0"
      },
      "source": [
        "#### 4.6.2 Train model"
      ]
    },
    {
      "cell_type": "code",
      "execution_count": 86,
      "metadata": {
        "colab": {
          "base_uri": "https://localhost:8080/"
        },
        "id": "ROj_tMMzoPi0",
        "outputId": "cdc8dfbd-d5bb-4b87-8714-4ee7a865ed85"
      },
      "outputs": [
        {
          "output_type": "stream",
          "name": "stderr",
          "text": [
            "WARNING:tensorflow:Layer ta_scaled_LSTM will not use cuDNN kernels since it doesn't meet the criteria. It will use a generic GPU kernel as fallback when running on GPU.\n"
          ]
        },
        {
          "output_type": "stream",
          "name": "stdout",
          "text": [
            "Epoch 1/3\n",
            "49/49 [==============================] - 6s 30ms/step - loss: 2.8187 - max_price_loss: 1.1758 - min_price_loss: 0.5523 - label_bhs_loss: 1.0905 - max_price_root_mean_squared_error: 1.0844 - min_price_root_mean_squared_error: 0.7432 - label_bhs_accuracy: 0.4042 - val_loss: 2.2255 - val_max_price_loss: 0.5821 - val_min_price_loss: 0.5166 - val_label_bhs_loss: 1.1268 - val_max_price_root_mean_squared_error: 0.7630 - val_min_price_root_mean_squared_error: 0.7187 - val_label_bhs_accuracy: 0.3038\n",
            "Epoch 2/3\n",
            "49/49 [==============================] - 1s 20ms/step - loss: 2.1232 - max_price_loss: 0.5189 - min_price_loss: 0.5251 - label_bhs_loss: 1.0791 - max_price_root_mean_squared_error: 0.7203 - min_price_root_mean_squared_error: 0.7247 - label_bhs_accuracy: 0.4287 - val_loss: 2.2061 - val_max_price_loss: 0.5695 - val_min_price_loss: 0.5113 - val_label_bhs_loss: 1.1253 - val_max_price_root_mean_squared_error: 0.7547 - val_min_price_root_mean_squared_error: 0.7150 - val_label_bhs_accuracy: 0.3038\n",
            "Epoch 3/3\n",
            "49/49 [==============================] - 1s 22ms/step - loss: 2.0906 - max_price_loss: 0.4966 - min_price_loss: 0.5164 - label_bhs_loss: 1.0776 - max_price_root_mean_squared_error: 0.7047 - min_price_root_mean_squared_error: 0.7186 - label_bhs_accuracy: 0.4288 - val_loss: 2.1907 - val_max_price_loss: 0.5555 - val_min_price_loss: 0.5083 - val_label_bhs_loss: 1.1269 - val_max_price_root_mean_squared_error: 0.7453 - val_min_price_root_mean_squared_error: 0.7130 - val_label_bhs_accuracy: 0.3038\n"
          ]
        },
        {
          "output_type": "stream",
          "name": "stderr",
          "text": [
            "/usr/local/lib/python3.10/dist-packages/keras/src/engine/training.py:3079: UserWarning: You are saving your model as an HDF5 file via `model.save()`. This file format is considered legacy. We recommend using instead the native Keras format, e.g. `model.save('my_model.keras')`.\n",
            "  saving_api.save_model(\n"
          ]
        }
      ],
      "source": [
        "savepath_model = \\\n",
        "    gd_mdl_folder+'ds_TA_seqlen'+str(seqlen)+'_'+colab_filename.replace('.ipynb', '.h5')\n",
        "savepath_model_weights = savepath_model.replace('.h5', '_weights.h5')\n",
        "savepath_model_checkpoint = savepath_model_weights.replace('.h5', '_cp.h5')\n",
        "\n",
        "checkpoint_cb = tf.keras.callbacks.ModelCheckpoint(savepath_model_checkpoint, monitor=\"val_loss\", verbose=0, mode=\"min\",\n",
        "                                                        save_best_only=True, save_weights_only=True, save_freq=\"epoch\" )\n",
        "early_stop = tf.keras.callbacks.EarlyStopping(monitor=\"val_loss\", patience=config.patience, verbose=1, mode=\"min\", restore_best_weights=True)\n",
        "\n",
        "model = create_ds_LSTM_TA(config.maxlen, seqlen)\n",
        "#model.summary()\n",
        "\n",
        "model.compile(\n",
        "    optimizer=keras.optimizers.Adam(learning_rate=0.00001),\n",
        "    loss={\n",
        "            \"max_price\": keras.losses.MeanSquaredError(),\n",
        "            \"min_price\": keras.losses.MeanSquaredError(),\n",
        "            \"label_bhs\": keras.losses.SparseCategoricalCrossentropy(),\n",
        "        },\n",
        "    metrics={\n",
        "            \"max_price\": tf.keras.metrics.RootMeanSquaredError(),\n",
        "            \"min_price\": tf.keras.metrics.RootMeanSquaredError(),\n",
        "            \"label_bhs\": 'accuracy',\n",
        "        }\n",
        "    )\n",
        "model.fit(\n",
        "            x=downstream_train_taonly[0], y=downstream_train_taonly[1],\n",
        "            epochs=config.EPOCH,\n",
        "            validation_data=downstream_valid_taonly,\n",
        "            batch_size=config.BATCH_SIZE,\n",
        "            callbacks=[checkpoint_cb, early_stop]\n",
        "        )\n",
        "\n",
        "model.save(savepath_model)\n",
        "model.save_weights(savepath_model_weights)"
      ]
    },
    {
      "cell_type": "markdown",
      "metadata": {
        "id": "3VP9oV-AoPi1"
      },
      "source": [
        "#### 4.6.3 Test result"
      ]
    },
    {
      "cell_type": "code",
      "source": [
        "df_result, _ = model_evaluation(model, savepath_model, df_result, downstream_test_taonly, config.seqlen, modelname='TA_seqlen'+str(seqlen))\n",
        "\n",
        "df_result.to_csv(gd_result_folder+result_filename, index=False)"
      ],
      "metadata": {
        "colab": {
          "base_uri": "https://localhost:8080/",
          "height": 1000
        },
        "id": "-FPyGILLnfpR",
        "outputId": "00f07a94-9b69-4b92-d40b-68bfd0f1e161"
      },
      "execution_count": 87,
      "outputs": [
        {
          "output_type": "stream",
          "name": "stdout",
          "text": [
            "194/194 [==============================] - 1s 4ms/step\n",
            "194/194 [==============================] - 1s 4ms/step\n",
            "194/194 [==============================] - 1s 4ms/step\n",
            "get result for seqlen 10 label_bhs\n",
            "              precision    recall  f1-score   support\n",
            "\n",
            "         buy     0.0000    0.0000    0.0000      2703\n",
            "        hold     0.1662    1.0000    0.2851      1031\n",
            "        sell     0.0000    0.0000    0.0000      2468\n",
            "\n",
            "    accuracy                         0.1662      6202\n",
            "   macro avg     0.0554    0.3333    0.0950      6202\n",
            "weighted avg     0.0276    0.1662    0.0474      6202\n",
            "\n"
          ]
        },
        {
          "output_type": "stream",
          "name": "stderr",
          "text": [
            "/usr/local/lib/python3.10/dist-packages/sklearn/metrics/_classification.py:1344: UndefinedMetricWarning: Precision and F-score are ill-defined and being set to 0.0 in labels with no predicted samples. Use `zero_division` parameter to control this behavior.\n",
            "  _warn_prf(average, modifier, msg_start, len(result))\n",
            "/usr/local/lib/python3.10/dist-packages/sklearn/metrics/_classification.py:1344: UndefinedMetricWarning: Precision and F-score are ill-defined and being set to 0.0 in labels with no predicted samples. Use `zero_division` parameter to control this behavior.\n",
            "  _warn_prf(average, modifier, msg_start, len(result))\n",
            "/usr/local/lib/python3.10/dist-packages/sklearn/metrics/_classification.py:1344: UndefinedMetricWarning: Precision and F-score are ill-defined and being set to 0.0 in labels with no predicted samples. Use `zero_division` parameter to control this behavior.\n",
            "  _warn_prf(average, modifier, msg_start, len(result))\n",
            "/usr/local/lib/python3.10/dist-packages/sklearn/metrics/_classification.py:1344: UndefinedMetricWarning: Precision and F-score are ill-defined and being set to 0.0 in labels with no predicted samples. Use `zero_division` parameter to control this behavior.\n",
            "  _warn_prf(average, modifier, msg_start, len(result))\n"
          ]
        },
        {
          "output_type": "display_data",
          "data": {
            "text/plain": [
              "<Figure size 1000x1000 with 2 Axes>"
            ],
            "image/png": "[encoded data removed]"
          },
          "metadata": {}
        },
        {
          "output_type": "stream",
          "name": "stdout",
          "text": [
            "get result for seqlen 10 maxprice\n",
            "TA_seqlen10:\n",
            "Mean Absolute Error: 0.15245533\n",
            "Mean Absolute Percentage Error: 0.11711056\n",
            "Mean Square Error: 0.04488466\n",
            "Root Mean Square Error: 0.21186001\n",
            "\n",
            "get result for seqlen 10 minprice\n",
            "TA_seqlen10:\n",
            "Mean Absolute Error: 0.17192135\n",
            "Mean Absolute Percentage Error: 0.13243273\n",
            "Mean Square Error: 0.05916670\n",
            "Root Mean Square Error: 0.24324207\n",
            "\n",
            "total time spent 3.74311900138855\n"
          ]
        }
      ]
    },
    {
      "cell_type": "code",
      "source": [
        "del downstream_train_taonly, downstream_valid_taonly, downstream_test_taonly\n",
        "gc.collect()"
      ],
      "metadata": {
        "colab": {
          "base_uri": "https://localhost:8080/"
        },
        "id": "7xnoRE2QnqLh",
        "outputId": "b6c7a121-e1c0-4c1f-b922-bc0dc40ee5dd"
      },
      "execution_count": 88,
      "outputs": [
        {
          "output_type": "execute_result",
          "data": {
            "text/plain": [
              "6951"
            ]
          },
          "metadata": {},
          "execution_count": 88
        }
      ]
    },
    {
      "cell_type": "markdown",
      "metadata": {
        "id": "8yqwk5YcoxSB"
      },
      "source": [
        "### 4.7 features - candlestick"
      ]
    },
    {
      "cell_type": "code",
      "source": [
        "downstream_train_candleonly = generateSeq4Downstream(df_downstream_train, ds_type=\"train\", input_type=\"candleonly\", seqlen=config.seqlen)\n",
        "downstream_valid_candleonly = generateSeq4Downstream(df_downstream_valid, ds_type=\"valid\", input_type=\"candleonly\", seqlen=config.seqlen)\n",
        "downstream_test_candleonly = generateSeq4Downstream(df_downstream_test, ds_type=\"test\", input_type=\"candleonly\", seqlen=config.seqlen)"
      ],
      "metadata": {
        "id": "uyNYiYzEn25v"
      },
      "execution_count": 89,
      "outputs": []
    },
    {
      "cell_type": "markdown",
      "metadata": {
        "id": "SYQ71aIXoxSB"
      },
      "source": [
        "#### 4.7.1 build model"
      ]
    },
    {
      "cell_type": "code",
      "execution_count": 90,
      "metadata": {
        "id": "GrxkcYVWoxSB"
      },
      "outputs": [],
      "source": [
        "def create_ds_LSTM_candlestick(maxlen, seqlen):\n",
        "    input_wtoken_candle = layers.Input((maxlen,), dtype=tf.int64, name='input_ids_candle')\n",
        "    input_wtoken_pos = layers.Input((maxlen,), dtype=tf.int64, name='input_ids_pos')\n",
        "    input_wtoken_die = layers.Input((maxlen,), dtype=tf.int64, name='input_ids_die')\n",
        "    input_wtoken_cle = layers.Input((maxlen,), dtype=tf.int64, name='input_ids_cle')\n",
        "    input_wtoken_ule = layers.Input((maxlen,), dtype=tf.int64, name='input_ids_ule')\n",
        "    input_wtoken_lle = layers.Input((maxlen,), dtype=tf.int64, name='input_ids_lle')\n",
        "    input_segment = layers.Input((maxlen,), dtype=tf.int64, name='segment_ids')\n",
        "\n",
        "    wtoken_candle_embeddings = layers.Embedding(candlestick_vocab_size, config.EMBED_DIM, name='wtoken_candle_embedding')(input_wtoken_candle)\n",
        "    wtoken_pos_embeddings = layers.Embedding(pos_vocab_size, config.EMBED_DIM, name='wtoken_pos_embedding')(input_wtoken_pos)\n",
        "    wtoken_die_embeddings = layers.Embedding(direction_vocab_size, config.EMBED_DIM, name='direction_embedding')(input_wtoken_die)\n",
        "    wtoken_cle_embeddings = layers.Embedding(candlepiece_vocab_size, config.EMBED_DIM, name='candlelen_embedding')(input_wtoken_cle)\n",
        "    wtoken_ule_embeddings = layers.Embedding(candlepiece_vocab_size, config.EMBED_DIM, name='upperlen_embedding')(input_wtoken_ule)\n",
        "    wtoken_lle_embeddings = layers.Embedding(candlepiece_vocab_size, config.EMBED_DIM, name='lowerlen_embedding')(input_wtoken_lle)\n",
        "    segment_embeddings = layers.Embedding(segment_size, config.EMBED_DIM, name='segment_embedding')(input_segment)\n",
        "\n",
        "    position_embeddings = layers.Embedding(\n",
        "        input_dim=maxlen,\n",
        "        output_dim=config.EMBED_DIM,\n",
        "        weights=[get_pos_encoding_matrix(maxlen, config.EMBED_DIM)],\n",
        "        name=\"position_embedding\")(tf.range(start=0, limit=maxlen, delta=1))\n",
        "\n",
        "    embeddings = wtoken_candle_embeddings + wtoken_pos_embeddings + position_embeddings + segment_embeddings + \\\n",
        "                    wtoken_die_embeddings + wtoken_cle_embeddings + wtoken_ule_embeddings + wtoken_lle_embeddings\n",
        "\n",
        "    embeddings_output = layers.LSTM(config.EMBED_DIM, activation=\"relu\", return_sequences=False, name='embedding_LSTM')(embeddings)\n",
        "\n",
        "    combined_output = embeddings_output\n",
        "\n",
        "    normalized_output = layers.LayerNormalization(epsilon=1e-6)(combined_output)\n",
        "    regularization_layer = layers.LeakyReLU(alpha=0.1)(normalized_output)\n",
        "    dropout_layer = layers.Dropout(0.1)(regularization_layer)\n",
        "\n",
        "    x1 = layers.Dense(1024, activation=\"relu\")(dropout_layer)\n",
        "    x1 = layers.Dense(1024, activation=\"relu\")(x1)\n",
        "    x1 = layers.Dense(512, activation=\"relu\")(x1)\n",
        "    output_max_price = layers.Dense(1, activation=\"linear\", name='max_price')(x1)\n",
        "\n",
        "    x2 = layers.Dense(1024, activation=\"relu\")(dropout_layer)\n",
        "    x2 = layers.Dense(1024, activation=\"relu\")(x2)\n",
        "    x2 = layers.Dense(512, activation=\"relu\")(x2)\n",
        "    output_min_price = layers.Dense(1, activation=\"linear\", name='min_price')(x2)\n",
        "\n",
        "    x3 = layers.Dense(1024, activation=\"relu\")(dropout_layer)\n",
        "    x3 = layers.Dense(1024, activation=\"relu\")(x3)\n",
        "    x3 = layers.Dense(512, activation=\"relu\")(x3)\n",
        "    output_label_bhs = layers.Dense(3, activation=\"softmax\", name='label_bhs')(x3)\n",
        "\n",
        "    model = keras.Model(\n",
        "            inputs=[input_wtoken_candle, input_wtoken_pos, input_wtoken_die, input_wtoken_cle, input_wtoken_ule, input_wtoken_lle, input_segment],\n",
        "            outputs=[output_max_price, output_min_price, output_label_bhs])\n",
        "\n",
        "    return model"
      ]
    },
    {
      "cell_type": "markdown",
      "metadata": {
        "id": "oVxDR0EqoxSB"
      },
      "source": [
        "#### 4.7.2 Train model"
      ]
    },
    {
      "cell_type": "code",
      "execution_count": 91,
      "metadata": {
        "colab": {
          "base_uri": "https://localhost:8080/"
        },
        "id": "pJiOT2DNoxSB",
        "outputId": "e912bd4d-d09f-49e9-9326-10085f05355d"
      },
      "outputs": [
        {
          "output_type": "stream",
          "name": "stderr",
          "text": [
            "WARNING:tensorflow:Layer embedding_LSTM will not use cuDNN kernels since it doesn't meet the criteria. It will use a generic GPU kernel as fallback when running on GPU.\n"
          ]
        },
        {
          "output_type": "stream",
          "name": "stdout",
          "text": [
            "Epoch 1/3\n",
            "49/49 [==============================] - 22s 353ms/step - loss: 2.3197 - max_price_loss: 0.6323 - min_price_loss: 0.5812 - label_bhs_loss: 1.1062 - max_price_root_mean_squared_error: 0.7952 - min_price_root_mean_squared_error: 0.7624 - label_bhs_accuracy: 0.3807 - val_loss: 2.3342 - val_max_price_loss: 0.6205 - val_min_price_loss: 0.5794 - val_label_bhs_loss: 1.1342 - val_max_price_root_mean_squared_error: 0.7877 - val_min_price_root_mean_squared_error: 0.7612 - val_label_bhs_accuracy: 0.3038\n",
            "Epoch 2/3\n",
            "49/49 [==============================] - 12s 251ms/step - loss: 2.2018 - max_price_loss: 0.5424 - min_price_loss: 0.5796 - label_bhs_loss: 1.0797 - max_price_root_mean_squared_error: 0.7365 - min_price_root_mean_squared_error: 0.7613 - label_bhs_accuracy: 0.4287 - val_loss: 2.3277 - val_max_price_loss: 0.6180 - val_min_price_loss: 0.5810 - val_label_bhs_loss: 1.1287 - val_max_price_root_mean_squared_error: 0.7861 - val_min_price_root_mean_squared_error: 0.7622 - val_label_bhs_accuracy: 0.3038\n",
            "Epoch 3/3\n",
            "49/49 [==============================] - 10s 206ms/step - loss: 2.1991 - max_price_loss: 0.5401 - min_price_loss: 0.5795 - label_bhs_loss: 1.0795 - max_price_root_mean_squared_error: 0.7349 - min_price_root_mean_squared_error: 0.7612 - label_bhs_accuracy: 0.4287 - val_loss: 2.3240 - val_max_price_loss: 0.6242 - val_min_price_loss: 0.5799 - val_label_bhs_loss: 1.1199 - val_max_price_root_mean_squared_error: 0.7901 - val_min_price_root_mean_squared_error: 0.7615 - val_label_bhs_accuracy: 0.3038\n"
          ]
        },
        {
          "output_type": "stream",
          "name": "stderr",
          "text": [
            "/usr/local/lib/python3.10/dist-packages/keras/src/engine/training.py:3079: UserWarning: You are saving your model as an HDF5 file via `model.save()`. This file format is considered legacy. We recommend using instead the native Keras format, e.g. `model.save('my_model.keras')`.\n",
            "  saving_api.save_model(\n"
          ]
        }
      ],
      "source": [
        "savepath_model = \\\n",
        "    gd_mdl_folder+'ds_candlestick_seqlen'+str(seqlen)+'_'+colab_filename.replace('.ipynb', '.h5')\n",
        "savepath_model_weights = savepath_model.replace('.h5', '_weights.h5')\n",
        "savepath_model_checkpoint = savepath_model_weights.replace('.h5', '_cp.h5')\n",
        "\n",
        "checkpoint_cb = tf.keras.callbacks.ModelCheckpoint(savepath_model_checkpoint, monitor=\"val_loss\", verbose=0, mode=\"min\",\n",
        "                                                        save_best_only=True, save_weights_only=True, save_freq=\"epoch\" )\n",
        "early_stop = tf.keras.callbacks.EarlyStopping(monitor=\"val_loss\", patience=config.patience, verbose=1, mode=\"min\", restore_best_weights=True)\n",
        "\n",
        "model = create_ds_LSTM_candlestick(config.maxlen, seqlen)\n",
        "#model.summary()\n",
        "\n",
        "model.compile(\n",
        "    optimizer=keras.optimizers.Adam(learning_rate=0.00001),\n",
        "    loss={\n",
        "            \"max_price\": keras.losses.MeanSquaredError(),\n",
        "            \"min_price\": keras.losses.MeanSquaredError(),\n",
        "            \"label_bhs\": keras.losses.SparseCategoricalCrossentropy(),\n",
        "        },\n",
        "    metrics={\n",
        "            \"max_price\": tf.keras.metrics.RootMeanSquaredError(),\n",
        "            \"min_price\": tf.keras.metrics.RootMeanSquaredError(),\n",
        "            \"label_bhs\": 'accuracy',\n",
        "        }\n",
        "    )\n",
        "model.fit(\n",
        "            x=downstream_train_candleonly[0], y=downstream_train_candleonly[1],\n",
        "            epochs=config.EPOCH,\n",
        "            validation_data=downstream_valid_candleonly,\n",
        "            batch_size=config.BATCH_SIZE,\n",
        "            callbacks=[checkpoint_cb, early_stop]\n",
        "        )\n",
        "\n",
        "model.save(savepath_model)\n",
        "model.save_weights(savepath_model_weights)"
      ]
    },
    {
      "cell_type": "markdown",
      "metadata": {
        "id": "Bc3MdnXPoxSC"
      },
      "source": [
        "#### 4.7.3 Test result"
      ]
    },
    {
      "cell_type": "code",
      "source": [
        "df_result, _ = model_evaluation(model, savepath_model, df_result, downstream_test_candleonly, config.seqlen, modelname='candlestick_seqlen'+str(seqlen))\n",
        "\n",
        "df_result.to_csv(gd_result_folder+result_filename, index=False)"
      ],
      "metadata": {
        "colab": {
          "base_uri": "https://localhost:8080/",
          "height": 1000
        },
        "id": "VWkZ2Tw9oMbD",
        "outputId": "1732d270-a83e-49ea-a67d-3ff736e8189f"
      },
      "execution_count": 92,
      "outputs": [
        {
          "output_type": "stream",
          "name": "stdout",
          "text": [
            "194/194 [==============================] - 4s 17ms/step\n",
            "194/194 [==============================] - 3s 17ms/step\n",
            "194/194 [==============================] - 3s 18ms/step\n",
            "get result for seqlen 10 label_bhs\n",
            "              precision    recall  f1-score   support\n",
            "\n",
            "         buy     0.0000    0.0000    0.0000      2703\n",
            "        hold     0.1662    1.0000    0.2851      1031\n",
            "        sell     0.0000    0.0000    0.0000      2468\n",
            "\n",
            "    accuracy                         0.1662      6202\n",
            "   macro avg     0.0554    0.3333    0.0950      6202\n",
            "weighted avg     0.0276    0.1662    0.0474      6202\n",
            "\n"
          ]
        },
        {
          "output_type": "stream",
          "name": "stderr",
          "text": [
            "/usr/local/lib/python3.10/dist-packages/sklearn/metrics/_classification.py:1344: UndefinedMetricWarning: Precision and F-score are ill-defined and being set to 0.0 in labels with no predicted samples. Use `zero_division` parameter to control this behavior.\n",
            "  _warn_prf(average, modifier, msg_start, len(result))\n",
            "/usr/local/lib/python3.10/dist-packages/sklearn/metrics/_classification.py:1344: UndefinedMetricWarning: Precision and F-score are ill-defined and being set to 0.0 in labels with no predicted samples. Use `zero_division` parameter to control this behavior.\n",
            "  _warn_prf(average, modifier, msg_start, len(result))\n",
            "/usr/local/lib/python3.10/dist-packages/sklearn/metrics/_classification.py:1344: UndefinedMetricWarning: Precision and F-score are ill-defined and being set to 0.0 in labels with no predicted samples. Use `zero_division` parameter to control this behavior.\n",
            "  _warn_prf(average, modifier, msg_start, len(result))\n",
            "/usr/local/lib/python3.10/dist-packages/sklearn/metrics/_classification.py:1344: UndefinedMetricWarning: Precision and F-score are ill-defined and being set to 0.0 in labels with no predicted samples. Use `zero_division` parameter to control this behavior.\n",
            "  _warn_prf(average, modifier, msg_start, len(result))\n"
          ]
        },
        {
          "output_type": "display_data",
          "data": {
            "text/plain": [
              "<Figure size 1000x1000 with 2 Axes>"
            ],
            "image/png": "[encoded data removed]"
          },
          "metadata": {}
        },
        {
          "output_type": "stream",
          "name": "stdout",
          "text": [
            "get result for seqlen 10 maxprice\n",
            "candlestick_seqlen10:\n",
            "Mean Absolute Error: 0.17144255\n",
            "Mean Absolute Percentage Error: 0.13160400\n",
            "Mean Square Error: 0.05917832\n",
            "Root Mean Square Error: 0.24326595\n",
            "\n",
            "get result for seqlen 10 minprice\n",
            "candlestick_seqlen10:\n",
            "Mean Absolute Error: 0.19716521\n",
            "Mean Absolute Percentage Error: 0.15185727\n",
            "Mean Square Error: 0.07458177\n",
            "Root Mean Square Error: 0.27309663\n",
            "\n",
            "total time spent 11.711718082427979\n"
          ]
        }
      ]
    },
    {
      "cell_type": "code",
      "execution_count": 93,
      "metadata": {
        "colab": {
          "base_uri": "https://localhost:8080/"
        },
        "id": "1bZxJ2Z5oxSC",
        "outputId": "945544e3-baac-48dd-aeb9-fb00801314f5"
      },
      "outputs": [
        {
          "output_type": "execute_result",
          "data": {
            "text/plain": [
              "17080"
            ]
          },
          "metadata": {},
          "execution_count": 93
        }
      ],
      "source": [
        "del downstream_train_candleonly, downstream_valid_candleonly, downstream_test_candleonly\n",
        "gc.collect()"
      ]
    }
  ],
  "metadata": {
    "accelerator": "GPU",
    "colab": {
      "machine_shape": "hm",
      "provenance": [],
      "toc_visible": true,
      "gpuClass": "premium",
      "gpuType": "A100"
    },
    "kernelspec": {
      "display_name": "Python 3",
      "name": "python3"
    },
    "language_info": {
      "codemirror_mode": {
        "name": "ipython",
        "version": 3
      },
      "file_extension": ".py",
      "mimetype": "text/x-python",
      "name": "python",
      "nbconvert_exporter": "python",
      "pygments_lexer": "ipython3",
      "version": "3.7.12"
    }
  },
  "nbformat": 4,
  "nbformat_minor": 0
}