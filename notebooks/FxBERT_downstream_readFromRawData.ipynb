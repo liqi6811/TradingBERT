{
  "cells": [
    {
      "cell_type": "markdown",
      "metadata": {
        "id": "dq_oqA_b1pVi"
      },
      "source": [
        "## 0.Import libraries"
      ]
    },
    {
      "cell_type": "code",
      "execution_count": 1,
      "metadata": {
        "id": "VQszBadJhSdG"
      },
      "outputs": [],
      "source": [
        "import pandas as pd\n",
        "import os, sys\n",
        "import numpy as np\n",
        "from dataclasses import dataclass\n",
        "import random, math, operator\n",
        "from pprint import pprint\n",
        "import pickle, gc, itertools\n",
        "from pathlib import Path\n",
        "import time, datetime\n",
        "from collections import *\n",
        "import matplotlib.pyplot as plt\n",
        "import subprocess\n",
        "import gc\n",
        "\n",
        "from sklearn.metrics import confusion_matrix, accuracy_score, f1_score, precision_score, recall_score, balanced_accuracy_score\n",
        "from sklearn.metrics import precision_recall_fscore_support as score\n",
        "from sklearn.metrics import classification_report\n",
        "from sklearn.preprocessing import MinMaxScaler\n",
        "\n",
        "import tensorflow as tf\n",
        "from tensorflow import keras\n",
        "from tensorflow.keras import layers\n",
        "from tensorflow.keras.models import *\n",
        "from tensorflow.keras.layers import *\n",
        "from tensorflow.keras.optimizers import *\n",
        "from tensorflow.keras.utils import *\n",
        "from keras.layers import LSTM\n",
        "from tensorflow.keras.models import Sequential, model_from_json\n",
        "from tensorflow.keras.optimizers.schedules import ExponentialDecay\n",
        "from tensorflow.keras.callbacks import LearningRateScheduler\n",
        "from tensorflow.keras.models import load_model\n",
        "\n",
        "import warnings"
      ]
    },
    {
      "cell_type": "markdown",
      "metadata": {
        "id": "4YlsmjaOELqx"
      },
      "source": [
        "## 1.Setup configuration"
      ]
    },
    {
      "cell_type": "code",
      "execution_count": 2,
      "metadata": {
        "colab": {
          "base_uri": "https://localhost:8080/",
          "height": 35
        },
        "id": "Q-T6aMqBtt1N",
        "outputId": "65bfdf8f-7a49-401f-f38e-cbe06444c2cb"
      },
      "outputs": [
        {
          "output_type": "execute_result",
          "data": {
            "text/plain": [
              "'FxBERT_downstream_readFromRawData.csv'"
            ],
            "application/vnd.google.colaboratory.intrinsic+json": {
              "type": "string"
            }
          },
          "metadata": {},
          "execution_count": 2
        }
      ],
      "source": [
        "from requests import get\n",
        "#colab_filename = get('http://172.28.0.2:9000/api/sessions').json()[0]['name']\n",
        "colab_filename = 'FxBERT_downstream_readFromRawData.ipynb'\n",
        "result_filename = colab_filename.replace('.ipynb', '.csv')\n",
        "result_filename"
      ]
    },
    {
      "cell_type": "code",
      "execution_count": 3,
      "metadata": {
        "id": "tVF9I76bYWw4"
      },
      "outputs": [],
      "source": [
        "@dataclass\n",
        "class Config:\n",
        "    BATCH_SIZE = 1024\n",
        "    EMBED_DIM = 128\n",
        "    NUM_HEAD = 8  # used in bert model\n",
        "    FF_DIM = 1024  # used in bert model\n",
        "    NUM_LAYERS = 12\n",
        "    EPOCH = 3 # 10000\n",
        "    SEQLENGTH = 100\n",
        "    CURRENCY ='USD_JPY_M15'\n",
        "    MASK_PERCT = 0.15\n",
        "    maxlen = 100\n",
        "    patience = 30\n",
        "    seqlen = 10\n",
        "    isTrain = True\n",
        "\n",
        "config = Config()"
      ]
    },
    {
      "cell_type": "code",
      "execution_count": 4,
      "metadata": {
        "colab": {
          "base_uri": "https://localhost:8080/"
        },
        "id": "MQhMMnNnFjsc",
        "outputId": "7189eef7-0058-4ac2-a149-f0993e0a35e3"
      },
      "outputs": [
        {
          "output_type": "stream",
          "name": "stdout",
          "text": [
            "Mounted at /content/drive\n"
          ]
        }
      ],
      "source": [
        "from google.colab import drive\n",
        "drive.mount('/content/drive')\n",
        "base_folder = '/content/drive/MyDrive/MyResearch_FT/14.BERT/'\n",
        "\n",
        "gd_processedData_folder = base_folder + '3.processed_data'\n",
        "gd_ref_folder = base_folder + '4.ref_data/'\n",
        "gd_mdl_folder = base_folder + '1.model/FxBERT/'+config.CURRENCY+'/downstream/'\n",
        "gd_result_folder = base_folder + '2.result/FxBERT/'\n",
        "gd_rawdata_folder = base_folder + '5.raw_data/'"
      ]
    },
    {
      "cell_type": "code",
      "source": [
        "Path(gd_processedData_folder).mkdir(parents=True, exist_ok=True)\n",
        "Path(gd_ref_folder).mkdir(parents=True, exist_ok=True)\n",
        "Path(gd_mdl_folder).mkdir(parents=True, exist_ok=True)\n",
        "Path(gd_result_folder).mkdir(parents=True, exist_ok=True)\n",
        "# Path(gd_rawdata_folder).mkdir(parents=True, exist_ok=True)"
      ],
      "metadata": {
        "id": "nKNIQRSOlQ7l"
      },
      "execution_count": null,
      "outputs": []
    },
    {
      "cell_type": "markdown",
      "metadata": {
        "id": "8JwlBpJre5K3"
      },
      "source": [
        "## 2.FxBERT - create model"
      ]
    },
    {
      "cell_type": "code",
      "execution_count": 5,
      "metadata": {
        "id": "vKqurfiHe5K5"
      },
      "outputs": [],
      "source": [
        "def bert_module(query, key, value, i, pad_mask=None):\n",
        "    # Multi headed self-attention\n",
        "    attention_output = layers.MultiHeadAttention(\n",
        "        num_heads=config.NUM_HEAD,\n",
        "        key_dim=config.EMBED_DIM // config.NUM_HEAD,\n",
        "        name=\"encoder_{}/multiheadattention\".format(i),\n",
        "    )(query, key, value, attention_mask=pad_mask)\n",
        "    attention_output = layers.Dropout(0.1, name=\"encoder_{}/att_dropout\".format(i))(\n",
        "        attention_output\n",
        "    )\n",
        "    attention_output = layers.LayerNormalization(\n",
        "        epsilon=1e-6, name=\"encoder_{}/att_layernormalization\".format(i)\n",
        "    )(query + attention_output)\n",
        "\n",
        "    # Feed-forward layer\n",
        "    ffn = keras.Sequential(\n",
        "        [\n",
        "            layers.Dense(config.FF_DIM, activation=\"relu\"),\n",
        "            layers.Dense(config.EMBED_DIM),\n",
        "        ],\n",
        "        name=\"encoder_{}/ffn\".format(i),\n",
        "    )\n",
        "    ffn_output = ffn(attention_output)\n",
        "    ffn_output = layers.Dropout(0.1, name=\"encoder_{}/ffn_dropout\".format(i))(\n",
        "        ffn_output\n",
        "    )\n",
        "    sequence_output = layers.LayerNormalization(\n",
        "        epsilon=1e-6, name=\"encoder_{}/ffn_layernormalization\".format(i)\n",
        "    )(attention_output + ffn_output)\n",
        "\n",
        "    return sequence_output\n",
        "\n",
        "def get_pos_encoding_matrix(max_len, d_emb):\n",
        "    pos_enc = np.array(\n",
        "        [\n",
        "            [pos / np.power(10000, 2 * (j // 2) / d_emb) for j in range(d_emb)]\n",
        "            if pos != 0\n",
        "            else np.zeros(d_emb)\n",
        "            for pos in range(max_len)\n",
        "        ]\n",
        "    )\n",
        "    pos_enc[1:, 0::2] = np.sin(pos_enc[1:, 0::2])  # dim 2i\n",
        "    pos_enc[1:, 1::2] = np.cos(pos_enc[1:, 1::2])  # dim 2i+1\n",
        "    return pos_enc\n",
        "\n",
        "def get_attn_pad_mask(seq_q, seq_k):\n",
        "   batch_size, len_q = seq_q.get_shape()\n",
        "   batch_size, len_k = seq_k.get_shape()\n",
        "   # eq(zero) is PAD token\n",
        "   pad_attn_mask = tf.equal(seq_k, 0)\n",
        "   pad_attn_mask = tf.expand_dims(pad_attn_mask, 1)  # batch_size x 1 x len_k(=len_q), one is masking\n",
        "   pad_attn_mask = tf.repeat(pad_attn_mask, repeats=[len_q], axis=1)\n",
        "   return pad_attn_mask  # batch_size x len_q x len_k"
      ]
    },
    {
      "cell_type": "code",
      "source": [
        "def unpickleData(file):\n",
        "    print(\"start processing data ...\")\n",
        "    data_dict = {}\n",
        "\n",
        "    if not os.path.isfile(file):\n",
        "        print(file, \"does not exist.\")\n",
        "    else:\n",
        "        print(file, \"... unpacking ...\")\n",
        "        with open(file, \"rb\") as fp:\n",
        "            unpickler = pickle.Unpickler(fp)\n",
        "            try:\n",
        "                data_dict.update(unpickler.load())\n",
        "            except:\n",
        "                pass\n",
        "            fp.close()\n",
        "\n",
        "    print(\"len(data_dict)\", len(data_dict))\n",
        "    return data_dict\n",
        "\n",
        "refData = unpickleData(os.path.join(gd_ref_folder, config.CURRENCY+'_dictionary_github.txt'))"
      ],
      "metadata": {
        "colab": {
          "base_uri": "https://localhost:8080/"
        },
        "id": "WdzwAFfSxdzr",
        "outputId": "84a9fdfe-c10c-4f96-ee01-a947deeb7252"
      },
      "execution_count": 6,
      "outputs": [
        {
          "output_type": "stream",
          "name": "stdout",
          "text": [
            "start processing data ...\n",
            "/content/drive/MyDrive/MyResearch_FT/14.BERT/4.ref_data/USD_JPY_M15_dictionary_github.txt ... unpacking ...\n",
            "len(data_dict) 8\n"
          ]
        }
      ]
    },
    {
      "cell_type": "code",
      "execution_count": 7,
      "metadata": {
        "id": "lk1D2bxw6H6-"
      },
      "outputs": [],
      "source": [
        "candlestick_vocab_size=len(refData['candlestick_encode_dict'])  # 39083\n",
        "pos_vocab_size=len(refData['pos_decode_dict'])  # 6109\n",
        "direction_vocab_size=len(refData['direction_encode_dict'])   # 7\n",
        "candlepiece_vocab_size=len(refData['candlepiece_encode_dict'])   # 138\n",
        "segment_size=3"
      ]
    },
    {
      "cell_type": "code",
      "execution_count": 8,
      "metadata": {
        "id": "AVv60pVyzUmR"
      },
      "outputs": [],
      "source": [
        "def create_FxBERT(maxlen):\n",
        "    input_wtoken_candle = layers.Input((maxlen,), dtype=tf.int64, name='input_ids_candle')\n",
        "    input_wtoken_pos = layers.Input((maxlen,), dtype=tf.int64, name='input_ids_pos')\n",
        "    input_wtoken_die = layers.Input((maxlen,), dtype=tf.int64, name='input_ids_die')\n",
        "    input_wtoken_cle = layers.Input((maxlen,), dtype=tf.int64, name='input_ids_cle')\n",
        "    input_wtoken_ule = layers.Input((maxlen,), dtype=tf.int64, name='input_ids_ule')\n",
        "    input_wtoken_lle = layers.Input((maxlen,), dtype=tf.int64, name='input_ids_lle')\n",
        "\n",
        "    input_segment = layers.Input((maxlen,), dtype=tf.int64, name='segment_ids')\n",
        "\n",
        "    wtoken_candle_embeddings = layers.Embedding(candlestick_vocab_size, config.EMBED_DIM, name='wtoken_candle_embedding')(input_wtoken_candle)\n",
        "    wtoken_pos_embeddings = layers.Embedding(pos_vocab_size, config.EMBED_DIM, name='wtoken_embedding')(input_wtoken_pos)\n",
        "    wtoken_die_embeddings = layers.Embedding(direction_vocab_size, config.EMBED_DIM, name='direction_embedding')(input_wtoken_die)\n",
        "    wtoken_cle_embeddings = layers.Embedding(candlepiece_vocab_size, config.EMBED_DIM, name='candlelen_embedding')(input_wtoken_cle)\n",
        "    wtoken_ule_embeddings = layers.Embedding(candlepiece_vocab_size, config.EMBED_DIM, name='upperlen_embedding')(input_wtoken_ule)\n",
        "    wtoken_lle_embeddings = layers.Embedding(candlepiece_vocab_size, config.EMBED_DIM, name='lowerlen_embedding')(input_wtoken_lle)\n",
        "\n",
        "    segment_embeddings = layers.Embedding(segment_size, config.EMBED_DIM, name='segment_embedding')(input_segment)\n",
        "\n",
        "    mask = layers.Embedding(candlestick_vocab_size, config.EMBED_DIM, mask_zero=True).compute_mask(input_wtoken_candle)\n",
        "    attn_mask = tf.cast(mask[:, tf.newaxis, tf.newaxis, :], dtype=\"int32\")\n",
        "\n",
        "    position_embeddings = layers.Embedding(\n",
        "        input_dim=maxlen,\n",
        "        output_dim=config.EMBED_DIM,\n",
        "        weights=[get_pos_encoding_matrix(maxlen, config.EMBED_DIM)],\n",
        "        name=\"position_embedding\")(tf.range(start=0, limit=maxlen, delta=1))\n",
        "\n",
        "    embeddings = wtoken_candle_embeddings + wtoken_pos_embeddings + position_embeddings + segment_embeddings + \\\n",
        "                    wtoken_die_embeddings + wtoken_cle_embeddings + wtoken_ule_embeddings + wtoken_lle_embeddings\n",
        "\n",
        "    encoder_input = embeddings\n",
        "    for i in range(config.NUM_LAYERS):\n",
        "        encoder_output = bert_module(encoder_input, encoder_input, encoder_input, i, attn_mask)\n",
        "\n",
        "    output_wtoken_candle = layers.Dense(candlestick_vocab_size, name='out_input_ids_candle', activation='softmax')(encoder_output)\n",
        "    output_wtoken_pos = layers.Dense(pos_vocab_size, name='out_input_ids_pos', activation='softmax')(encoder_output)\n",
        "    output_wtoken_die = layers.Dense(direction_vocab_size, name='out_input_ids_die', activation='softmax')(encoder_output)\n",
        "    output_wtoken_cle = layers.Dense(candlepiece_vocab_size, name='out_input_ids_cle', activation='softmax')(encoder_output)\n",
        "    output_wtoken_ule = layers.Dense(candlepiece_vocab_size, name='out_input_ids_ule', activation='softmax')(encoder_output)\n",
        "    output_wtoken_lle = layers.Dense(candlepiece_vocab_size, name='out_input_ids_lle', activation='softmax')(encoder_output)\n",
        "\n",
        "    flat_encoder_output = layers.Flatten(name=\"flat_encoder_output\")(encoder_output)\n",
        "    output_label_isNext = layers.Dense(2, name='label_isNext', activation='softmax')(flat_encoder_output)\n",
        "\n",
        "    model = tf.keras.Model(\n",
        "                            inputs=[input_wtoken_candle, input_wtoken_pos, input_wtoken_die, input_wtoken_cle,\n",
        "                                    input_wtoken_ule, input_wtoken_lle, input_segment],\n",
        "                            outputs=[output_wtoken_candle, output_wtoken_pos, output_wtoken_die, output_wtoken_cle,\n",
        "                                     output_wtoken_ule, output_wtoken_lle, output_label_isNext],\n",
        "                            name='FxBERT')\n",
        "\n",
        "    return model"
      ]
    },
    {
      "cell_type": "markdown",
      "metadata": {
        "id": "YAn_clT4hUQB"
      },
      "source": [
        "## 3.Evaluation functions"
      ]
    },
    {
      "cell_type": "markdown",
      "metadata": {
        "id": "GZZz6j3thUQB"
      },
      "source": [
        "### 3.1 Prediction"
      ]
    },
    {
      "cell_type": "code",
      "execution_count": 43,
      "metadata": {
        "id": "MR6y30EYhUQB"
      },
      "outputs": [],
      "source": [
        "def get_predictions_all(mdl, test_dataset):\n",
        "    y_pred_maxprice, y_pred_minprice, y_pred_labelbhs = [], [], []\n",
        "    y_true_maxprice, y_true_minprice, y_true_labelbhs = [], [], []\n",
        "    ref_max_scale, ref_min_scale, maxprice_ori, minprice_ori = [], [], [], []\n",
        "\n",
        "    df_prediction = pd.DataFrame(columns=['y_true_labelbhs', 'y_pred_labelbhs', 'y_true_maxprice', 'y_pred_maxprice', 'maxprice_ori', \\\n",
        "                                          'y_true_minprice', 'y_pred_minprice', 'minprice_ori', 'ref_max_scale', 'ref_min_scale'])\n",
        "\n",
        "    test_inputs = test_dataset[0]\n",
        "    test_targets = test_dataset[1]\n",
        "    ref_data = test_dataset[2]\n",
        "\n",
        "    prediction_maxprice = [item for sublist in mdl.predict(test_inputs)[0].tolist() for item in sublist]\n",
        "    prediction_minprice = [item for sublist in mdl.predict(test_inputs)[1].tolist() for item in sublist]\n",
        "    prediction_labelbhs = mdl.predict(test_inputs)[2].argmax(axis=-1).tolist()\n",
        "\n",
        "    y_pred_maxprice.extend(prediction_maxprice)\n",
        "    y_true_maxprice.extend(test_targets['max_price'])\n",
        "\n",
        "    y_pred_minprice.extend(prediction_minprice)\n",
        "    y_true_minprice.extend(test_targets['min_price'])\n",
        "\n",
        "    y_pred_labelbhs.extend(prediction_labelbhs)\n",
        "    y_true_labelbhs.extend(test_targets['label_bhs'])\n",
        "\n",
        "    ref_max_scale.extend(ref_data['max_scale'])\n",
        "    ref_min_scale.extend(ref_data['min_scale'])\n",
        "    maxprice_ori.extend(ref_data['max_ori'])\n",
        "    minprice_ori.extend(ref_data['min_ori'])\n",
        "\n",
        "    df_prediction['y_true_labelbhs'],  df_prediction['y_pred_labelbhs'] = y_true_labelbhs, y_pred_labelbhs\n",
        "    df_prediction['y_true_maxprice'], df_prediction['y_pred_maxprice'], df_prediction['maxprice_ori'] = y_true_maxprice, y_pred_maxprice, maxprice_ori\n",
        "    df_prediction['y_true_minprice'], df_prediction['y_pred_minprice'], df_prediction['minprice_ori'] = y_true_minprice, y_pred_minprice, minprice_ori\n",
        "    df_prediction['ref_max_scale'], df_prediction['ref_min_scale'] = ref_max_scale, ref_min_scale\n",
        "\n",
        "    df_prediction['maxprice_prediction'] = df_prediction.apply(lambda r: (r['ref_max_scale']-r['ref_min_scale'])*r['y_pred_maxprice']+r['ref_min_scale'], axis=1)\n",
        "    df_prediction['minprice_prediction'] = df_prediction.apply(lambda r: (r['ref_max_scale']-r['ref_min_scale'])*r['y_pred_minprice']+r['ref_min_scale'], axis=1)\n",
        "\n",
        "    return df_prediction"
      ]
    },
    {
      "cell_type": "markdown",
      "metadata": {
        "id": "9YRXq4tghUQC"
      },
      "source": [
        "### 3.2 Evaluation function for regression model"
      ]
    },
    {
      "cell_type": "code",
      "execution_count": 44,
      "metadata": {
        "id": "ahc5SqXihUQC"
      },
      "outputs": [],
      "source": [
        "def evaluate_regression_prediction(y_pred, y_true, model_name, printFlag=True):\n",
        "\n",
        "    errors = np.array(y_pred) - np.array(y_true)\n",
        "    mse = np.square(errors).mean()\n",
        "    rmse = np.sqrt(mse)\n",
        "    mae = np.abs(errors).mean()\n",
        "    mape = np.abs(100*errors/y_true).mean()\n",
        "\n",
        "    if printFlag:\n",
        "        print(model_name + ':')\n",
        "        print('Mean Absolute Error: {:.8f}'.format(mae))\n",
        "        print('Mean Absolute Percentage Error: {:.8f}'.format(mape))\n",
        "        print('Mean Square Error: {:.8f}'.format(mse))\n",
        "        print('Root Mean Square Error: {:.8f}'.format(rmse))\n",
        "        print('')\n",
        "\n",
        "    return mae, mape, mse, rmse"
      ]
    },
    {
      "cell_type": "markdown",
      "metadata": {
        "id": "Vgxq5pq_hUQC"
      },
      "source": [
        "### 3.3 Evaluation function for classification model"
      ]
    },
    {
      "cell_type": "code",
      "execution_count": 45,
      "metadata": {
        "id": "G9OJzgOlhUQC"
      },
      "outputs": [],
      "source": [
        "def plot_confusion_matrix(cm, classes, title, normalize=False, cmap=plt.cm.Blues):\n",
        "    if normalize:\n",
        "        cm = cm.astype('float') / cm.sum(axis=1)[:, np.newaxis]\n",
        "        #print(\"Normalized confusion matrix\")\n",
        "    else:\n",
        "        pass\n",
        "        #print('Confusion matrix, without normalization')\n",
        "\n",
        "    plt.rcParams[\"figure.figsize\"] = (10, 10)\n",
        "\n",
        "    plt.imshow(cm, interpolation='nearest', cmap=cmap)\n",
        "    plt.title(title)\n",
        "    plt.colorbar()\n",
        "    tick_marks = np.arange(len(classes))\n",
        "    plt.xticks(tick_marks, classes, rotation=45)\n",
        "    plt.yticks(tick_marks, classes)\n",
        "\n",
        "    fmt = '.2f' if normalize else 'd'\n",
        "    thresh = cm.max() / 2.\n",
        "    for i, j in itertools.product(range(cm.shape[0]), range(cm.shape[1])):\n",
        "        plt.text(j, i, format(cm[i, j], fmt), horizontalalignment=\"center\", color=\"white\" if cm[i, j] > thresh else \"black\")\n",
        "\n",
        "    plt.tight_layout()\n",
        "    plt.ylabel('True label')\n",
        "    plt.xlabel('Predicted label')\n",
        "    # plt.savefig(gd_result_folder+'confusionMatrix/'+title+'.png', bbox_inches = \"tight\")\n",
        "    plt.show()"
      ]
    },
    {
      "cell_type": "code",
      "execution_count": 12,
      "metadata": {
        "id": "nhlsYYFcuGQ-"
      },
      "outputs": [],
      "source": [
        "#dict_classes = {'buy': 0, 'sell': 1, 'hold': 2}\n",
        "#tuple(list(dict_classes.keys()))"
      ]
    },
    {
      "cell_type": "code",
      "execution_count": 46,
      "metadata": {
        "id": "z_wMQ2ebhUQD"
      },
      "outputs": [],
      "source": [
        "def evaluate_classification_prediction(y_pred, y_true, dict_classes, title):\n",
        "\n",
        "    precision, recall, fscore, support = score(y_true, y_pred)\n",
        "    accuracy = accuracy_score(y_true, y_pred)\n",
        "    weighted_accuracy = balanced_accuracy_score(y_true, y_pred)\n",
        "\n",
        "    pred_label = [list(dict_classes.keys())[list(dict_classes.values()).index(l)] for l in y_pred]\n",
        "    actual_label = [list(dict_classes.keys())[list(dict_classes.values()).index(l)] for l in y_true]\n",
        "    print(classification_report(actual_label, pred_label, digits=4))\n",
        "    #print(confusion_matrix(actual_label, pred_label))\n",
        "    plot_confusion_matrix(confusion_matrix(y_true, y_pred), tuple(list(dict_classes.keys())), title)  # tuple(list(set(pred_label)|set(actual_label)))\n",
        "\n",
        "    return accuracy, precision, recall, fscore, support, weighted_accuracy"
      ]
    },
    {
      "cell_type": "markdown",
      "metadata": {
        "id": "apoEbRX0hUQD"
      },
      "source": [
        "### 3.4 Model evaluation"
      ]
    },
    {
      "cell_type": "code",
      "execution_count": 50,
      "metadata": {
        "id": "Q5pFJIAdhUQD"
      },
      "outputs": [],
      "source": [
        "if Path(gd_result_folder+result_filename).is_file():\n",
        "    df_result = pd.read_csv(gd_result_folder+result_filename)\n",
        "else:\n",
        "    result_columns = ['datetime', 'currency', 'seq_length', 'masked_percentage', \\\n",
        "                    'model_type', 'model_name', 'monitor_type', 'targetName', 'accuracy', 'weighted average accuracy', 'MAE', 'MAPE', 'MSE', 'RMSE']\n",
        "    df_result = pd.DataFrame(columns=result_columns)"
      ]
    },
    {
      "cell_type": "code",
      "execution_count": 51,
      "metadata": {
        "id": "Ee2OSUj0hUQD"
      },
      "outputs": [],
      "source": [
        "def model_evaluation(model, modelpath, result_df, downstream_test_ds, seqlen, modelname):\n",
        "    starttime = time.time()\n",
        "    df_pred = get_predictions_all(model, downstream_test_ds)\n",
        "\n",
        "    print(\"get result for seqlen %d label_bhs\" % seqlen)\n",
        "    label_bhs_dict = {'buy': 0, 'sell': 1, 'hold': 2}\n",
        "    accuracy, precision, recall, fscore, support, weighted_accuracy = \\\n",
        "        evaluate_classification_prediction(df_pred['y_pred_labelbhs'].tolist(), df_pred['y_true_labelbhs'].tolist(), label_bhs_dict, modelname)\n",
        "\n",
        "    result_list = [datetime.datetime.now(), config.CURRENCY, config.seqlen, config.MASK_PERCT, \\\n",
        "                modelname, modelpath.replace(gd_mdl_folder, ''), 'val_loss', 'label_bhs', accuracy, weighted_accuracy, np.NaN, np.NaN, np.NaN, np.NaN]\n",
        "    result_df.loc[len(result_df)] = result_list\n",
        "\n",
        "    print(\"get result for seqlen %d maxprice\" % seqlen)\n",
        "    mae, mape, mse, rmse = evaluate_regression_prediction(df_pred['maxprice_prediction'].tolist(), df_pred['maxprice_ori'].tolist(), modelname)\n",
        "    result_list = [datetime.datetime.now(), config.CURRENCY, config.seqlen, config.MASK_PERCT, \\\n",
        "                modelname, modelpath.replace(gd_mdl_folder, ''), 'val_loss', 'max price', np.NaN, np.NaN, mae, mape, mse, rmse]\n",
        "    result_df.loc[len(result_df)] = result_list\n",
        "\n",
        "    print(\"get result for seqlen %d minprice\" % seqlen)\n",
        "    mae, mape, mse, rmse = evaluate_regression_prediction(df_pred['minprice_prediction'].tolist(), df_pred['minprice_ori'].tolist(), modelname)\n",
        "    result_list = [datetime.datetime.now(), config.CURRENCY, config.seqlen, config.MASK_PERCT, \\\n",
        "                    modelname, modelpath.replace(gd_mdl_folder, ''), 'val_loss', 'min price', np.NaN, np.NaN, mae, mape, mse, rmse]\n",
        "    result_df.loc[len(result_df)] = result_list\n",
        "\n",
        "    print(\"total time spent\", time.time()-starttime)\n",
        "    return result_df, df_pred"
      ]
    },
    {
      "cell_type": "markdown",
      "metadata": {
        "id": "uVpzOj7nhUQD"
      },
      "source": [
        "## 4.Downstream tasks"
      ]
    },
    {
      "cell_type": "markdown",
      "source": [
        "### 4.1 Data preprocessing"
      ],
      "metadata": {
        "id": "ZuNwKaKItpsD"
      }
    },
    {
      "cell_type": "code",
      "source": [
        "df_raw = pd.read_csv(os.path.join(gd_rawdata_folder, config.CURRENCY+'_200501_202206.csv'))\n",
        "df_raw['datetime'] = pd.to_datetime(df_raw['datetime'], format='%Y-%m-%dT%H:%M:%S.000000000Z')\n",
        "\n",
        "if config.CURRENCY == 'USD_JPY_M15':\n",
        "    pip = 0.01\n",
        "elif config.CURRENCY == 'AUD_USD_M15':\n",
        "    pip = 0.0001\n",
        "elif config.CURRENCY == 'EUR_GBP_M15':\n",
        "    pip = 0.0001\n",
        "else:\n",
        "    print('please check')\n",
        "\n",
        "df_raw['pip'] = pip\n",
        "df_raw['avg'] = df_raw[['open', 'high', 'low', 'close']].mean(axis=1)"
      ],
      "metadata": {
        "id": "gZxdlvDM_kzk"
      },
      "execution_count": 16,
      "outputs": []
    },
    {
      "cell_type": "code",
      "execution_count": 17,
      "metadata": {
        "id": "vODQlTcfBtHc"
      },
      "outputs": [],
      "source": [
        "def getHandL_next_N_window(df, windowSize, pips):\n",
        "    def idx_max(x):\n",
        "        return x.index.values[np.argmax(x.values)]\n",
        "    def idx_min(x):\n",
        "        return x.index.values[np.argmin(x.values)]\n",
        "    df_max_next = df['high'].rolling(windowSize).agg(['max', idx_max]).shift(-1*windowSize)\n",
        "    df_min_next = df['low'].rolling(windowSize).agg(['min', idx_min]).shift(-1*windowSize)\n",
        "    df_merged = pd.concat([df, df_max_next, df_min_next], axis=1)\n",
        "    df_merged = df_merged.rename(columns={'max': 'hh_next_'+str(windowSize), \\\n",
        "                                          'idx_max': 'hh_next_idx_'+str(windowSize), \\\n",
        "                                          'min': 'll_next_'+str(windowSize), \\\n",
        "                                          'idx_min': 'll_next_idx_'+str(windowSize)})\n",
        "\n",
        "    df_merged['hh_diff_'+str(windowSize)]=df_merged.apply(lambda row: (row['hh_next_'+str(windowSize)]-row['close'])/pips, axis=1)\n",
        "    df_merged['ll_diff_'+str(windowSize)]=df_merged.apply(lambda row: (row['close']-row['ll_next_'+str(windowSize)])/pips, axis=1)\n",
        "\n",
        "    return df_merged"
      ]
    },
    {
      "cell_type": "code",
      "execution_count": 18,
      "metadata": {
        "id": "_ILlZYD-BtHk"
      },
      "outputs": [],
      "source": [
        "def get_labels_buy_hold_sell(df, windowSize, pips, pt, sl):\n",
        "    if ('hh_diff_'+str(windowSize) not in list(df.columns)) or ('ll_diff_'+str(windowSize) not in list(df.columns)):\n",
        "        df = getHandL_next_N_window(df, windowSize, pips)\n",
        "\n",
        "    conditions = [\n",
        "        (df['hh_diff_'+str(windowSize)]>pt) & (df['ll_diff_'+str(windowSize)]<sl),\n",
        "        (df['hh_diff_'+str(windowSize)]>pt) & (df['ll_diff_'+str(windowSize)]>sl)\n",
        "                & (df['hh_next_idx_'+str(windowSize)]<df['ll_next_idx_'+str(windowSize)]),\n",
        "        (df['ll_diff_'+str(windowSize)]>pt) & (df['hh_diff_'+str(windowSize)]<sl),\n",
        "        (df['ll_diff_'+str(windowSize)]>pt) & (df['hh_diff_'+str(windowSize)]>sl)\n",
        "                & (df['ll_next_idx_'+str(windowSize)]<df['hh_next_idx_'+str(windowSize)]),\n",
        "    ]\n",
        "    label_dict = {0:'buy', 1:'sell', 2:'hold'}\n",
        "\n",
        "    #labels = ['buy','buy','sell','sell']\n",
        "    labels = [0, 0, 1, 1]\n",
        "    df['label_bhs_ws'+str(windowSize)+'_pt'+str(pt)+'_sl'+str(sl)] = np.select(conditions, labels, default=2) # hold\n",
        "    df.drop(columns=['hh_next_idx_'+str(windowSize), 'll_next_idx_'+str(windowSize), 'hh_diff_'+str(windowSize), 'll_diff_'+str(windowSize)], inplace=True)\n",
        "\n",
        "    return df"
      ]
    },
    {
      "cell_type": "code",
      "execution_count": 19,
      "metadata": {
        "id": "7_9ZJEWWBtHl"
      },
      "outputs": [],
      "source": [
        "%%capture\n",
        "!wget https://launchpad.net/~mario-mariomedina/+archive/ubuntu/talib/+files/libta-lib0_0.4.0-oneiric1_amd64.deb -qO libta.deb\n",
        "!wget https://launchpad.net/~mario-mariomedina/+archive/ubuntu/talib/+files/ta-lib0-dev_0.4.0-oneiric1_amd64.deb -qO ta.deb\n",
        "!dpkg -i libta.deb ta.deb\n",
        "!pip install ta-lib\n",
        "\n",
        "import talib"
      ]
    },
    {
      "cell_type": "code",
      "execution_count": 20,
      "metadata": {
        "id": "ooPrtJhWBtHl"
      },
      "outputs": [],
      "source": [
        "def getTalibIndicators(df):\n",
        "    high = df.high\n",
        "    low = df.low\n",
        "    open = df.open\n",
        "    close = df.close\n",
        "\n",
        "    df['macd'], df['macd_signal'], df['macd_hist'] = talib.MACD(df['close'], 12, 26, 9)\n",
        "\n",
        "    for i in range(10, 50, 10):\n",
        "        df['RSI_'+str(i)] = talib.RSI(close, timeperiod=i)\n",
        "        df['WILLR_'+str(i)] = talib.WILLR(high, low, close, timeperiod=i)\n",
        "        df['EMA_'+str(i)] = talib.EMA(close, timeperiod=i)\n",
        "\n",
        "    return df"
      ]
    },
    {
      "cell_type": "code",
      "execution_count": 21,
      "metadata": {
        "id": "dQ6vO3DDBtHm"
      },
      "outputs": [],
      "source": [
        "def getCandleElements(df_tmp, direction_encode_dict, candlepiece_encode_dict, pos_encode_dict, candlestick_encode_dict):\n",
        "\n",
        "    df_tmp['direction'] = 0\n",
        "    df_tmp.loc[df_tmp['close'] > df_tmp['open'], 'direction'] = 1\n",
        "    df_tmp.loc[df_tmp['close'] < df_tmp['open'], 'direction'] = -1\n",
        "\n",
        "    df_tmp['candle_len'] = abs(df_tmp['close']-df_tmp['open'])/df_tmp['pip']\n",
        "    df_tmp['candle_len'] = df_tmp['candle_len'].apply(lambda r: round(r, 0)).astype(int)\n",
        "\n",
        "    df_tmp['upper_len'] = 0\n",
        "    df_tmp.loc[df_tmp['close'] > df_tmp['open'], 'upper_len'] = abs(df_tmp['high']-df_tmp['close'])/df_tmp['pip']\n",
        "    df_tmp.loc[df_tmp['close'] < df_tmp['open'], 'upper_len'] = abs(df_tmp['high']-df_tmp['open'])/df_tmp['pip']\n",
        "    df_tmp['upper_len'] = df_tmp['upper_len'].apply(lambda r: round(r, 0)).astype(int)\n",
        "\n",
        "    df_tmp['lower_len'] = 0\n",
        "    df_tmp.loc[df_tmp['close'] > df_tmp['open'], 'lower_len'] = abs(df_tmp['low']-df_tmp['open'])/df_tmp['pip']\n",
        "    df_tmp.loc[df_tmp['close'] < df_tmp['open'], 'lower_len'] = abs(df_tmp['low']-df_tmp['close'])/df_tmp['pip']\n",
        "    df_tmp['lower_len'] = df_tmp['lower_len'].apply(lambda r: round(r, 0)).astype(int)\n",
        "\n",
        "    df_tmp['pos_low'] = df_tmp['low']/df_tmp['pip']\n",
        "    df_tmp['pos_low'] = df_tmp['pos_low'].apply(lambda r: round(r, 0)).astype(int)\n",
        "\n",
        "    df_tmp['direction_encoded'] = df_tmp['direction'].apply(lambda row: direction_encode_dict[int(row)])\n",
        "    df_tmp['candle_len_encoded'] = df_tmp['candle_len'].apply(lambda row: candlepiece_encode_dict[int(row)])\n",
        "    df_tmp['upper_len_encoded'] = df_tmp['upper_len'].apply(lambda row: candlepiece_encode_dict[int(row)])\n",
        "    df_tmp['lower_len_encoded'] = df_tmp['lower_len'].apply(lambda row: candlepiece_encode_dict[int(row)])\n",
        "    df_tmp['pos_low_encoded'] = df_tmp['pos_low'].apply(lambda row: pos_encode_dict[int(row)])\n",
        "\n",
        "    def getCandlestickEncoded(row):\n",
        "        key = str([int(i) for i in row[['candle_len', 'upper_len', 'lower_len', 'direction']].values.tolist()])\n",
        "        if key in candlestick_encode_dict.keys():\n",
        "            return candlestick_encode_dict[key]\n",
        "        else:\n",
        "            return 0\n",
        "\n",
        "    df_tmp['candlestick_encoded'] = df_tmp.apply(lambda row: getCandlestickEncoded(row), axis=1)\n",
        "\n",
        "    return df_tmp"
      ]
    },
    {
      "cell_type": "code",
      "execution_count": 22,
      "metadata": {
        "id": "zkS-7zk0BtHm"
      },
      "outputs": [],
      "source": [
        "def data_preprocessing(df,direction_encode_dict, candlepiece_encode_dict, pos_encode_dict, candlestick_encode_dict):\n",
        "    df = getCandleElements(df, direction_encode_dict, candlepiece_encode_dict, pos_encode_dict, candlestick_encode_dict)\n",
        "    df = getTalibIndicators(df)\n",
        "    df = get_labels_buy_hold_sell(df, windowSize=10, pips=pip, pt=10, sl=8)  # 'label_bhs_ws10_pt10_sl8'\n",
        "    return df\n",
        "\n",
        "pos_encode_dict = refData['pos_encode_dict']\n",
        "candlepiece_encode_dict = refData['candlepiece_encode_dict']\n",
        "direction_encode_dict = refData['direction_encode_dict']\n",
        "candlestick_encode_dict = refData['candlestick_encode_dict']\n",
        "\n",
        "df_downstream = data_preprocessing(df_raw, direction_encode_dict, candlepiece_encode_dict, pos_encode_dict, candlestick_encode_dict)\n",
        "df_downstream = df_downstream.tail(len(df_downstream)-50)\n",
        "df_downstream = df_downstream.head(len(df_downstream)-10)\n",
        "df_downstream.reset_index(drop=True, inplace=True)\n",
        "assert df_downstream.isnull().sum().sum() == 0"
      ]
    },
    {
      "cell_type": "code",
      "source": [
        "df_downstream_train = df_downstream[(df_downstream['datetime']>='2020-01-01') & (df_downstream['datetime']<'2022-01-01')]\n",
        "df_downstream_train.reset_index(drop=True, inplace=True)\n",
        "df_downstream_valid = df_downstream[(df_downstream['datetime']>='2022-01-01') & (df_downstream['datetime']<'2022-04-01')]\n",
        "df_downstream_valid.reset_index(drop=True, inplace=True)\n",
        "df_downstream_test = df_downstream[(df_downstream['datetime']>='2022-04-01') & (df_downstream['datetime']<'2022-07-01')]\n",
        "df_downstream_test.reset_index(drop=True, inplace=True)\n",
        "\n",
        "print(len(df_downstream_train), len(df_downstream_valid), len(df_downstream_test))"
      ],
      "metadata": {
        "colab": {
          "base_uri": "https://localhost:8080/"
        },
        "id": "ZmA93w_TDAt_",
        "outputId": "04559e4c-06f0-40db-fc50-d0cb01882d2d"
      },
      "execution_count": 23,
      "outputs": [
        {
          "output_type": "stream",
          "name": "stdout",
          "text": [
            "49894 6156 6212\n"
          ]
        }
      ]
    },
    {
      "cell_type": "code",
      "source": [
        "ta_columns = ['macd','macd_signal','macd_hist','RSI_10','WILLR_10','EMA_10','RSI_20','WILLR_20',\n",
        "                'EMA_20','RSI_30','WILLR_30','EMA_30','RSI_40','WILLR_40','EMA_40']\n",
        "pad_token_id = 0\n",
        "masked_token_id = 1\n",
        "startSent_token_id = 2\n",
        "sepSent_token_id = 3\n",
        "\n",
        "def generateSeq4Downstream(df_ds, ds_type, input_type, seqlen, maxlen=config.maxlen):\n",
        "    batch = []\n",
        "    for i in range(len(df_ds)-seqlen):\n",
        "        df_tmp = df_ds.loc[i:i+seqlen-1]\n",
        "        assert len(df_tmp)==seqlen\n",
        "\n",
        "        scaler = MinMaxScaler()\n",
        "\n",
        "        candlestick_encoded = df_tmp[['candlestick_encoded', 'pos_low_encoded', 'direction_encoded',\n",
        "                                    'candle_len_encoded', 'upper_len_encoded', 'lower_len_encoded']].values.tolist()\n",
        "        input_ids = [[startSent_token_id]*6] + candlestick_encoded + [[sepSent_token_id]*6]\n",
        "        segment_ids_3num = [1] * len(input_ids)\n",
        "\n",
        "        n_pad = maxlen - len(input_ids)\n",
        "        input_ids.extend([[pad_token_id]*6] * n_pad)\n",
        "        segment_ids_3num.extend([pad_token_id] * n_pad)\n",
        "\n",
        "        prices5_min = min(df_tmp[['open', 'high', 'low', 'close', 'avg']].min())\n",
        "        prices5_max = max(df_tmp[['open', 'high', 'low', 'close', 'avg']].max())\n",
        "        dt_tmp = [\n",
        "                input_ids,\n",
        "                segment_ids_3num,\n",
        "\n",
        "                df_tmp[['open', 'high', 'low', 'close', 'avg']].values.tolist(),\n",
        "                scaler.fit_transform(df_tmp[['open', 'high', 'low', 'close', 'avg']]),\n",
        "\n",
        "                df_tmp[ta_columns].values.tolist(),\n",
        "                scaler.fit_transform(df_tmp[ta_columns]),\n",
        "\n",
        "                prices5_min,\n",
        "                prices5_max,\n",
        "\n",
        "                df_tmp.tail(1)[['hh_next_10']].values[0][0],\n",
        "                (df_tmp.tail(1)[['hh_next_10']].values[0][0]-prices5_min)/(prices5_max-prices5_min),\n",
        "                df_tmp.tail(1)[['ll_next_10']].values[0][0],\n",
        "                (df_tmp.tail(1)[['ll_next_10']].values[0][0]-prices5_min)/(prices5_max-prices5_min),\n",
        "\n",
        "                df_tmp.tail(1)[['label_bhs_ws10_pt10_sl8']].values[0][0]\n",
        "            ]\n",
        "        batch.append(dt_tmp)\n",
        "\n",
        "    # return batch\n",
        "    batch_transpose = [list(x) for x in list(zip(*batch))]\n",
        "    input_ids = np.array(batch_transpose[0]).astype('int64')\n",
        "    segment_ids_3num = np.array(batch_transpose[1]).astype('int64')\n",
        "    prices5_ori = np.array(batch_transpose[2]).astype('float32')\n",
        "    prices5_scaled = np.array(batch_transpose[3]).astype('float32')\n",
        "    ta_ori = np.array(batch_transpose[4]).astype('float32')\n",
        "    ta_scaled = np.array(batch_transpose[5]).astype('float32')\n",
        "    prices5_min = np.array(batch_transpose[6]).astype('float32')\n",
        "    prices5_max = np.array(batch_transpose[7]).astype('float32')\n",
        "    hh_10_ori = np.array(batch_transpose[8]).astype('float32')\n",
        "    hh_10_scaled = np.array(batch_transpose[9]).astype('float32')\n",
        "    ll_10_ori = np.array(batch_transpose[10]).astype('float32')\n",
        "    ll_10_scaled = np.array(batch_transpose[11]).astype('float32')\n",
        "    label_bhs_ws10_pt10_sl8 = np.array(batch_transpose[12]).astype('int64')\n",
        "\n",
        "    x_input_ids_candle, x_input_ids_pos, x_input_ids_die, x_input_ids_cle, x_input_ids_ule, x_input_ids_lle = \\\n",
        "                        split_arrays = [input_ids[:, :, i] for i in range(input_ids.shape[2])]\n",
        "    x_input_ids_candle, x_input_ids_pos, x_input_ids_die, x_input_ids_cle, x_input_ids_ule, x_input_ids_lle = \\\n",
        "                        split_arrays[0], split_arrays[1], split_arrays[2], split_arrays[3], split_arrays[4], split_arrays[5]\n",
        "\n",
        "    inputs = {}\n",
        "    inputs['input_ids_candle'] = x_input_ids_candle\n",
        "    inputs['input_ids_pos'] = x_input_ids_pos\n",
        "    inputs['input_ids_die'] = x_input_ids_die\n",
        "    inputs['input_ids_cle'] = x_input_ids_cle\n",
        "    inputs['input_ids_ule'] = x_input_ids_ule\n",
        "    inputs['input_ids_lle'] = x_input_ids_lle\n",
        "\n",
        "    inputs['segment_ids'] = segment_ids_3num\n",
        "\n",
        "    if input_type == 'incl_price5':\n",
        "        inputs['prices5_scaled'] = prices5_scaled\n",
        "    elif input_type == 'incl_ta':\n",
        "        inputs['ta_scaled'] = ta_scaled\n",
        "    elif input_type == 'incl_price5_ta':\n",
        "        inputs['prices5_scaled'] = prices5_scaled\n",
        "        inputs['ta_scaled'] = ta_scaled\n",
        "    else:\n",
        "        pass\n",
        "\n",
        "    y_hh = hh_10_scaled\n",
        "    y_ll = ll_10_scaled\n",
        "    y_bhs = label_bhs_ws10_pt10_sl8\n",
        "\n",
        "    targets = {}\n",
        "    targets['max_price'] = y_hh\n",
        "    targets['min_price'] = y_ll\n",
        "    targets['label_bhs'] = y_bhs\n",
        "\n",
        "    ref_data = {}\n",
        "    ref_data['max_scale'] = prices5_max\n",
        "    ref_data['min_scale'] = prices5_min\n",
        "    ref_data['max_ori'] = hh_10_ori\n",
        "    ref_data['min_ori'] = ll_10_ori\n",
        "\n",
        "    if ds_type == 'test':\n",
        "        return inputs, targets, ref_data\n",
        "    else:\n",
        "        return inputs, targets"
      ],
      "metadata": {
        "id": "JnusAqY8oz15"
      },
      "execution_count": 24,
      "outputs": []
    },
    {
      "cell_type": "markdown",
      "metadata": {
        "id": "dk0FHSQdvwDM"
      },
      "source": [
        "### 4.2 Preparation - Load FxBERT / set up seqlen"
      ]
    },
    {
      "cell_type": "code",
      "execution_count": 25,
      "metadata": {
        "colab": {
          "base_uri": "https://localhost:8080/",
          "height": 35
        },
        "id": "-ETb7qm1dEOO",
        "outputId": "20925107-4c4d-4886-c7b5-b117012d05e3"
      },
      "outputs": [
        {
          "output_type": "execute_result",
          "data": {
            "text/plain": [
              "'/content/drive/MyDrive/MyResearch_FT/14.BERT/1.model/FxBERT/USD_JPY_M15/upstream/FxBERT_upstream_USD_JPY_M15.h5'"
            ],
            "application/vnd.google.colaboratory.intrinsic+json": {
              "type": "string"
            }
          },
          "metadata": {},
          "execution_count": 25
        }
      ],
      "source": [
        "savepath_FxBERT = gd_mdl_folder.replace('downstream', 'upstream') + 'FxBERT_upstream_'+config.CURRENCY+'.h5'\n",
        "savepath_FxBERT"
      ]
    },
    {
      "cell_type": "code",
      "execution_count": 26,
      "metadata": {
        "id": "lqv1LGMAvy-c"
      },
      "outputs": [],
      "source": [
        "# Load pre-trained upstream model\n",
        "FxBERT = create_FxBERT(config.maxlen)\n",
        "FxBERT.load_weights(savepath_FxBERT)"
      ]
    },
    {
      "cell_type": "markdown",
      "metadata": {
        "id": "nenH23fxhUQF"
      },
      "source": [
        "### 4.3 V1 bert fine-tuning"
      ]
    },
    {
      "cell_type": "code",
      "source": [
        "downstream_train_candleonly = generateSeq4Downstream(df_downstream_train, ds_type=\"train\", input_type=\"candleonly\", seqlen=config.seqlen)\n",
        "downstream_valid_candleonly = generateSeq4Downstream(df_downstream_valid, ds_type=\"valid\", input_type=\"candleonly\", seqlen=config.seqlen)\n",
        "downstream_test_candleonly = generateSeq4Downstream(df_downstream_test, ds_type=\"test\", input_type=\"candleonly\", seqlen=config.seqlen)"
      ],
      "metadata": {
        "id": "U_oyHtQHVxKv"
      },
      "execution_count": 27,
      "outputs": []
    },
    {
      "cell_type": "markdown",
      "metadata": {
        "id": "JBv5ZTJ-vbo6"
      },
      "source": [
        "#### 4.3.1 create model"
      ]
    },
    {
      "cell_type": "code",
      "execution_count": 28,
      "metadata": {
        "id": "PIFZXvyrhUQF"
      },
      "outputs": [],
      "source": [
        "def create_ds_FxBERT(pretrained_FxBERT, maxlen, seqlen):\n",
        "    input_wtoken_candle = layers.Input((maxlen,), dtype=tf.int64, name='input_ids_candle')\n",
        "    input_wtoken_pos = layers.Input((maxlen,), dtype=tf.int64, name='input_ids_pos')\n",
        "    input_wtoken_die = layers.Input((maxlen,), dtype=tf.int64, name='input_ids_die')\n",
        "    input_wtoken_cle = layers.Input((maxlen,), dtype=tf.int64, name='input_ids_cle')\n",
        "    input_wtoken_ule = layers.Input((maxlen,), dtype=tf.int64, name='input_ids_ule')\n",
        "    input_wtoken_lle = layers.Input((maxlen,), dtype=tf.int64, name='input_ids_lle')\n",
        "    input_segment = layers.Input((maxlen,), dtype=tf.int64, name='segment_ids')\n",
        "\n",
        "    FxBERT_output = pretrained_FxBERT(inputs=[input_wtoken_candle, input_wtoken_pos, input_wtoken_die, input_wtoken_cle, \\\n",
        "                                    input_wtoken_ule, input_wtoken_lle, input_segment])\n",
        "    FxBERT_output = layers.Flatten()(FxBERT_output)\n",
        "\n",
        "    combined_output = FxBERT_output\n",
        "\n",
        "    normalized_output = layers.LayerNormalization(epsilon=1e-6)(combined_output)\n",
        "    regularization_layer = layers.LeakyReLU(alpha=0.1)(normalized_output)\n",
        "    dropout_layer = layers.Dropout(0.1)(regularization_layer)\n",
        "\n",
        "    x1 = layers.Dense(1024, activation=\"relu\")(dropout_layer)\n",
        "    x1 = layers.Dense(1024, activation=\"relu\")(x1)\n",
        "    x1 = layers.Dense(512, activation=\"relu\")(x1)\n",
        "    output_max_price = layers.Dense(1, activation=\"linear\", name='max_price')(x1)\n",
        "\n",
        "    x2 = layers.Dense(1024, activation=\"relu\")(dropout_layer)\n",
        "    x2 = layers.Dense(1024, activation=\"relu\")(x2)\n",
        "    x2 = layers.Dense(512, activation=\"relu\")(x2)\n",
        "    output_min_price = layers.Dense(1, activation=\"linear\", name='min_price')(x2)\n",
        "\n",
        "    x3 = layers.Dense(1024, activation=\"relu\")(dropout_layer)\n",
        "    x3 = layers.Dense(1024, activation=\"relu\")(x3)\n",
        "    x3 = layers.Dense(512, activation=\"relu\")(x3)\n",
        "    output_label_bhs = layers.Dense(3, activation=\"softmax\", name='label_bhs')(x3)\n",
        "\n",
        "    model = keras.Model(\n",
        "            inputs=[input_wtoken_candle, input_wtoken_pos, input_wtoken_die, input_wtoken_cle,\n",
        "                                    input_wtoken_ule, input_wtoken_lle, input_segment],\n",
        "            outputs=[output_max_price, output_min_price, output_label_bhs])\n",
        "\n",
        "    return model"
      ]
    },
    {
      "cell_type": "markdown",
      "metadata": {
        "id": "romAWH8ThUQF"
      },
      "source": [
        "#### 4.3.2 Train model"
      ]
    },
    {
      "cell_type": "code",
      "execution_count": 34,
      "metadata": {
        "colab": {
          "base_uri": "https://localhost:8080/"
        },
        "id": "yYKnBOzFhUQF",
        "outputId": "60f7b662-85d7-46cb-868d-eef024e073ce"
      },
      "outputs": [
        {
          "output_type": "stream",
          "name": "stdout",
          "text": [
            "Epoch 1/3\n",
            "49/49 [==============================] - 15s 133ms/step - loss: 2.3832 - max_price_loss: 0.6640 - min_price_loss: 0.6375 - label_bhs_loss: 1.0817 - max_price_root_mean_squared_error: 0.8149 - min_price_root_mean_squared_error: 0.7984 - label_bhs_accuracy: 0.4293 - val_loss: 2.2796 - val_max_price_loss: 0.5819 - val_min_price_loss: 0.5788 - val_label_bhs_loss: 1.1189 - val_max_price_root_mean_squared_error: 0.7628 - val_min_price_root_mean_squared_error: 0.7608 - val_label_bhs_accuracy: 0.3679\n",
            "Epoch 2/3\n",
            "49/49 [==============================] - 4s 82ms/step - loss: 2.1533 - max_price_loss: 0.5312 - min_price_loss: 0.5730 - label_bhs_loss: 1.0491 - max_price_root_mean_squared_error: 0.7289 - min_price_root_mean_squared_error: 0.7569 - label_bhs_accuracy: 0.4549 - val_loss: 2.2275 - val_max_price_loss: 0.5612 - val_min_price_loss: 0.5557 - val_label_bhs_loss: 1.1106 - val_max_price_root_mean_squared_error: 0.7492 - val_min_price_root_mean_squared_error: 0.7454 - val_label_bhs_accuracy: 0.3711\n",
            "Epoch 3/3\n",
            "49/49 [==============================] - 4s 81ms/step - loss: 2.1051 - max_price_loss: 0.5130 - min_price_loss: 0.5529 - label_bhs_loss: 1.0393 - max_price_root_mean_squared_error: 0.7162 - min_price_root_mean_squared_error: 0.7436 - label_bhs_accuracy: 0.4639 - val_loss: 2.2093 - val_max_price_loss: 0.5479 - val_min_price_loss: 0.5458 - val_label_bhs_loss: 1.1156 - val_max_price_root_mean_squared_error: 0.7402 - val_min_price_root_mean_squared_error: 0.7388 - val_label_bhs_accuracy: 0.3742\n"
          ]
        },
        {
          "output_type": "stream",
          "name": "stderr",
          "text": [
            "/usr/local/lib/python3.10/dist-packages/keras/src/engine/training.py:3079: UserWarning: You are saving your model as an HDF5 file via `model.save()`. This file format is considered legacy. We recommend using instead the native Keras format, e.g. `model.save('my_model.keras')`.\n",
            "  saving_api.save_model(\n"
          ]
        }
      ],
      "source": [
        "savepath_model = \\\n",
        "    gd_mdl_folder+'FxBERT/ds_FxBERT_Ftuning_seqlen'+str(config.seqlen)+'_'+colab_filename.replace('.ipynb', '.h5')\n",
        "savepath_model_weights = savepath_model.replace('.h5', '_weights.h5')\n",
        "savepath_model_checkpoint = savepath_model_weights.replace('.h5', '_cp.h5')\n",
        "\n",
        "checkpoint_cb = tf.keras.callbacks.ModelCheckpoint(savepath_model_checkpoint, monitor=\"val_loss\", verbose=0, mode=\"min\",\n",
        "                                                        save_best_only=True, save_weights_only=True, save_freq=\"epoch\" )\n",
        "early_stop = tf.keras.callbacks.EarlyStopping(monitor=\"val_loss\", patience=config.patience, verbose=1, mode=\"min\", restore_best_weights=True)\n",
        "\n",
        "pretrained_FxBERT = tf.keras.Model(FxBERT.input, FxBERT.get_layer(\"encoder_\"+str(config.NUM_LAYERS-1)+\"/ffn_layernormalization\").output)\n",
        "pretrained_FxBERT.trainable = True\n",
        "\n",
        "model = create_ds_FxBERT(pretrained_FxBERT, config.maxlen, config.seqlen)\n",
        "#model.summary()\n",
        "\n",
        "model.compile(\n",
        "    optimizer=keras.optimizers.legacy.Adam(learning_rate=0.00001, decay=1e-6),\n",
        "    loss={\n",
        "            \"max_price\": keras.losses.MeanSquaredError(),\n",
        "            \"min_price\": keras.losses.MeanSquaredError(),\n",
        "            \"label_bhs\": keras.losses.SparseCategoricalCrossentropy(),\n",
        "        },\n",
        "    metrics={\n",
        "            \"max_price\": tf.keras.metrics.RootMeanSquaredError(),\n",
        "            \"min_price\": tf.keras.metrics.RootMeanSquaredError(),\n",
        "            \"label_bhs\": 'accuracy',\n",
        "        }\n",
        "    )\n",
        "model.fit(\n",
        "            x=downstream_train_candleonly[0], y=downstream_train_candleonly[1],\n",
        "            epochs=config.EPOCH,\n",
        "            validation_data=downstream_valid_candleonly,\n",
        "            batch_size=config.BATCH_SIZE,\n",
        "            callbacks=[checkpoint_cb, early_stop]\n",
        "        )\n",
        "\n",
        "model.save(savepath_model)\n",
        "model.save_weights(savepath_model_weights)"
      ]
    },
    {
      "cell_type": "markdown",
      "metadata": {
        "id": "lycYz7gJv7eb"
      },
      "source": [
        "#### 4.3.3 Test result"
      ]
    },
    {
      "cell_type": "code",
      "execution_count": 52,
      "metadata": {
        "colab": {
          "base_uri": "https://localhost:8080/",
          "height": 1000
        },
        "id": "hP3_UvWAZEzA",
        "outputId": "3013329f-d812-445f-fbe4-1453d6365eeb"
      },
      "outputs": [
        {
          "output_type": "stream",
          "name": "stdout",
          "text": [
            "194/194 [==============================] - 1s 4ms/step\n",
            "194/194 [==============================] - 1s 4ms/step\n",
            "194/194 [==============================] - 1s 4ms/step\n",
            "get result for seqlen 10 label_bhs\n",
            "              precision    recall  f1-score   support\n",
            "\n",
            "         buy     0.4224    0.1953    0.2671      2703\n",
            "        hold     0.2924    0.1271    0.1771      1031\n",
            "        sell     0.4043    0.7378    0.5224      2468\n",
            "\n",
            "    accuracy                         0.3999      6202\n",
            "   macro avg     0.3730    0.3534    0.3222      6202\n",
            "weighted avg     0.3936    0.3999    0.3537      6202\n",
            "\n"
          ]
        },
        {
          "output_type": "display_data",
          "data": {
            "text/plain": [
              "<Figure size 1000x1000 with 2 Axes>"
            ],
            "image/png": "[encoded data removed]"
          },
          "metadata": {}
        },
        {
          "output_type": "stream",
          "name": "stdout",
          "text": [
            "get result for seqlen 10 maxprice\n",
            "FxBERT_Ftuning_seqlen10:\n",
            "Mean Absolute Error: 0.16755122\n",
            "Mean Absolute Percentage Error: 0.12862079\n",
            "Mean Square Error: 0.05694000\n",
            "Root Mean Square Error: 0.23862104\n",
            "\n",
            "get result for seqlen 10 minprice\n",
            "FxBERT_Ftuning_seqlen10:\n",
            "Mean Absolute Error: 0.17889047\n",
            "Mean Absolute Percentage Error: 0.13776110\n",
            "Mean Square Error: 0.06534319\n",
            "Root Mean Square Error: 0.25562314\n",
            "\n",
            "total time spent 3.626274824142456\n"
          ]
        }
      ],
      "source": [
        "df_result, _ = model_evaluation(model, savepath_model, df_result, downstream_test_candleonly, seqlen=config.seqlen, modelname='FxBERT_Ftuning_seqlen'+str(config.seqlen))\n",
        "\n",
        "df_result.to_csv(gd_result_folder+result_filename, index=False)"
      ]
    },
    {
      "cell_type": "markdown",
      "metadata": {
        "id": "lo9LptbyvPH6"
      },
      "source": [
        "### 4.4 V2 bert extract feature"
      ]
    },
    {
      "cell_type": "markdown",
      "metadata": {
        "id": "S_ni5PTmwcZd"
      },
      "source": [
        "#### 4.4.1 create model - refer to 4.3.1"
      ]
    },
    {
      "cell_type": "markdown",
      "metadata": {
        "id": "Bhd0qO3-wj7b"
      },
      "source": [
        "#### 4.4.2 Train model"
      ]
    },
    {
      "cell_type": "code",
      "execution_count": 53,
      "metadata": {
        "colab": {
          "base_uri": "https://localhost:8080/"
        },
        "id": "dP_pfiZdbO95",
        "outputId": "eb819c85-4e14-4c6e-896b-8c34561bba5d"
      },
      "outputs": [
        {
          "output_type": "stream",
          "name": "stdout",
          "text": [
            "Epoch 1/3\n",
            "49/49 [==============================] - 6s 68ms/step - loss: 2.2948 - max_price_loss: 0.6107 - min_price_loss: 0.6015 - label_bhs_loss: 1.0826 - max_price_root_mean_squared_error: 0.7815 - min_price_root_mean_squared_error: 0.7756 - label_bhs_accuracy: 0.4311 - val_loss: 2.2367 - val_max_price_loss: 0.5673 - val_min_price_loss: 0.5627 - val_label_bhs_loss: 1.1067 - val_max_price_root_mean_squared_error: 0.7532 - val_min_price_root_mean_squared_error: 0.7501 - val_label_bhs_accuracy: 0.3596\n",
            "Epoch 2/3\n",
            "49/49 [==============================] - 3s 54ms/step - loss: 2.1306 - max_price_loss: 0.5261 - min_price_loss: 0.5594 - label_bhs_loss: 1.0451 - max_price_root_mean_squared_error: 0.7254 - min_price_root_mean_squared_error: 0.7479 - label_bhs_accuracy: 0.4595 - val_loss: 2.1996 - val_max_price_loss: 0.5631 - val_min_price_loss: 0.5379 - val_label_bhs_loss: 1.0986 - val_max_price_root_mean_squared_error: 0.7504 - val_min_price_root_mean_squared_error: 0.7334 - val_label_bhs_accuracy: 0.3840\n",
            "Epoch 3/3\n",
            "49/49 [==============================] - 3s 54ms/step - loss: 2.0938 - max_price_loss: 0.5091 - min_price_loss: 0.5449 - label_bhs_loss: 1.0398 - max_price_root_mean_squared_error: 0.7135 - min_price_root_mean_squared_error: 0.7382 - label_bhs_accuracy: 0.4644 - val_loss: 2.1758 - val_max_price_loss: 0.5502 - val_min_price_loss: 0.5388 - val_label_bhs_loss: 1.0869 - val_max_price_root_mean_squared_error: 0.7417 - val_min_price_root_mean_squared_error: 0.7340 - val_label_bhs_accuracy: 0.3889\n"
          ]
        },
        {
          "output_type": "stream",
          "name": "stderr",
          "text": [
            "/usr/local/lib/python3.10/dist-packages/keras/src/engine/training.py:3079: UserWarning: You are saving your model as an HDF5 file via `model.save()`. This file format is considered legacy. We recommend using instead the native Keras format, e.g. `model.save('my_model.keras')`.\n",
            "  saving_api.save_model(\n"
          ]
        }
      ],
      "source": [
        "savepath_model = \\\n",
        "    gd_mdl_folder+'FxBERT/ds_FxBERT_Feature_seqlen'+str(config.seqlen)+'_'+colab_filename.replace('.ipynb', '.h5')\n",
        "savepath_model_weights = savepath_model.replace('.h5', '_weights.h5')\n",
        "savepath_model_checkpoint = savepath_model_weights.replace('.h5', '_cp.h5')\n",
        "\n",
        "checkpoint_cb = tf.keras.callbacks.ModelCheckpoint(savepath_model_checkpoint, monitor=\"val_loss\", verbose=0, mode=\"min\",\n",
        "                                                        save_best_only=True, save_weights_only=True, save_freq=\"epoch\" )\n",
        "early_stop = tf.keras.callbacks.EarlyStopping(monitor=\"val_loss\", patience=config.patience, verbose=1, mode=\"min\", restore_best_weights=True)\n",
        "\n",
        "pretrained_FxBERT = tf.keras.Model(FxBERT.input, FxBERT.get_layer(\"encoder_\"+str(config.NUM_LAYERS-1)+\"/ffn_layernormalization\").output)\n",
        "pretrained_FxBERT.trainable = False\n",
        "\n",
        "model = create_ds_FxBERT(pretrained_FxBERT, config.maxlen, config.seqlen)\n",
        "#model.summary()\n",
        "\n",
        "model.compile(\n",
        "    optimizer=keras.optimizers.legacy.Adam(learning_rate=0.00001, decay=1e-6),\n",
        "    loss={\n",
        "            \"max_price\": keras.losses.MeanSquaredError(),\n",
        "            \"min_price\": keras.losses.MeanSquaredError(),\n",
        "            \"label_bhs\": keras.losses.SparseCategoricalCrossentropy(),\n",
        "        },\n",
        "    metrics={\n",
        "            \"max_price\": tf.keras.metrics.RootMeanSquaredError(),\n",
        "            \"min_price\": tf.keras.metrics.RootMeanSquaredError(),\n",
        "            \"label_bhs\": 'accuracy',\n",
        "        }\n",
        "    )\n",
        "model.fit(\n",
        "            x=downstream_train_candleonly[0], y=downstream_train_candleonly[1],\n",
        "            epochs=config.EPOCH,\n",
        "            validation_data=downstream_valid_candleonly,\n",
        "            batch_size=config.BATCH_SIZE,\n",
        "            callbacks=[checkpoint_cb, early_stop]\n",
        "        )\n",
        "\n",
        "model.save(savepath_model)\n",
        "model.save_weights(savepath_model_weights)"
      ]
    },
    {
      "cell_type": "markdown",
      "metadata": {
        "id": "8sKP7aXhw2M3"
      },
      "source": [
        "#### 4.4.3 Test result"
      ]
    },
    {
      "cell_type": "code",
      "execution_count": 54,
      "metadata": {
        "colab": {
          "base_uri": "https://localhost:8080/",
          "height": 1000
        },
        "id": "KwI-nm3AxG6s",
        "outputId": "d1db98a6-cb68-47c2-a202-09cb12a94f6a"
      },
      "outputs": [
        {
          "output_type": "stream",
          "name": "stdout",
          "text": [
            "194/194 [==============================] - 1s 4ms/step\n",
            "194/194 [==============================] - 1s 4ms/step\n",
            "194/194 [==============================] - 1s 4ms/step\n",
            "get result for seqlen 10 label_bhs\n",
            "              precision    recall  f1-score   support\n",
            "\n",
            "         buy     0.4230    0.3933    0.4076      2703\n",
            "        hold     0.2672    0.0902    0.1349      1031\n",
            "        sell     0.3993    0.5405    0.4593      2468\n",
            "\n",
            "    accuracy                         0.4015      6202\n",
            "   macro avg     0.3632    0.3413    0.3339      6202\n",
            "weighted avg     0.3877    0.4015    0.3828      6202\n",
            "\n"
          ]
        },
        {
          "output_type": "display_data",
          "data": {
            "text/plain": [
              "<Figure size 1000x1000 with 2 Axes>"
            ],
            "image/png": "[encoded data removed]"
          },
          "metadata": {}
        },
        {
          "output_type": "stream",
          "name": "stdout",
          "text": [
            "get result for seqlen 10 maxprice\n",
            "FxBERT_Feature_seqlen10:\n",
            "Mean Absolute Error: 0.17252509\n",
            "Mean Absolute Percentage Error: 0.13242985\n",
            "Mean Square Error: 0.06140946\n",
            "Root Mean Square Error: 0.24780931\n",
            "\n",
            "get result for seqlen 10 minprice\n",
            "FxBERT_Feature_seqlen10:\n",
            "Mean Absolute Error: 0.17685928\n",
            "Mean Absolute Percentage Error: 0.13620096\n",
            "Mean Square Error: 0.06451912\n",
            "Root Mean Square Error: 0.25400615\n",
            "\n",
            "total time spent 4.002388954162598\n"
          ]
        }
      ],
      "source": [
        "df_result, _ = model_evaluation(model, savepath_model, df_result, downstream_test_candleonly, config.seqlen, modelname='FxBERT_Feature_seqlen'+str(config.seqlen))\n",
        "\n",
        "df_result.to_csv(gd_result_folder+result_filename, index=False)"
      ]
    },
    {
      "cell_type": "code",
      "source": [
        "del downstream_train_candleonly, downstream_valid_candleonly, downstream_test_candleonly\n",
        "gc.collect()"
      ],
      "metadata": {
        "colab": {
          "base_uri": "https://localhost:8080/"
        },
        "id": "ZBQdRxkhV0jA",
        "outputId": "e8e31f48-ca97-4d2c-d75a-7740c4f31d68"
      },
      "execution_count": 55,
      "outputs": [
        {
          "output_type": "execute_result",
          "data": {
            "text/plain": [
              "10151"
            ]
          },
          "metadata": {},
          "execution_count": 55
        }
      ]
    },
    {
      "cell_type": "markdown",
      "metadata": {
        "id": "0YZNs2rchUQH"
      },
      "source": [
        "### 4.5 V3 bert feature + price 5"
      ]
    },
    {
      "cell_type": "code",
      "source": [
        "downstream_train_incl_price5 = generateSeq4Downstream(df_downstream_train, ds_type=\"train\", input_type=\"incl_price5\", seqlen=config.seqlen)\n",
        "downstream_valid_incl_price5 = generateSeq4Downstream(df_downstream_valid, ds_type=\"valid\", input_type=\"incl_price5\", seqlen=config.seqlen)\n",
        "downstream_test_incl_price5 = generateSeq4Downstream(df_downstream_test, ds_type=\"test\", input_type=\"incl_price5\", seqlen=config.seqlen)"
      ],
      "metadata": {
        "id": "8pfepKuhV7Qx"
      },
      "execution_count": 56,
      "outputs": []
    },
    {
      "cell_type": "markdown",
      "metadata": {
        "id": "EJ9QbqNTxmaD"
      },
      "source": [
        "#### 4.5.1 create model"
      ]
    },
    {
      "cell_type": "code",
      "execution_count": 57,
      "metadata": {
        "id": "1U4QEndKhUQH"
      },
      "outputs": [],
      "source": [
        "def create_ds_FxBERT_price5(pretrained_FxBERT, maxlen, seqlen):\n",
        "    input_wtoken_candle = layers.Input((maxlen,), dtype=tf.int64, name='input_ids_candle')\n",
        "    input_wtoken_pos = layers.Input((maxlen,), dtype=tf.int64, name='input_ids_pos')\n",
        "    input_wtoken_die = layers.Input((maxlen,), dtype=tf.int64, name='input_ids_die')\n",
        "    input_wtoken_cle = layers.Input((maxlen,), dtype=tf.int64, name='input_ids_cle')\n",
        "    input_wtoken_ule = layers.Input((maxlen,), dtype=tf.int64, name='input_ids_ule')\n",
        "    input_wtoken_lle = layers.Input((maxlen,), dtype=tf.int64, name='input_ids_lle')\n",
        "    input_segment = layers.Input((maxlen,), dtype=tf.int64, name='segment_ids')\n",
        "    input_price5 = layers.Input((seqlen,5), dtype=tf.float32, name='prices5_scaled')\n",
        "\n",
        "    FxBERT_output = pretrained_FxBERT(inputs=[input_wtoken_candle, input_wtoken_pos, input_wtoken_die, input_wtoken_cle, \\\n",
        "                                    input_wtoken_ule, input_wtoken_lle, input_segment])\n",
        "    FxBERT_output = layers.Flatten()(FxBERT_output)\n",
        "\n",
        "    price5_output = layers.LSTM(config.EMBED_DIM, activation=\"relu\", return_sequences=False, name='price5_scaled_LSTM')(input_price5)\n",
        "\n",
        "    combined_output = layers.Concatenate()([FxBERT_output, price5_output])\n",
        "\n",
        "    normalized_output = layers.LayerNormalization(epsilon=1e-6)(combined_output)\n",
        "    regularization_layer = layers.LeakyReLU(alpha=0.1)(normalized_output)\n",
        "    dropout_layer = layers.Dropout(0.1)(regularization_layer)\n",
        "\n",
        "    x1 = layers.Dense(1024, activation=\"relu\")(dropout_layer)\n",
        "    x1 = layers.Dense(1024, activation=\"relu\")(x1)\n",
        "    x1 = layers.Dense(512, activation=\"relu\")(x1)\n",
        "    output_max_price = layers.Dense(1, activation=\"linear\", name='max_price')(x1)\n",
        "\n",
        "    x2 = layers.Dense(1024, activation=\"relu\")(dropout_layer)\n",
        "    x2 = layers.Dense(1024, activation=\"relu\")(x2)\n",
        "    x2 = layers.Dense(512, activation=\"relu\")(x2)\n",
        "    output_min_price = layers.Dense(1, activation=\"linear\", name='min_price')(x2)\n",
        "\n",
        "    x3 = layers.Dense(1024, activation=\"relu\")(dropout_layer)\n",
        "    x3 = layers.Dense(1024, activation=\"relu\")(x3)\n",
        "    x3 = layers.Dense(512, activation=\"relu\")(x3)\n",
        "    output_label_bhs = layers.Dense(3, activation=\"softmax\", name='label_bhs')(x3)\n",
        "\n",
        "    model = keras.Model(\n",
        "            inputs=[input_wtoken_candle, input_wtoken_pos, input_wtoken_die, input_wtoken_cle,\n",
        "                                    input_wtoken_ule, input_wtoken_lle, input_segment, input_price5],\n",
        "            outputs=[output_max_price, output_min_price, output_label_bhs])\n",
        "\n",
        "    return model"
      ]
    },
    {
      "cell_type": "markdown",
      "metadata": {
        "id": "AlM7LNOlhUQH"
      },
      "source": [
        "#### 4.5.2 Train model"
      ]
    },
    {
      "cell_type": "code",
      "execution_count": 58,
      "metadata": {
        "colab": {
          "base_uri": "https://localhost:8080/"
        },
        "id": "x8HvxMr8hUQH",
        "outputId": "ad41171d-2471-4d82-fbfa-264c9e3c19a1"
      },
      "outputs": [
        {
          "output_type": "stream",
          "name": "stderr",
          "text": [
            "WARNING:tensorflow:Layer price5_scaled_LSTM will not use cuDNN kernels since it doesn't meet the criteria. It will use a generic GPU kernel as fallback when running on GPU.\n"
          ]
        },
        {
          "output_type": "stream",
          "name": "stdout",
          "text": [
            "Epoch 1/3\n",
            "49/49 [==============================] - 7s 74ms/step - loss: 2.2848 - max_price_loss: 0.6084 - min_price_loss: 0.6013 - label_bhs_loss: 1.0751 - max_price_root_mean_squared_error: 0.7800 - min_price_root_mean_squared_error: 0.7754 - label_bhs_accuracy: 0.4313 - val_loss: 2.2731 - val_max_price_loss: 0.5721 - val_min_price_loss: 0.5545 - val_label_bhs_loss: 1.1465 - val_max_price_root_mean_squared_error: 0.7564 - val_min_price_root_mean_squared_error: 0.7446 - val_label_bhs_accuracy: 0.3402\n",
            "Epoch 2/3\n",
            "49/49 [==============================] - 3s 59ms/step - loss: 2.1276 - max_price_loss: 0.5239 - min_price_loss: 0.5567 - label_bhs_loss: 1.0470 - max_price_root_mean_squared_error: 0.7238 - min_price_root_mean_squared_error: 0.7461 - label_bhs_accuracy: 0.4580 - val_loss: 2.1945 - val_max_price_loss: 0.5520 - val_min_price_loss: 0.5370 - val_label_bhs_loss: 1.1055 - val_max_price_root_mean_squared_error: 0.7430 - val_min_price_root_mean_squared_error: 0.7328 - val_label_bhs_accuracy: 0.3723\n",
            "Epoch 3/3\n",
            "49/49 [==============================] - 3s 58ms/step - loss: 2.0906 - max_price_loss: 0.5071 - min_price_loss: 0.5453 - label_bhs_loss: 1.0383 - max_price_root_mean_squared_error: 0.7121 - min_price_root_mean_squared_error: 0.7384 - label_bhs_accuracy: 0.4687 - val_loss: 2.1766 - val_max_price_loss: 0.5442 - val_min_price_loss: 0.5316 - val_label_bhs_loss: 1.1009 - val_max_price_root_mean_squared_error: 0.7377 - val_min_price_root_mean_squared_error: 0.7291 - val_label_bhs_accuracy: 0.3773\n"
          ]
        },
        {
          "output_type": "stream",
          "name": "stderr",
          "text": [
            "/usr/local/lib/python3.10/dist-packages/keras/src/engine/training.py:3079: UserWarning: You are saving your model as an HDF5 file via `model.save()`. This file format is considered legacy. We recommend using instead the native Keras format, e.g. `model.save('my_model.keras')`.\n",
            "  saving_api.save_model(\n"
          ]
        }
      ],
      "source": [
        "savepath_model = \\\n",
        "    gd_mdl_folder+'FxBERT/ds_FxBERT_Feature_price5_seqlen'+str(config.seqlen)+'_'+colab_filename.replace('.ipynb', '.h5')\n",
        "savepath_model_weights = savepath_model.replace('.h5', '_weights.h5')\n",
        "savepath_model_checkpoint = savepath_model_weights.replace('.h5', '_cp.h5')\n",
        "\n",
        "checkpoint_cb = tf.keras.callbacks.ModelCheckpoint(savepath_model_checkpoint, monitor=\"val_loss\", verbose=0, mode=\"min\",\n",
        "                                                        save_best_only=True, save_weights_only=True, save_freq=\"epoch\" )\n",
        "early_stop = tf.keras.callbacks.EarlyStopping(monitor=\"val_loss\", patience=config.patience, verbose=1, mode=\"min\", restore_best_weights=True)\n",
        "\n",
        "pretrained_FxBERT = tf.keras.Model(FxBERT.input, FxBERT.get_layer(\"encoder_\"+str(config.NUM_LAYERS-1)+\"/ffn_layernormalization\").output)\n",
        "pretrained_FxBERT.trainable = False\n",
        "\n",
        "model = create_ds_FxBERT_price5(pretrained_FxBERT, config.maxlen, config.seqlen)\n",
        "#model.summary()\n",
        "\n",
        "model.compile(\n",
        "    optimizer=keras.optimizers.legacy.Adam(learning_rate=0.00001, decay=1e-6),\n",
        "    loss={\n",
        "            \"max_price\": keras.losses.MeanSquaredError(),\n",
        "            \"min_price\": keras.losses.MeanSquaredError(),\n",
        "            \"label_bhs\": keras.losses.SparseCategoricalCrossentropy(),\n",
        "        },\n",
        "    metrics={\n",
        "            \"max_price\": tf.keras.metrics.RootMeanSquaredError(),\n",
        "            \"min_price\": tf.keras.metrics.RootMeanSquaredError(),\n",
        "            \"label_bhs\": 'accuracy',\n",
        "        }\n",
        "    )\n",
        "model.fit(\n",
        "            x=downstream_train_incl_price5[0], y=downstream_train_incl_price5[1],\n",
        "            epochs=config.EPOCH,\n",
        "            validation_data=downstream_valid_incl_price5,\n",
        "            batch_size=config.BATCH_SIZE,\n",
        "            callbacks=[checkpoint_cb, early_stop]\n",
        "        )\n",
        "\n",
        "model.save(savepath_model)\n",
        "model.save_weights(savepath_model_weights)"
      ]
    },
    {
      "cell_type": "markdown",
      "metadata": {
        "id": "UZ-CKBEuyLyV"
      },
      "source": [
        "#### 4.5.3 Test result"
      ]
    },
    {
      "cell_type": "code",
      "execution_count": 59,
      "metadata": {
        "colab": {
          "base_uri": "https://localhost:8080/",
          "height": 1000
        },
        "id": "_X2aaAJ0xOdT",
        "outputId": "f137ebe1-4a81-4bfb-9e38-64d1a660978e"
      },
      "outputs": [
        {
          "output_type": "stream",
          "name": "stdout",
          "text": [
            "194/194 [==============================] - 1s 5ms/step\n",
            "194/194 [==============================] - 1s 5ms/step\n",
            "194/194 [==============================] - 1s 5ms/step\n",
            "get result for seqlen 10 label_bhs\n",
            "              precision    recall  f1-score   support\n",
            "\n",
            "         buy     0.4281    0.4547    0.4410      2703\n",
            "        hold     0.2989    0.1096    0.1604      1031\n",
            "        sell     0.3965    0.4745    0.4320      2468\n",
            "\n",
            "    accuracy                         0.4052      6202\n",
            "   macro avg     0.3745    0.3463    0.3445      6202\n",
            "weighted avg     0.3941    0.4052    0.3908      6202\n",
            "\n"
          ]
        },
        {
          "output_type": "display_data",
          "data": {
            "text/plain": [
              "<Figure size 1000x1000 with 2 Axes>"
            ],
            "image/png": "[encoded data removed]"
          },
          "metadata": {}
        },
        {
          "output_type": "stream",
          "name": "stdout",
          "text": [
            "get result for seqlen 10 maxprice\n",
            "FxBERT_Feature_price5_seqlen10:\n",
            "Mean Absolute Error: 0.17646110\n",
            "Mean Absolute Percentage Error: 0.13550016\n",
            "Mean Square Error: 0.06378591\n",
            "Root Mean Square Error: 0.25255872\n",
            "\n",
            "get result for seqlen 10 minprice\n",
            "FxBERT_Feature_price5_seqlen10:\n",
            "Mean Absolute Error: 0.17018071\n",
            "Mean Absolute Percentage Error: 0.13103835\n",
            "Mean Square Error: 0.06291370\n",
            "Root Mean Square Error: 0.25082603\n",
            "\n",
            "total time spent 4.687232971191406\n"
          ]
        }
      ],
      "source": [
        "df_result, _ = model_evaluation(model, savepath_model, df_result, downstream_test_incl_price5, config.seqlen, modelname='FxBERT_Feature_price5_seqlen'+str(config.seqlen))\n",
        "\n",
        "df_result.to_csv(gd_result_folder+result_filename, index=False)"
      ]
    },
    {
      "cell_type": "markdown",
      "metadata": {
        "id": "0LX5YcB-UKKU"
      },
      "source": [
        "### 4.6 V4 bert fine-tuning feature, price5"
      ]
    },
    {
      "cell_type": "markdown",
      "metadata": {
        "id": "DfQQYBOQVJM4"
      },
      "source": [
        "#### 4.6.1 create model - refer to 4.5.1"
      ]
    },
    {
      "cell_type": "markdown",
      "metadata": {
        "id": "l_WFCQtnVFff"
      },
      "source": [
        "#### 4.6.2 Train model"
      ]
    },
    {
      "cell_type": "code",
      "execution_count": 60,
      "metadata": {
        "colab": {
          "base_uri": "https://localhost:8080/"
        },
        "id": "FOcL966tUIk8",
        "outputId": "10f099c1-b053-41de-fa7c-4c248da0ae97"
      },
      "outputs": [
        {
          "output_type": "stream",
          "name": "stderr",
          "text": [
            "WARNING:tensorflow:Layer price5_scaled_LSTM will not use cuDNN kernels since it doesn't meet the criteria. It will use a generic GPU kernel as fallback when running on GPU.\n"
          ]
        },
        {
          "output_type": "stream",
          "name": "stdout",
          "text": [
            "Epoch 1/3\n",
            "49/49 [==============================] - 9s 103ms/step - loss: 2.4684 - max_price_loss: 0.7914 - min_price_loss: 0.6014 - label_bhs_loss: 1.0756 - max_price_root_mean_squared_error: 0.8896 - min_price_root_mean_squared_error: 0.7755 - label_bhs_accuracy: 0.4310 - val_loss: 2.2559 - val_max_price_loss: 0.5788 - val_min_price_loss: 0.5554 - val_label_bhs_loss: 1.1217 - val_max_price_root_mean_squared_error: 0.7608 - val_min_price_root_mean_squared_error: 0.7452 - val_label_bhs_accuracy: 0.3609\n",
            "Epoch 2/3\n",
            "49/49 [==============================] - 4s 85ms/step - loss: 2.1330 - max_price_loss: 0.5316 - min_price_loss: 0.5568 - label_bhs_loss: 1.0446 - max_price_root_mean_squared_error: 0.7291 - min_price_root_mean_squared_error: 0.7462 - label_bhs_accuracy: 0.4598 - val_loss: 2.1985 - val_max_price_loss: 0.5530 - val_min_price_loss: 0.5332 - val_label_bhs_loss: 1.1123 - val_max_price_root_mean_squared_error: 0.7436 - val_min_price_root_mean_squared_error: 0.7302 - val_label_bhs_accuracy: 0.3705\n",
            "Epoch 3/3\n",
            "49/49 [==============================] - 4s 85ms/step - loss: 2.0941 - max_price_loss: 0.5148 - min_price_loss: 0.5426 - label_bhs_loss: 1.0366 - max_price_root_mean_squared_error: 0.7175 - min_price_root_mean_squared_error: 0.7366 - label_bhs_accuracy: 0.4682 - val_loss: 2.1854 - val_max_price_loss: 0.5359 - val_min_price_loss: 0.5362 - val_label_bhs_loss: 1.1133 - val_max_price_root_mean_squared_error: 0.7321 - val_min_price_root_mean_squared_error: 0.7322 - val_label_bhs_accuracy: 0.3785\n"
          ]
        },
        {
          "output_type": "stream",
          "name": "stderr",
          "text": [
            "/usr/local/lib/python3.10/dist-packages/keras/src/engine/training.py:3079: UserWarning: You are saving your model as an HDF5 file via `model.save()`. This file format is considered legacy. We recommend using instead the native Keras format, e.g. `model.save('my_model.keras')`.\n",
            "  saving_api.save_model(\n"
          ]
        }
      ],
      "source": [
        "savepath_model = \\\n",
        "    gd_mdl_folder+'FxBERT/ds_FxBERT_Ftuning_price5_seqlen'+str(config.seqlen)+'_'+colab_filename.replace('.ipynb', '.h5')\n",
        "savepath_model_weights = savepath_model.replace('.h5', '_weights.h5')\n",
        "savepath_model_checkpoint = savepath_model_weights.replace('.h5', '_cp.h5')\n",
        "\n",
        "checkpoint_cb = tf.keras.callbacks.ModelCheckpoint(savepath_model_checkpoint, monitor=\"val_loss\", verbose=0, mode=\"min\",\n",
        "                                                        save_best_only=True, save_weights_only=True, save_freq=\"epoch\" )\n",
        "early_stop = tf.keras.callbacks.EarlyStopping(monitor=\"val_loss\", patience=config.patience, verbose=1, mode=\"min\", restore_best_weights=True)\n",
        "\n",
        "pretrained_FxBERT = tf.keras.Model(FxBERT.input, FxBERT.get_layer(\"encoder_\"+str(config.NUM_LAYERS-1)+\"/ffn_layernormalization\").output)\n",
        "pretrained_FxBERT.trainable = True\n",
        "\n",
        "model = create_ds_FxBERT_price5(pretrained_FxBERT, config.maxlen, config.seqlen)\n",
        "#model.summary()\n",
        "\n",
        "model.compile(\n",
        "    optimizer=keras.optimizers.legacy.Adam(learning_rate=0.00001, decay=1e-6),\n",
        "    loss={\n",
        "            \"max_price\": keras.losses.MeanSquaredError(),\n",
        "            \"min_price\": keras.losses.MeanSquaredError(),\n",
        "            \"label_bhs\": keras.losses.SparseCategoricalCrossentropy(),\n",
        "        },\n",
        "    metrics={\n",
        "            \"max_price\": tf.keras.metrics.RootMeanSquaredError(),\n",
        "            \"min_price\": tf.keras.metrics.RootMeanSquaredError(),\n",
        "            \"label_bhs\": 'accuracy',\n",
        "        }\n",
        "    )\n",
        "model.fit(\n",
        "            x=downstream_train_incl_price5[0], y=downstream_train_incl_price5[1],\n",
        "            epochs=config.EPOCH,\n",
        "            validation_data=downstream_valid_incl_price5,\n",
        "            batch_size=config.BATCH_SIZE,\n",
        "            callbacks=[checkpoint_cb, early_stop]\n",
        "        )\n",
        "\n",
        "model.save(savepath_model)\n",
        "model.save_weights(savepath_model_weights)"
      ]
    },
    {
      "cell_type": "markdown",
      "metadata": {
        "id": "UqABO0gtVBL4"
      },
      "source": [
        "#### 4.6.3 Test result"
      ]
    },
    {
      "cell_type": "code",
      "execution_count": 61,
      "metadata": {
        "colab": {
          "base_uri": "https://localhost:8080/",
          "height": 1000
        },
        "id": "6ENO84sRUvmu",
        "outputId": "3d4605df-5a7e-4ec4-b4ee-178d05f06b0f"
      },
      "outputs": [
        {
          "output_type": "stream",
          "name": "stdout",
          "text": [
            "194/194 [==============================] - 1s 5ms/step\n",
            "194/194 [==============================] - 1s 5ms/step\n",
            "194/194 [==============================] - 1s 5ms/step\n",
            "get result for seqlen 10 label_bhs\n",
            "              precision    recall  f1-score   support\n",
            "\n",
            "         buy     0.4309    0.7336    0.5429      2703\n",
            "        hold     0.2893    0.1339    0.1830      1031\n",
            "        sell     0.3980    0.1811    0.2490      2468\n",
            "\n",
            "    accuracy                         0.4141      6202\n",
            "   macro avg     0.3727    0.3495    0.3250      6202\n",
            "weighted avg     0.3943    0.4141    0.3661      6202\n",
            "\n"
          ]
        },
        {
          "output_type": "display_data",
          "data": {
            "text/plain": [
              "<Figure size 1000x1000 with 2 Axes>"
            ],
            "image/png": "[encoded data removed]"
          },
          "metadata": {}
        },
        {
          "output_type": "stream",
          "name": "stdout",
          "text": [
            "get result for seqlen 10 maxprice\n",
            "FxBERT_Ftuning_price5_seqlen10:\n",
            "Mean Absolute Error: 0.17376629\n",
            "Mean Absolute Percentage Error: 0.13345384\n",
            "Mean Square Error: 0.05944326\n",
            "Root Mean Square Error: 0.24380988\n",
            "\n",
            "get result for seqlen 10 minprice\n",
            "FxBERT_Ftuning_price5_seqlen10:\n",
            "Mean Absolute Error: 0.17652818\n",
            "Mean Absolute Percentage Error: 0.13593327\n",
            "Mean Square Error: 0.06456639\n",
            "Root Mean Square Error: 0.25409917\n",
            "\n",
            "total time spent 4.756909608840942\n"
          ]
        }
      ],
      "source": [
        "df_result, _ = model_evaluation(model, savepath_model, df_result, downstream_test_incl_price5, config.seqlen, modelname='FxBERT_Ftuning_price5_seqlen'+str(config.seqlen))\n",
        "\n",
        "df_result.to_csv(gd_result_folder+result_filename, index=False)"
      ]
    },
    {
      "cell_type": "code",
      "source": [
        "del downstream_train_incl_price5, downstream_valid_incl_price5, downstream_test_incl_price5\n",
        "gc.collect()"
      ],
      "metadata": {
        "colab": {
          "base_uri": "https://localhost:8080/"
        },
        "id": "jxie2iwTWCY6",
        "outputId": "03ef58cf-acc1-4476-ff10-3ece6c379ce7"
      },
      "execution_count": 62,
      "outputs": [
        {
          "output_type": "execute_result",
          "data": {
            "text/plain": [
              "29060"
            ]
          },
          "metadata": {},
          "execution_count": 62
        }
      ]
    },
    {
      "cell_type": "markdown",
      "metadata": {
        "id": "sJWi5RUEaeV5"
      },
      "source": [
        "### 4.7 V5 bert extract feature, price5, TA"
      ]
    },
    {
      "cell_type": "code",
      "source": [
        "downstream_train_incl_price5_ta = generateSeq4Downstream(df_downstream_train, ds_type=\"train\", input_type=\"incl_price5_ta\", seqlen=config.seqlen)\n",
        "downstream_valid_incl_price5_ta = generateSeq4Downstream(df_downstream_valid, ds_type=\"valid\", input_type=\"incl_price5_ta\", seqlen=config.seqlen)\n",
        "downstream_test_incl_price5_ta = generateSeq4Downstream(df_downstream_test, ds_type=\"test\", input_type=\"incl_price5_ta\", seqlen=config.seqlen)"
      ],
      "metadata": {
        "id": "XeMjD9eNWMgx"
      },
      "execution_count": 63,
      "outputs": []
    },
    {
      "cell_type": "markdown",
      "metadata": {
        "id": "pzBMDH5oaeV6"
      },
      "source": [
        "#### 4.7.1 create model"
      ]
    },
    {
      "cell_type": "code",
      "execution_count": 64,
      "metadata": {
        "id": "3NmirXTbanCb"
      },
      "outputs": [],
      "source": [
        "def create_ds_FxBERT_price5_TA(pretrained_FxBERT, maxlen, seqlen):\n",
        "    input_wtoken_candle = layers.Input((maxlen,), dtype=tf.int64, name='input_ids_candle')\n",
        "    input_wtoken_pos = layers.Input((maxlen,), dtype=tf.int64, name='input_ids_pos')\n",
        "    input_wtoken_die = layers.Input((maxlen,), dtype=tf.int64, name='input_ids_die')\n",
        "    input_wtoken_cle = layers.Input((maxlen,), dtype=tf.int64, name='input_ids_cle')\n",
        "    input_wtoken_ule = layers.Input((maxlen,), dtype=tf.int64, name='input_ids_ule')\n",
        "    input_wtoken_lle = layers.Input((maxlen,), dtype=tf.int64, name='input_ids_lle')\n",
        "    input_segment = layers.Input((maxlen,), dtype=tf.int64, name='segment_ids')\n",
        "    input_price5 = layers.Input((seqlen,5), dtype=tf.float32, name='prices5_scaled')\n",
        "    input_TA = layers.Input((seqlen, 15), dtype=tf.float32, name='ta_scaled')\n",
        "\n",
        "    FxBERT_output = pretrained_FxBERT(inputs=[input_wtoken_candle, input_wtoken_pos, input_wtoken_die, input_wtoken_cle, \\\n",
        "                                    input_wtoken_ule, input_wtoken_lle, input_segment])\n",
        "    FxBERT_output = layers.Flatten()(FxBERT_output)\n",
        "\n",
        "    price5_output = layers.LSTM(config.EMBED_DIM, activation=\"relu\", return_sequences=False, name='price5_scaled_LSTM')(input_price5)\n",
        "    TA_output = layers.LSTM(config.EMBED_DIM, activation=\"relu\", return_sequences=False, name='ta_scaled_LSTM')(input_TA)\n",
        "\n",
        "    combined_output = layers.Concatenate()([FxBERT_output, price5_output, TA_output])\n",
        "\n",
        "    normalized_output = layers.LayerNormalization(epsilon=1e-6)(combined_output)\n",
        "    regularization_layer = layers.LeakyReLU(alpha=0.1)(normalized_output)\n",
        "    dropout_layer = layers.Dropout(0.1)(regularization_layer)\n",
        "\n",
        "    x1 = layers.Dense(1024, activation=\"relu\")(dropout_layer)\n",
        "    x1 = layers.Dense(1024, activation=\"relu\")(x1)\n",
        "    x1 = layers.Dense(512, activation=\"relu\")(x1)\n",
        "    output_max_price = layers.Dense(1, activation=\"linear\", name='max_price')(x1)\n",
        "\n",
        "    x2 = layers.Dense(1024, activation=\"relu\")(dropout_layer)\n",
        "    x2 = layers.Dense(1024, activation=\"relu\")(x2)\n",
        "    x2 = layers.Dense(512, activation=\"relu\")(x2)\n",
        "    output_min_price = layers.Dense(1, activation=\"linear\", name='min_price')(x2)\n",
        "\n",
        "    x3 = layers.Dense(1024, activation=\"relu\")(dropout_layer)\n",
        "    x3 = layers.Dense(1024, activation=\"relu\")(x3)\n",
        "    x3 = layers.Dense(512, activation=\"relu\")(x3)\n",
        "    output_label_bhs = layers.Dense(3, activation=\"softmax\", name='label_bhs')(x3)\n",
        "\n",
        "    model = keras.Model(\n",
        "            inputs=[input_wtoken_candle, input_wtoken_pos, input_wtoken_die, input_wtoken_cle,\n",
        "                                    input_wtoken_ule, input_wtoken_lle, input_segment, input_price5, input_TA],\n",
        "            outputs=[output_max_price, output_min_price, output_label_bhs])\n",
        "\n",
        "    return model"
      ]
    },
    {
      "cell_type": "markdown",
      "metadata": {
        "id": "nyBy-wzgaeV6"
      },
      "source": [
        "#### 4.7.2 Train model"
      ]
    },
    {
      "cell_type": "code",
      "execution_count": 65,
      "metadata": {
        "colab": {
          "base_uri": "https://localhost:8080/"
        },
        "id": "FIlFCWhGaeV6",
        "outputId": "417a8cf9-9827-46ac-e59e-a96a234ce378"
      },
      "outputs": [
        {
          "output_type": "stream",
          "name": "stderr",
          "text": [
            "WARNING:tensorflow:Layer price5_scaled_LSTM will not use cuDNN kernels since it doesn't meet the criteria. It will use a generic GPU kernel as fallback when running on GPU.\n",
            "WARNING:tensorflow:Layer ta_scaled_LSTM will not use cuDNN kernels since it doesn't meet the criteria. It will use a generic GPU kernel as fallback when running on GPU.\n"
          ]
        },
        {
          "output_type": "stream",
          "name": "stdout",
          "text": [
            "Epoch 1/3\n",
            "49/49 [==============================] - 8s 81ms/step - loss: 2.2527 - max_price_loss: 0.5761 - min_price_loss: 0.6075 - label_bhs_loss: 1.0691 - max_price_root_mean_squared_error: 0.7590 - min_price_root_mean_squared_error: 0.7794 - label_bhs_accuracy: 0.4385 - val_loss: 2.2412 - val_max_price_loss: 0.5798 - val_min_price_loss: 0.5561 - val_label_bhs_loss: 1.1053 - val_max_price_root_mean_squared_error: 0.7614 - val_min_price_root_mean_squared_error: 0.7457 - val_label_bhs_accuracy: 0.3789\n",
            "Epoch 2/3\n",
            "49/49 [==============================] - 3s 63ms/step - loss: 2.1149 - max_price_loss: 0.5117 - min_price_loss: 0.5588 - label_bhs_loss: 1.0445 - max_price_root_mean_squared_error: 0.7153 - min_price_root_mean_squared_error: 0.7475 - label_bhs_accuracy: 0.4617 - val_loss: 2.2029 - val_max_price_loss: 0.5657 - val_min_price_loss: 0.5374 - val_label_bhs_loss: 1.0998 - val_max_price_root_mean_squared_error: 0.7521 - val_min_price_root_mean_squared_error: 0.7331 - val_label_bhs_accuracy: 0.3872\n",
            "Epoch 3/3\n",
            "49/49 [==============================] - 3s 63ms/step - loss: 2.0761 - max_price_loss: 0.4971 - min_price_loss: 0.5435 - label_bhs_loss: 1.0355 - max_price_root_mean_squared_error: 0.7051 - min_price_root_mean_squared_error: 0.7372 - label_bhs_accuracy: 0.4691 - val_loss: 2.1737 - val_max_price_loss: 0.5406 - val_min_price_loss: 0.5323 - val_label_bhs_loss: 1.1008 - val_max_price_root_mean_squared_error: 0.7352 - val_min_price_root_mean_squared_error: 0.7296 - val_label_bhs_accuracy: 0.3855\n"
          ]
        },
        {
          "output_type": "stream",
          "name": "stderr",
          "text": [
            "/usr/local/lib/python3.10/dist-packages/keras/src/engine/training.py:3079: UserWarning: You are saving your model as an HDF5 file via `model.save()`. This file format is considered legacy. We recommend using instead the native Keras format, e.g. `model.save('my_model.keras')`.\n",
            "  saving_api.save_model(\n"
          ]
        }
      ],
      "source": [
        "savepath_model = \\\n",
        "    gd_mdl_folder+'FxBERT/ds_FxBERT_Feature_price5_TA_seqlen'+str(config.seqlen)+'_'+colab_filename.replace('.ipynb', '.h5')\n",
        "savepath_model_weights = savepath_model.replace('.h5', '_weights.h5')\n",
        "savepath_model_checkpoint = savepath_model_weights.replace('.h5', '_cp.h5')\n",
        "\n",
        "checkpoint_cb = tf.keras.callbacks.ModelCheckpoint(savepath_model_checkpoint, monitor=\"val_loss\", verbose=0, mode=\"min\",\n",
        "                                                        save_best_only=True, save_weights_only=True, save_freq=\"epoch\" )\n",
        "early_stop = tf.keras.callbacks.EarlyStopping(monitor=\"val_loss\", patience=config.patience, verbose=1, mode=\"min\", restore_best_weights=True)\n",
        "\n",
        "pretrained_FxBERT = tf.keras.Model(FxBERT.input, FxBERT.get_layer(\"encoder_\"+str(config.NUM_LAYERS-1)+\"/ffn_layernormalization\").output)\n",
        "pretrained_FxBERT.trainable = False\n",
        "\n",
        "model = create_ds_FxBERT_price5_TA(pretrained_FxBERT, config.maxlen, config.seqlen)\n",
        "#model.summary()\n",
        "\n",
        "model.compile(\n",
        "    optimizer=keras.optimizers.legacy.Adam(learning_rate=0.00001, decay=1e-6),\n",
        "    loss={\n",
        "            \"max_price\": keras.losses.MeanSquaredError(),\n",
        "            \"min_price\": keras.losses.MeanSquaredError(),\n",
        "            \"label_bhs\": keras.losses.SparseCategoricalCrossentropy(),\n",
        "        },\n",
        "    metrics={\n",
        "            \"max_price\": tf.keras.metrics.RootMeanSquaredError(),\n",
        "            \"min_price\": tf.keras.metrics.RootMeanSquaredError(),\n",
        "            \"label_bhs\": 'accuracy',\n",
        "        }\n",
        "    )\n",
        "model.fit(\n",
        "            x=downstream_train_incl_price5_ta[0], y=downstream_train_incl_price5_ta[1],\n",
        "            epochs=config.EPOCH,\n",
        "            validation_data=downstream_valid_incl_price5_ta,\n",
        "            batch_size=config.BATCH_SIZE,\n",
        "            callbacks=[checkpoint_cb, early_stop]\n",
        "        )\n",
        "\n",
        "model.save(savepath_model)\n",
        "model.save_weights(savepath_model_weights)"
      ]
    },
    {
      "cell_type": "markdown",
      "metadata": {
        "id": "cJBtqsiuaeV6"
      },
      "source": [
        "#### 4.7.3 Test result"
      ]
    },
    {
      "cell_type": "code",
      "execution_count": 66,
      "metadata": {
        "colab": {
          "base_uri": "https://localhost:8080/",
          "height": 1000
        },
        "id": "pb8Fq_2IaeV6",
        "outputId": "ee4012d1-8c0a-4675-857d-fc0deaad2f43"
      },
      "outputs": [
        {
          "output_type": "stream",
          "name": "stdout",
          "text": [
            "194/194 [==============================] - 2s 6ms/step\n",
            "194/194 [==============================] - 1s 6ms/step\n",
            "194/194 [==============================] - 1s 6ms/step\n",
            "get result for seqlen 10 label_bhs\n",
            "              precision    recall  f1-score   support\n",
            "\n",
            "         buy     0.4326    0.6578    0.5219      2703\n",
            "        hold     0.2496    0.1707    0.2028      1031\n",
            "        sell     0.4081    0.2293    0.2936      2468\n",
            "\n",
            "    accuracy                         0.4063      6202\n",
            "   macro avg     0.3634    0.3526    0.3395      6202\n",
            "weighted avg     0.3924    0.4063    0.3780      6202\n",
            "\n"
          ]
        },
        {
          "output_type": "display_data",
          "data": {
            "text/plain": [
              "<Figure size 1000x1000 with 2 Axes>"
            ],
            "image/png": "[encoded data removed]"
          },
          "metadata": {}
        },
        {
          "output_type": "stream",
          "name": "stdout",
          "text": [
            "get result for seqlen 10 maxprice\n",
            "FxBERT_Feature_price5_TA_seqlen10:\n",
            "Mean Absolute Error: 0.16893059\n",
            "Mean Absolute Percentage Error: 0.12968527\n",
            "Mean Square Error: 0.05924486\n",
            "Root Mean Square Error: 0.24340266\n",
            "\n",
            "get result for seqlen 10 minprice\n",
            "FxBERT_Feature_price5_TA_seqlen10:\n",
            "Mean Absolute Error: 0.17085130\n",
            "Mean Absolute Percentage Error: 0.13148460\n",
            "Mean Square Error: 0.06248005\n",
            "Root Mean Square Error: 0.24996010\n",
            "\n",
            "total time spent 5.604613780975342\n"
          ]
        }
      ],
      "source": [
        "df_result, _ = model_evaluation(model, savepath_model, df_result, downstream_test_incl_price5_ta, config.seqlen, modelname='FxBERT_Feature_price5_TA_seqlen'+str(config.seqlen), )\n",
        "\n",
        "df_result.to_csv(gd_result_folder+result_filename, index=False)"
      ]
    },
    {
      "cell_type": "markdown",
      "metadata": {
        "id": "46pzRgMFWSc2"
      },
      "source": [
        "### 4.8 V6 bert fine-tuning, price5, TA"
      ]
    },
    {
      "cell_type": "markdown",
      "metadata": {
        "id": "rRI2GMvrWeF9"
      },
      "source": [
        "#### 4.8.1 create model - refer to 4.7.1"
      ]
    },
    {
      "cell_type": "markdown",
      "metadata": {
        "id": "PwTLkDjcWhDU"
      },
      "source": [
        "#### 4.8.2 Train model"
      ]
    },
    {
      "cell_type": "code",
      "execution_count": 67,
      "metadata": {
        "colab": {
          "base_uri": "https://localhost:8080/"
        },
        "id": "nmaLAtGRW0By",
        "outputId": "bfb748c5-16bc-4b15-e6aa-f42892515ed8"
      },
      "outputs": [
        {
          "output_type": "stream",
          "name": "stderr",
          "text": [
            "WARNING:tensorflow:Layer price5_scaled_LSTM will not use cuDNN kernels since it doesn't meet the criteria. It will use a generic GPU kernel as fallback when running on GPU.\n",
            "WARNING:tensorflow:Layer ta_scaled_LSTM will not use cuDNN kernels since it doesn't meet the criteria. It will use a generic GPU kernel as fallback when running on GPU.\n"
          ]
        },
        {
          "output_type": "stream",
          "name": "stdout",
          "text": [
            "Epoch 1/3\n",
            "49/49 [==============================] - 10s 111ms/step - loss: 2.2496 - max_price_loss: 0.5857 - min_price_loss: 0.5886 - label_bhs_loss: 1.0754 - max_price_root_mean_squared_error: 0.7653 - min_price_root_mean_squared_error: 0.7672 - label_bhs_accuracy: 0.4323 - val_loss: 2.2093 - val_max_price_loss: 0.5642 - val_min_price_loss: 0.5415 - val_label_bhs_loss: 1.1037 - val_max_price_root_mean_squared_error: 0.7511 - val_min_price_root_mean_squared_error: 0.7358 - val_label_bhs_accuracy: 0.3715\n",
            "Epoch 2/3\n",
            "49/49 [==============================] - 4s 76ms/step - loss: 2.0991 - max_price_loss: 0.5117 - min_price_loss: 0.5458 - label_bhs_loss: 1.0416 - max_price_root_mean_squared_error: 0.7153 - min_price_root_mean_squared_error: 0.7388 - label_bhs_accuracy: 0.4641 - val_loss: 2.2117 - val_max_price_loss: 0.5778 - val_min_price_loss: 0.5303 - val_label_bhs_loss: 1.1036 - val_max_price_root_mean_squared_error: 0.7601 - val_min_price_root_mean_squared_error: 0.7282 - val_label_bhs_accuracy: 0.3780\n",
            "Epoch 3/3\n",
            "49/49 [==============================] - 4s 89ms/step - loss: 2.0581 - max_price_loss: 0.4927 - min_price_loss: 0.5307 - label_bhs_loss: 1.0346 - max_price_root_mean_squared_error: 0.7020 - min_price_root_mean_squared_error: 0.7285 - label_bhs_accuracy: 0.4689 - val_loss: 2.1630 - val_max_price_loss: 0.5431 - val_min_price_loss: 0.5204 - val_label_bhs_loss: 1.0994 - val_max_price_root_mean_squared_error: 0.7370 - val_min_price_root_mean_squared_error: 0.7214 - val_label_bhs_accuracy: 0.3881\n"
          ]
        },
        {
          "output_type": "stream",
          "name": "stderr",
          "text": [
            "/usr/local/lib/python3.10/dist-packages/keras/src/engine/training.py:3079: UserWarning: You are saving your model as an HDF5 file via `model.save()`. This file format is considered legacy. We recommend using instead the native Keras format, e.g. `model.save('my_model.keras')`.\n",
            "  saving_api.save_model(\n"
          ]
        }
      ],
      "source": [
        "savepath_model = \\\n",
        "    gd_mdl_folder+'FxBERT/ds_FxBERT_Ftuning_price5_TA_seqlen'+str(config.seqlen)+'_'+colab_filename.replace('.ipynb', '.h5')\n",
        "savepath_model_weights = savepath_model.replace('.h5', '_weights.h5')\n",
        "savepath_model_checkpoint = savepath_model_weights.replace('.h5', '_cp.h5')\n",
        "\n",
        "checkpoint_cb = tf.keras.callbacks.ModelCheckpoint(savepath_model_checkpoint, monitor=\"val_loss\", verbose=0, mode=\"min\",\n",
        "                                                        save_best_only=True, save_weights_only=True, save_freq=\"epoch\" )\n",
        "early_stop = tf.keras.callbacks.EarlyStopping(monitor=\"val_loss\", patience=config.patience, verbose=1, mode=\"min\", restore_best_weights=True)\n",
        "\n",
        "pretrained_FxBERT = tf.keras.Model(FxBERT.input, FxBERT.get_layer(\"encoder_\"+str(config.NUM_LAYERS-1)+\"/ffn_layernormalization\").output)\n",
        "pretrained_FxBERT.trainable = True\n",
        "\n",
        "model = create_ds_FxBERT_price5_TA(pretrained_FxBERT, config.maxlen, config.seqlen)\n",
        "#model.summary()\n",
        "\n",
        "model.compile(\n",
        "    optimizer=keras.optimizers.legacy.Adam(learning_rate=0.00001, decay=1e-6),\n",
        "    loss={\n",
        "            \"max_price\": keras.losses.MeanSquaredError(),\n",
        "            \"min_price\": keras.losses.MeanSquaredError(),\n",
        "            \"label_bhs\": keras.losses.SparseCategoricalCrossentropy(),\n",
        "        },\n",
        "    metrics={\n",
        "            \"max_price\": tf.keras.metrics.RootMeanSquaredError(),\n",
        "            \"min_price\": tf.keras.metrics.RootMeanSquaredError(),\n",
        "            \"label_bhs\": 'accuracy',\n",
        "        }\n",
        "    )\n",
        "model.fit(\n",
        "            x=downstream_train_incl_price5_ta[0], y=downstream_train_incl_price5_ta[1],\n",
        "            epochs=config.EPOCH,\n",
        "            validation_data=downstream_valid_incl_price5_ta,\n",
        "            batch_size=config.BATCH_SIZE,\n",
        "            callbacks=[checkpoint_cb, early_stop]\n",
        "        )\n",
        "\n",
        "model.save(savepath_model)\n",
        "model.save_weights(savepath_model_weights)"
      ]
    },
    {
      "cell_type": "markdown",
      "metadata": {
        "id": "cwBQFVXwW9El"
      },
      "source": [
        "#### 4.8.3 Test result"
      ]
    },
    {
      "cell_type": "code",
      "execution_count": 68,
      "metadata": {
        "colab": {
          "base_uri": "https://localhost:8080/",
          "height": 1000
        },
        "id": "NuAHZjORXEwg",
        "outputId": "2f0cafc5-3cbb-4ff6-c8bd-be4aa87700df"
      },
      "outputs": [
        {
          "output_type": "stream",
          "name": "stdout",
          "text": [
            "194/194 [==============================] - 2s 6ms/step\n",
            "194/194 [==============================] - 1s 6ms/step\n",
            "194/194 [==============================] - 1s 6ms/step\n",
            "get result for seqlen 10 label_bhs\n",
            "              precision    recall  f1-score   support\n",
            "\n",
            "         buy     0.4302    0.6382    0.5139      2703\n",
            "        hold     0.2957    0.1319    0.1824      1031\n",
            "        sell     0.3909    0.2743    0.3224      2468\n",
            "\n",
            "    accuracy                         0.4092      6202\n",
            "   macro avg     0.3722    0.3481    0.3396      6202\n",
            "weighted avg     0.3922    0.4092    0.3826      6202\n",
            "\n"
          ]
        },
        {
          "output_type": "display_data",
          "data": {
            "text/plain": [
              "<Figure size 1000x1000 with 2 Axes>"
            ],
            "image/png": "[encoded data removed]"
          },
          "metadata": {}
        },
        {
          "output_type": "stream",
          "name": "stdout",
          "text": [
            "get result for seqlen 10 maxprice\n",
            "FxBERT_Ftuning_price5_TA_seqlen10:\n",
            "Mean Absolute Error: 0.16986441\n",
            "Mean Absolute Percentage Error: 0.13043699\n",
            "Mean Square Error: 0.06009889\n",
            "Root Mean Square Error: 0.24515074\n",
            "\n",
            "get result for seqlen 10 minprice\n",
            "FxBERT_Ftuning_price5_TA_seqlen10:\n",
            "Mean Absolute Error: 0.16879381\n",
            "Mean Absolute Percentage Error: 0.12993366\n",
            "Mean Square Error: 0.06107022\n",
            "Root Mean Square Error: 0.24712389\n",
            "\n",
            "total time spent 5.627118825912476\n"
          ]
        }
      ],
      "source": [
        "df_result, _ = model_evaluation(model, savepath_model, df_result, downstream_test_incl_price5_ta, config.seqlen, modelname='FxBERT_Ftuning_price5_TA_seqlen'+str(config.seqlen))\n",
        "\n",
        "df_result.to_csv(gd_result_folder+result_filename, index=False)"
      ]
    },
    {
      "cell_type": "code",
      "source": [
        "del downstream_train_incl_price5_ta, downstream_valid_incl_price5_ta, downstream_test_incl_price5_ta\n",
        "gc.collect()"
      ],
      "metadata": {
        "colab": {
          "base_uri": "https://localhost:8080/"
        },
        "id": "MlZ4CBgGWNo8",
        "outputId": "31c3d0ab-27b0-46df-bf2a-5c01326f37e8"
      },
      "execution_count": 69,
      "outputs": [
        {
          "output_type": "execute_result",
          "data": {
            "text/plain": [
              "8745"
            ]
          },
          "metadata": {},
          "execution_count": 69
        }
      ]
    }
  ],
  "metadata": {
    "accelerator": "GPU",
    "colab": {
      "collapsed_sections": [
        "S_ni5PTmwcZd",
        "EJ9QbqNTxmaD",
        "pzBMDH5oaeV6",
        "bAy5Cs8KHefF"
      ],
      "machine_shape": "hm",
      "toc_visible": true,
      "provenance": [],
      "gpuClass": "premium",
      "gpuType": "A100"
    },
    "kernelspec": {
      "display_name": "Python 3",
      "name": "python3"
    },
    "language_info": {
      "codemirror_mode": {
        "name": "ipython",
        "version": 3
      },
      "file_extension": ".py",
      "mimetype": "text/x-python",
      "name": "python",
      "nbconvert_exporter": "python",
      "pygments_lexer": "ipython3",
      "version": "3.7.12"
    }
  },
  "nbformat": 4,
  "nbformat_minor": 0
}